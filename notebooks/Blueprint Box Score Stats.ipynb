{
 "cells": [
  {
   "cell_type": "markdown",
   "metadata": {},
   "source": [
    "### what do we want in a box score?"
   ]
  },
  {
   "cell_type": "code",
   "execution_count": 1,
   "metadata": {
    "collapsed": true
   },
   "outputs": [],
   "source": [
    "#total stats and per-point-played stats\n",
    "#from left to right\n",
    "#name,position\n",
    "#points played (o/d)\n",
    "#touches, +/-, goals, assists, hockey assists, d's, turns\n",
    "#yardage gained (throw/rec)\n",
    "#score rate\n",
    "#team totals at the bottom"
   ]
  },
  {
   "cell_type": "code",
   "execution_count": 2,
   "metadata": {
    "collapsed": true
   },
   "outputs": [],
   "source": [
    "#set up a way to host all "
   ]
  },
  {
   "cell_type": "code",
   "execution_count": 3,
   "metadata": {
    "collapsed": true
   },
   "outputs": [],
   "source": [
    "#determine the qualifier between o points and d points\n",
    "#how many more yards are gained on o points than d points\n",
    "#can use this as some sort of measuring stick to qualify players offensive performance\n",
    "\n",
    "#automatically categorize handlers, cutters, and flex by some formula of their data\n",
    "#automatically categorize offense and defense players by some formula of their data"
   ]
  },
  {
   "cell_type": "code",
   "execution_count": 4,
   "metadata": {
    "collapsed": true
   },
   "outputs": [],
   "source": [
    "import pandas as pd\n",
    "import numpy as np\n",
    "import matplotlib.pyplot as plt\n",
    "%matplotlib inline\n",
    "import os\n",
    "from pdb import set_trace\n",
    "import glob"
   ]
  },
  {
   "cell_type": "markdown",
   "metadata": {},
   "source": [
    "### COMBINE GAMExGAME POSSESSION DATA INTO ONE POSS_DF"
   ]
  },
  {
   "cell_type": "code",
   "execution_count": 5,
   "metadata": {
    "collapsed": true
   },
   "outputs": [],
   "source": [
    "#give file path abbreviation\n",
    "poss_path_abbr = '/Users/maxcohen/Documents/Blueprint Stats/Possessions vs.*.csv'\n",
    "#create list of files that match the possession convention\n",
    "file_list = glob.glob(poss_path_abbr)\n",
    "#create an empty df\n",
    "poss_df = pd.DataFrame()\n",
    "#loop through each file in the list\n",
    "for file in file_list:\n",
    "    #add an oppnent depending on the name of the file\n",
    "    opponent = file.split('vs. ')[1].split(' 2019')[0]\n",
    "    df_ = pd.read_csv(file)\n",
    "    #add oppenent name column\n",
    "    df_['opponent'] = opponent\n",
    "    #append file to the overall poss_df\n",
    "    poss_df = poss_df.append(df_)"
   ]
  },
  {
   "cell_type": "markdown",
   "metadata": {},
   "source": [
    "### COMBINE GAMExGAME PASSES DATA INTO ONE PASSES_DF"
   ]
  },
  {
   "cell_type": "code",
   "execution_count": 6,
   "metadata": {
    "collapsed": true
   },
   "outputs": [],
   "source": [
    "#give file path abbreviation\n",
    "passes_path_abbr = '/Users/maxcohen/Documents/Blueprint Stats/Passes vs.*.csv'\n",
    "#create list of files that match the passes convention\n",
    "file_list = glob.glob(passes_path_abbr)\n",
    "#create an empty df\n",
    "passes_df = pd.DataFrame()\n",
    "#loop through each file in the list\n",
    "for file in file_list:\n",
    "    #add an oppnent depending on the name of the file\n",
    "    opponent = file.split('vs. ')[1].split(' 2019')[0]\n",
    "    df_ = pd.read_csv(file)\n",
    "    #add oppenent name column\n",
    "    df_['opponent'] = opponent\n",
    "    #append file to the overall passes_df\n",
    "    passes_df = passes_df.append(df_)\n",
    "\n",
    "#remove all of the empty data with no thrower nor reciever\n",
    "passes_df = passes_df.dropna(subset=['Thrower', 'Receiver'])"
   ]
  },
  {
   "cell_type": "markdown",
   "metadata": {},
   "source": [
    "### MERGE THE PASSES_DF WITH THE POSS_DF"
   ]
  },
  {
   "cell_type": "code",
   "execution_count": 7,
   "metadata": {
    "collapsed": true
   },
   "outputs": [],
   "source": [
    "full_poss_df = pd.merge(passes_df,poss_df,how='left',on=['Point','Possession','opponent'],copy=False)\n",
    "full_poss_df = full_poss_df.reset_index(drop=True)\n",
    "full_poss_df = full_poss_df.drop(columns=['Created_y','Start X (0 -> 1 = left sideline -> right sideline)_y',\n",
    "                  'Start Y (0 -> 1 = back of opponent endzone -> back of own endzone)_y'])\n",
    "full_poss_df.to_csv('/Users/maxcohen/Documents/Blueprint Stats/BP_2019_Full_Possession_Data.csv')"
   ]
  },
  {
   "cell_type": "code",
   "execution_count": 8,
   "metadata": {
    "collapsed": true
   },
   "outputs": [],
   "source": [
    "full_poss_df.columns = [x.replace('_x','') for x in full_poss_df.columns]"
   ]
  },
  {
   "cell_type": "code",
   "execution_count": 9,
   "metadata": {
    "collapsed": true
   },
   "outputs": [
    {
     "data": {
      "text/plain": [
       "Index(['Created', 'Point', 'Possession', 'Thrower', 'Receiver', 'Turnover?',\n",
       "       'Thrower error?', 'Receiver error?', 'Throw to endzone?', 'Assist?',\n",
       "       'Secondary assist?', 'Huck?', 'Swing?', 'Dump?', 'From sideline?',\n",
       "       'To sideline?', 'Distance (m)', 'Forward distance (m)',\n",
       "       'Left-to-right distance (m)',\n",
       "       'Start X (0 -> 1 = left sideline -> right sideline)',\n",
       "       'Start Y (0 -> 1 = back of opponent endzone -> back of own endzone)',\n",
       "       'End X (0 -> 1 = left sideline -> right sideline)',\n",
       "       'End Y (0 -> 1 = back of opponent endzone -> back of own endzone)',\n",
       "       'opponent', 'Started point on offense?', 'Scored?', 'Initiator',\n",
       "       'Passes', 'Secondary assist', 'Assist', 'Goal', 'Thrower error',\n",
       "       'Receiver error', 'Stalled out'],\n",
       "      dtype='object')"
      ]
     },
     "execution_count": 9,
     "metadata": {},
     "output_type": "execute_result"
    }
   ],
   "source": [
    "full_poss_df.columns"
   ]
  },
  {
   "cell_type": "code",
   "execution_count": 10,
   "metadata": {
    "collapsed": true
   },
   "outputs": [
    {
     "data": {
      "text/plain": [
       "array(['Lost  Boys', 'HIP', 'Vault', 'Big Wrench', 'Citywide', 'Shade',\n",
       "       'Red Circus', 'El Nino', 'Floodwall', 'Lantern'], dtype=object)"
      ]
     },
     "execution_count": 10,
     "metadata": {},
     "output_type": "execute_result"
    }
   ],
   "source": [
    "full_poss_df['opponent'].unique()"
   ]
  },
  {
   "cell_type": "code",
   "execution_count": 11,
   "metadata": {
    "collapsed": true
   },
   "outputs": [],
   "source": [
    "opponent_grp = full_poss_df.groupby(['opponent'])"
   ]
  },
  {
   "cell_type": "code",
   "execution_count": 12,
   "metadata": {
    "collapsed": true
   },
   "outputs": [
    {
     "data": {
      "text/html": [
       "<div>\n",
       "<style scoped>\n",
       "    .dataframe tbody tr th:only-of-type {\n",
       "        vertical-align: middle;\n",
       "    }\n",
       "\n",
       "    .dataframe tbody tr th {\n",
       "        vertical-align: top;\n",
       "    }\n",
       "\n",
       "    .dataframe thead th {\n",
       "        text-align: right;\n",
       "    }\n",
       "</style>\n",
       "<table border=\"1\" class=\"dataframe\">\n",
       "  <thead>\n",
       "    <tr style=\"text-align: right;\">\n",
       "      <th></th>\n",
       "      <th>Created</th>\n",
       "      <th>Point</th>\n",
       "      <th>Possession</th>\n",
       "      <th>Thrower</th>\n",
       "      <th>Receiver</th>\n",
       "      <th>Turnover?</th>\n",
       "      <th>Thrower error?</th>\n",
       "      <th>Receiver error?</th>\n",
       "      <th>Throw to endzone?</th>\n",
       "      <th>Assist?</th>\n",
       "      <th>...</th>\n",
       "      <th>Started point on offense?</th>\n",
       "      <th>Scored?</th>\n",
       "      <th>Initiator</th>\n",
       "      <th>Passes</th>\n",
       "      <th>Secondary assist</th>\n",
       "      <th>Assist</th>\n",
       "      <th>Goal</th>\n",
       "      <th>Thrower error</th>\n",
       "      <th>Receiver error</th>\n",
       "      <th>Stalled out</th>\n",
       "    </tr>\n",
       "  </thead>\n",
       "  <tbody>\n",
       "    <tr>\n",
       "      <td>494</td>\n",
       "      <td>2020-02-17 15:52:29</td>\n",
       "      <td>2</td>\n",
       "      <td>1</td>\n",
       "      <td>Evan Ma</td>\n",
       "      <td>Owen Marschall</td>\n",
       "      <td>0</td>\n",
       "      <td>0</td>\n",
       "      <td>0</td>\n",
       "      <td>0</td>\n",
       "      <td>0</td>\n",
       "      <td>...</td>\n",
       "      <td>1</td>\n",
       "      <td>1</td>\n",
       "      <td>Evan Ma</td>\n",
       "      <td>14</td>\n",
       "      <td>Evan Ma</td>\n",
       "      <td>Max Cohen</td>\n",
       "      <td>Eliot Bemis</td>\n",
       "      <td>NaN</td>\n",
       "      <td>NaN</td>\n",
       "      <td>NaN</td>\n",
       "    </tr>\n",
       "    <tr>\n",
       "      <td>495</td>\n",
       "      <td>2020-02-17 15:52:33</td>\n",
       "      <td>2</td>\n",
       "      <td>1</td>\n",
       "      <td>Owen Marschall</td>\n",
       "      <td>Evan Ma</td>\n",
       "      <td>0</td>\n",
       "      <td>0</td>\n",
       "      <td>0</td>\n",
       "      <td>0</td>\n",
       "      <td>0</td>\n",
       "      <td>...</td>\n",
       "      <td>1</td>\n",
       "      <td>1</td>\n",
       "      <td>Evan Ma</td>\n",
       "      <td>14</td>\n",
       "      <td>Evan Ma</td>\n",
       "      <td>Max Cohen</td>\n",
       "      <td>Eliot Bemis</td>\n",
       "      <td>NaN</td>\n",
       "      <td>NaN</td>\n",
       "      <td>NaN</td>\n",
       "    </tr>\n",
       "    <tr>\n",
       "      <td>496</td>\n",
       "      <td>2020-02-17 15:52:41</td>\n",
       "      <td>2</td>\n",
       "      <td>1</td>\n",
       "      <td>Evan Ma</td>\n",
       "      <td>Owen Marschall</td>\n",
       "      <td>0</td>\n",
       "      <td>0</td>\n",
       "      <td>0</td>\n",
       "      <td>0</td>\n",
       "      <td>0</td>\n",
       "      <td>...</td>\n",
       "      <td>1</td>\n",
       "      <td>1</td>\n",
       "      <td>Evan Ma</td>\n",
       "      <td>14</td>\n",
       "      <td>Evan Ma</td>\n",
       "      <td>Max Cohen</td>\n",
       "      <td>Eliot Bemis</td>\n",
       "      <td>NaN</td>\n",
       "      <td>NaN</td>\n",
       "      <td>NaN</td>\n",
       "    </tr>\n",
       "    <tr>\n",
       "      <td>497</td>\n",
       "      <td>2020-02-17 15:52:50</td>\n",
       "      <td>2</td>\n",
       "      <td>1</td>\n",
       "      <td>Owen Marschall</td>\n",
       "      <td>Max Cohen</td>\n",
       "      <td>0</td>\n",
       "      <td>0</td>\n",
       "      <td>0</td>\n",
       "      <td>0</td>\n",
       "      <td>0</td>\n",
       "      <td>...</td>\n",
       "      <td>1</td>\n",
       "      <td>1</td>\n",
       "      <td>Evan Ma</td>\n",
       "      <td>14</td>\n",
       "      <td>Evan Ma</td>\n",
       "      <td>Max Cohen</td>\n",
       "      <td>Eliot Bemis</td>\n",
       "      <td>NaN</td>\n",
       "      <td>NaN</td>\n",
       "      <td>NaN</td>\n",
       "    </tr>\n",
       "    <tr>\n",
       "      <td>498</td>\n",
       "      <td>2020-02-17 15:52:54</td>\n",
       "      <td>2</td>\n",
       "      <td>1</td>\n",
       "      <td>Max Cohen</td>\n",
       "      <td>Ian McInerney</td>\n",
       "      <td>0</td>\n",
       "      <td>0</td>\n",
       "      <td>0</td>\n",
       "      <td>0</td>\n",
       "      <td>0</td>\n",
       "      <td>...</td>\n",
       "      <td>1</td>\n",
       "      <td>1</td>\n",
       "      <td>Evan Ma</td>\n",
       "      <td>14</td>\n",
       "      <td>Evan Ma</td>\n",
       "      <td>Max Cohen</td>\n",
       "      <td>Eliot Bemis</td>\n",
       "      <td>NaN</td>\n",
       "      <td>NaN</td>\n",
       "      <td>NaN</td>\n",
       "    </tr>\n",
       "    <tr>\n",
       "      <td>...</td>\n",
       "      <td>...</td>\n",
       "      <td>...</td>\n",
       "      <td>...</td>\n",
       "      <td>...</td>\n",
       "      <td>...</td>\n",
       "      <td>...</td>\n",
       "      <td>...</td>\n",
       "      <td>...</td>\n",
       "      <td>...</td>\n",
       "      <td>...</td>\n",
       "      <td>...</td>\n",
       "      <td>...</td>\n",
       "      <td>...</td>\n",
       "      <td>...</td>\n",
       "      <td>...</td>\n",
       "      <td>...</td>\n",
       "      <td>...</td>\n",
       "      <td>...</td>\n",
       "      <td>...</td>\n",
       "      <td>...</td>\n",
       "      <td>...</td>\n",
       "    </tr>\n",
       "    <tr>\n",
       "      <td>578</td>\n",
       "      <td>2020-02-17 16:24:23</td>\n",
       "      <td>19</td>\n",
       "      <td>1</td>\n",
       "      <td>Victor Kao</td>\n",
       "      <td>Nadav Pearl</td>\n",
       "      <td>0</td>\n",
       "      <td>0</td>\n",
       "      <td>0</td>\n",
       "      <td>0</td>\n",
       "      <td>0</td>\n",
       "      <td>...</td>\n",
       "      <td>0</td>\n",
       "      <td>1</td>\n",
       "      <td>Nadav Pearl</td>\n",
       "      <td>8</td>\n",
       "      <td>Victor Kao</td>\n",
       "      <td>Nadav Pearl</td>\n",
       "      <td>Josh Imhoff</td>\n",
       "      <td>NaN</td>\n",
       "      <td>NaN</td>\n",
       "      <td>NaN</td>\n",
       "    </tr>\n",
       "    <tr>\n",
       "      <td>579</td>\n",
       "      <td>2020-02-17 16:24:27</td>\n",
       "      <td>19</td>\n",
       "      <td>1</td>\n",
       "      <td>Nadav Pearl</td>\n",
       "      <td>Josh Imhoff</td>\n",
       "      <td>0</td>\n",
       "      <td>0</td>\n",
       "      <td>0</td>\n",
       "      <td>1</td>\n",
       "      <td>1</td>\n",
       "      <td>...</td>\n",
       "      <td>0</td>\n",
       "      <td>1</td>\n",
       "      <td>Nadav Pearl</td>\n",
       "      <td>8</td>\n",
       "      <td>Victor Kao</td>\n",
       "      <td>Nadav Pearl</td>\n",
       "      <td>Josh Imhoff</td>\n",
       "      <td>NaN</td>\n",
       "      <td>NaN</td>\n",
       "      <td>NaN</td>\n",
       "    </tr>\n",
       "    <tr>\n",
       "      <td>580</td>\n",
       "      <td>2020-02-17 16:25:52</td>\n",
       "      <td>20</td>\n",
       "      <td>1</td>\n",
       "      <td>Ruozhou Ye</td>\n",
       "      <td>Jesse Gan</td>\n",
       "      <td>0</td>\n",
       "      <td>0</td>\n",
       "      <td>0</td>\n",
       "      <td>0</td>\n",
       "      <td>0</td>\n",
       "      <td>...</td>\n",
       "      <td>0</td>\n",
       "      <td>1</td>\n",
       "      <td>Ruozhou Ye</td>\n",
       "      <td>3</td>\n",
       "      <td>Jesse Gan</td>\n",
       "      <td>Geo Zheng</td>\n",
       "      <td>Swan</td>\n",
       "      <td>NaN</td>\n",
       "      <td>NaN</td>\n",
       "      <td>NaN</td>\n",
       "    </tr>\n",
       "    <tr>\n",
       "      <td>581</td>\n",
       "      <td>2020-02-17 16:25:54</td>\n",
       "      <td>20</td>\n",
       "      <td>1</td>\n",
       "      <td>Jesse Gan</td>\n",
       "      <td>Geo Zheng</td>\n",
       "      <td>0</td>\n",
       "      <td>0</td>\n",
       "      <td>0</td>\n",
       "      <td>0</td>\n",
       "      <td>0</td>\n",
       "      <td>...</td>\n",
       "      <td>0</td>\n",
       "      <td>1</td>\n",
       "      <td>Ruozhou Ye</td>\n",
       "      <td>3</td>\n",
       "      <td>Jesse Gan</td>\n",
       "      <td>Geo Zheng</td>\n",
       "      <td>Swan</td>\n",
       "      <td>NaN</td>\n",
       "      <td>NaN</td>\n",
       "      <td>NaN</td>\n",
       "    </tr>\n",
       "    <tr>\n",
       "      <td>582</td>\n",
       "      <td>2020-02-17 16:25:57</td>\n",
       "      <td>20</td>\n",
       "      <td>1</td>\n",
       "      <td>Geo Zheng</td>\n",
       "      <td>Swan</td>\n",
       "      <td>0</td>\n",
       "      <td>0</td>\n",
       "      <td>0</td>\n",
       "      <td>1</td>\n",
       "      <td>1</td>\n",
       "      <td>...</td>\n",
       "      <td>0</td>\n",
       "      <td>1</td>\n",
       "      <td>Ruozhou Ye</td>\n",
       "      <td>3</td>\n",
       "      <td>Jesse Gan</td>\n",
       "      <td>Geo Zheng</td>\n",
       "      <td>Swan</td>\n",
       "      <td>NaN</td>\n",
       "      <td>NaN</td>\n",
       "      <td>NaN</td>\n",
       "    </tr>\n",
       "  </tbody>\n",
       "</table>\n",
       "<p>89 rows × 34 columns</p>\n",
       "</div>"
      ],
      "text/plain": [
       "                 Created  Point  Possession         Thrower        Receiver  \\\n",
       "494  2020-02-17 15:52:29      2           1         Evan Ma  Owen Marschall   \n",
       "495  2020-02-17 15:52:33      2           1  Owen Marschall         Evan Ma   \n",
       "496  2020-02-17 15:52:41      2           1         Evan Ma  Owen Marschall   \n",
       "497  2020-02-17 15:52:50      2           1  Owen Marschall       Max Cohen   \n",
       "498  2020-02-17 15:52:54      2           1       Max Cohen   Ian McInerney   \n",
       "..                   ...    ...         ...             ...             ...   \n",
       "578  2020-02-17 16:24:23     19           1      Victor Kao     Nadav Pearl   \n",
       "579  2020-02-17 16:24:27     19           1     Nadav Pearl     Josh Imhoff   \n",
       "580  2020-02-17 16:25:52     20           1      Ruozhou Ye       Jesse Gan   \n",
       "581  2020-02-17 16:25:54     20           1       Jesse Gan       Geo Zheng   \n",
       "582  2020-02-17 16:25:57     20           1       Geo Zheng            Swan   \n",
       "\n",
       "     Turnover?  Thrower error?  Receiver error?  Throw to endzone?  Assist?  \\\n",
       "494          0               0                0                  0        0   \n",
       "495          0               0                0                  0        0   \n",
       "496          0               0                0                  0        0   \n",
       "497          0               0                0                  0        0   \n",
       "498          0               0                0                  0        0   \n",
       "..         ...             ...              ...                ...      ...   \n",
       "578          0               0                0                  0        0   \n",
       "579          0               0                0                  1        1   \n",
       "580          0               0                0                  0        0   \n",
       "581          0               0                0                  0        0   \n",
       "582          0               0                0                  1        1   \n",
       "\n",
       "     ...  Started point on offense?  Scored?    Initiator  Passes  \\\n",
       "494  ...                          1        1      Evan Ma      14   \n",
       "495  ...                          1        1      Evan Ma      14   \n",
       "496  ...                          1        1      Evan Ma      14   \n",
       "497  ...                          1        1      Evan Ma      14   \n",
       "498  ...                          1        1      Evan Ma      14   \n",
       "..   ...                        ...      ...          ...     ...   \n",
       "578  ...                          0        1  Nadav Pearl       8   \n",
       "579  ...                          0        1  Nadav Pearl       8   \n",
       "580  ...                          0        1   Ruozhou Ye       3   \n",
       "581  ...                          0        1   Ruozhou Ye       3   \n",
       "582  ...                          0        1   Ruozhou Ye       3   \n",
       "\n",
       "     Secondary assist       Assist         Goal  Thrower error  \\\n",
       "494           Evan Ma    Max Cohen  Eliot Bemis            NaN   \n",
       "495           Evan Ma    Max Cohen  Eliot Bemis            NaN   \n",
       "496           Evan Ma    Max Cohen  Eliot Bemis            NaN   \n",
       "497           Evan Ma    Max Cohen  Eliot Bemis            NaN   \n",
       "498           Evan Ma    Max Cohen  Eliot Bemis            NaN   \n",
       "..                ...          ...          ...            ...   \n",
       "578        Victor Kao  Nadav Pearl  Josh Imhoff            NaN   \n",
       "579        Victor Kao  Nadav Pearl  Josh Imhoff            NaN   \n",
       "580         Jesse Gan    Geo Zheng         Swan            NaN   \n",
       "581         Jesse Gan    Geo Zheng         Swan            NaN   \n",
       "582         Jesse Gan    Geo Zheng         Swan            NaN   \n",
       "\n",
       "     Receiver error  Stalled out  \n",
       "494             NaN          NaN  \n",
       "495             NaN          NaN  \n",
       "496             NaN          NaN  \n",
       "497             NaN          NaN  \n",
       "498             NaN          NaN  \n",
       "..              ...          ...  \n",
       "578             NaN          NaN  \n",
       "579             NaN          NaN  \n",
       "580             NaN          NaN  \n",
       "581             NaN          NaN  \n",
       "582             NaN          NaN  \n",
       "\n",
       "[89 rows x 34 columns]"
      ]
     },
     "execution_count": 12,
     "metadata": {},
     "output_type": "execute_result"
    }
   ],
   "source": [
    "opponent_grp.get_group('Citywide')"
   ]
  },
  {
   "cell_type": "code",
   "execution_count": 13,
   "metadata": {
    "collapsed": true
   },
   "outputs": [
    {
     "data": {
      "text/plain": [
       "Receiver\n",
       "Victor Kao        0.179487\n",
       "Max Cohen         0.170940\n",
       "Carter Thallon    0.102564\n",
       "Eliot Bemis       0.076923\n",
       "Sam Pollack       0.076923\n",
       "Jeff Voss         0.051282\n",
       "Owen Marschall    0.051282\n",
       "Andrew Edelman    0.042735\n",
       "Geo Zheng         0.042735\n",
       "Gabe Stump        0.034188\n",
       "Odie              0.034188\n",
       "Ruozhou Ye        0.025641\n",
       "Sam Feder         0.025641\n",
       "Carter Wang       0.017094\n",
       "Jon Kwan          0.017094\n",
       "Towell            0.017094\n",
       "Ian McInerney     0.008547\n",
       "Josh Imhoff       0.008547\n",
       "Stouf             0.008547\n",
       "Swan              0.008547\n",
       "Name: Receiver, dtype: float64"
      ]
     },
     "execution_count": 13,
     "metadata": {},
     "output_type": "execute_result"
    }
   ],
   "source": [
    "opponent_grp['Receiver'].value_counts(normalize=True).head(300).loc['Red Circus']"
   ]
  },
  {
   "cell_type": "code",
   "execution_count": 14,
   "metadata": {
    "collapsed": true
   },
   "outputs": [
    {
     "data": {
      "text/plain": [
       "median    8.000000\n",
       "mean      8.573034\n",
       "Name: Citywide, dtype: float64"
      ]
     },
     "execution_count": 14,
     "metadata": {},
     "output_type": "execute_result"
    }
   ],
   "source": [
    "opponent_grp['Passes'].agg(['median','mean']).loc['Citywide']"
   ]
  },
  {
   "cell_type": "code",
   "execution_count": 15,
   "metadata": {
    "collapsed": true
   },
   "outputs": [],
   "source": [
    "for x in full_poss_df.index:\n",
    "    full_poss_df.loc[x,'possession_index'] = full_poss_df.loc[x,'opponent'] + ' | ' + \\\n",
    "    str(full_poss_df.loc[x,'Point']) + '.' + \\\n",
    "    str(full_poss_df.loc[x,'Possession'])"
   ]
  },
  {
   "cell_type": "code",
   "execution_count": 16,
   "metadata": {
    "collapsed": true
   },
   "outputs": [],
   "source": [
    "unique_poss_df = full_poss_df.drop_duplicates(['possession_index','Passes'])"
   ]
  },
  {
   "cell_type": "code",
   "execution_count": 17,
   "metadata": {
    "collapsed": true
   },
   "outputs": [
    {
     "data": {
      "text/html": [
       "<div>\n",
       "<style scoped>\n",
       "    .dataframe tbody tr th:only-of-type {\n",
       "        vertical-align: middle;\n",
       "    }\n",
       "\n",
       "    .dataframe tbody tr th {\n",
       "        vertical-align: top;\n",
       "    }\n",
       "\n",
       "    .dataframe thead th {\n",
       "        text-align: right;\n",
       "    }\n",
       "</style>\n",
       "<table border=\"1\" class=\"dataframe\">\n",
       "  <thead>\n",
       "    <tr style=\"text-align: right;\">\n",
       "      <th></th>\n",
       "      <th>Created</th>\n",
       "      <th>Point</th>\n",
       "      <th>Possession</th>\n",
       "      <th>Thrower</th>\n",
       "      <th>Receiver</th>\n",
       "      <th>Turnover?</th>\n",
       "      <th>Thrower error?</th>\n",
       "      <th>Receiver error?</th>\n",
       "      <th>Throw to endzone?</th>\n",
       "      <th>Assist?</th>\n",
       "      <th>...</th>\n",
       "      <th>Scored?</th>\n",
       "      <th>Initiator</th>\n",
       "      <th>Passes</th>\n",
       "      <th>Secondary assist</th>\n",
       "      <th>Assist</th>\n",
       "      <th>Goal</th>\n",
       "      <th>Thrower error</th>\n",
       "      <th>Receiver error</th>\n",
       "      <th>Stalled out</th>\n",
       "      <th>possession_index</th>\n",
       "    </tr>\n",
       "  </thead>\n",
       "  <tbody>\n",
       "    <tr>\n",
       "      <td>0</td>\n",
       "      <td>2020-02-26 22:56:29</td>\n",
       "      <td>1</td>\n",
       "      <td>1</td>\n",
       "      <td>Evan Ma</td>\n",
       "      <td>Max Cohen</td>\n",
       "      <td>0</td>\n",
       "      <td>0</td>\n",
       "      <td>0</td>\n",
       "      <td>0</td>\n",
       "      <td>0</td>\n",
       "      <td>...</td>\n",
       "      <td>1</td>\n",
       "      <td>Evan Ma</td>\n",
       "      <td>7</td>\n",
       "      <td>Carter Thallon</td>\n",
       "      <td>Odie</td>\n",
       "      <td>Eliot Bemis</td>\n",
       "      <td>NaN</td>\n",
       "      <td>NaN</td>\n",
       "      <td>NaN</td>\n",
       "      <td>Lost  Boys | 1.1</td>\n",
       "    </tr>\n",
       "    <tr>\n",
       "      <td>7</td>\n",
       "      <td>2020-02-26 22:58:06</td>\n",
       "      <td>2</td>\n",
       "      <td>1</td>\n",
       "      <td>Andrew Edelman</td>\n",
       "      <td>Josh Imhoff</td>\n",
       "      <td>0</td>\n",
       "      <td>0</td>\n",
       "      <td>0</td>\n",
       "      <td>0</td>\n",
       "      <td>0</td>\n",
       "      <td>...</td>\n",
       "      <td>1</td>\n",
       "      <td>Andrew Edelman</td>\n",
       "      <td>2</td>\n",
       "      <td>Andrew Edelman</td>\n",
       "      <td>Josh Imhoff</td>\n",
       "      <td>Sam Alston</td>\n",
       "      <td>NaN</td>\n",
       "      <td>NaN</td>\n",
       "      <td>NaN</td>\n",
       "      <td>Lost  Boys | 2.1</td>\n",
       "    </tr>\n",
       "    <tr>\n",
       "      <td>9</td>\n",
       "      <td>2020-02-26 22:59:21</td>\n",
       "      <td>3</td>\n",
       "      <td>1</td>\n",
       "      <td>Andrew Edelman</td>\n",
       "      <td>Geo Zheng</td>\n",
       "      <td>0</td>\n",
       "      <td>0</td>\n",
       "      <td>0</td>\n",
       "      <td>0</td>\n",
       "      <td>0</td>\n",
       "      <td>...</td>\n",
       "      <td>0</td>\n",
       "      <td>Andrew Edelman</td>\n",
       "      <td>5</td>\n",
       "      <td>NaN</td>\n",
       "      <td>NaN</td>\n",
       "      <td>NaN</td>\n",
       "      <td>Stouf</td>\n",
       "      <td>NaN</td>\n",
       "      <td>NaN</td>\n",
       "      <td>Lost  Boys | 3.1</td>\n",
       "    </tr>\n",
       "    <tr>\n",
       "      <td>14</td>\n",
       "      <td>2020-02-26 23:00:22</td>\n",
       "      <td>3</td>\n",
       "      <td>2</td>\n",
       "      <td>Andrew Edelman</td>\n",
       "      <td>Towell</td>\n",
       "      <td>0</td>\n",
       "      <td>0</td>\n",
       "      <td>0</td>\n",
       "      <td>0</td>\n",
       "      <td>0</td>\n",
       "      <td>...</td>\n",
       "      <td>0</td>\n",
       "      <td>Andrew Edelman</td>\n",
       "      <td>3</td>\n",
       "      <td>NaN</td>\n",
       "      <td>NaN</td>\n",
       "      <td>NaN</td>\n",
       "      <td>Andrew Edelman</td>\n",
       "      <td>NaN</td>\n",
       "      <td>NaN</td>\n",
       "      <td>Lost  Boys | 3.2</td>\n",
       "    </tr>\n",
       "    <tr>\n",
       "      <td>17</td>\n",
       "      <td>2020-02-26 23:08:14</td>\n",
       "      <td>4</td>\n",
       "      <td>1</td>\n",
       "      <td>Evan Ma</td>\n",
       "      <td>Max Cohen</td>\n",
       "      <td>0</td>\n",
       "      <td>0</td>\n",
       "      <td>0</td>\n",
       "      <td>0</td>\n",
       "      <td>0</td>\n",
       "      <td>...</td>\n",
       "      <td>0</td>\n",
       "      <td>Evan Ma</td>\n",
       "      <td>6</td>\n",
       "      <td>NaN</td>\n",
       "      <td>NaN</td>\n",
       "      <td>NaN</td>\n",
       "      <td>Evan Ma</td>\n",
       "      <td>NaN</td>\n",
       "      <td>NaN</td>\n",
       "      <td>Lost  Boys | 4.1</td>\n",
       "    </tr>\n",
       "    <tr>\n",
       "      <td>...</td>\n",
       "      <td>...</td>\n",
       "      <td>...</td>\n",
       "      <td>...</td>\n",
       "      <td>...</td>\n",
       "      <td>...</td>\n",
       "      <td>...</td>\n",
       "      <td>...</td>\n",
       "      <td>...</td>\n",
       "      <td>...</td>\n",
       "      <td>...</td>\n",
       "      <td>...</td>\n",
       "      <td>...</td>\n",
       "      <td>...</td>\n",
       "      <td>...</td>\n",
       "      <td>...</td>\n",
       "      <td>...</td>\n",
       "      <td>...</td>\n",
       "      <td>...</td>\n",
       "      <td>...</td>\n",
       "      <td>...</td>\n",
       "      <td>...</td>\n",
       "    </tr>\n",
       "    <tr>\n",
       "      <td>1140</td>\n",
       "      <td>2020-02-18 18:56:30</td>\n",
       "      <td>10</td>\n",
       "      <td>1</td>\n",
       "      <td>Max Cohen</td>\n",
       "      <td>Carter Thallon</td>\n",
       "      <td>0</td>\n",
       "      <td>0</td>\n",
       "      <td>0</td>\n",
       "      <td>0</td>\n",
       "      <td>0</td>\n",
       "      <td>...</td>\n",
       "      <td>0</td>\n",
       "      <td>Max Cohen</td>\n",
       "      <td>6</td>\n",
       "      <td>NaN</td>\n",
       "      <td>NaN</td>\n",
       "      <td>NaN</td>\n",
       "      <td>Jeff Voss</td>\n",
       "      <td>NaN</td>\n",
       "      <td>NaN</td>\n",
       "      <td>Lantern | 10.1</td>\n",
       "    </tr>\n",
       "    <tr>\n",
       "      <td>1146</td>\n",
       "      <td>2020-02-18 18:57:27</td>\n",
       "      <td>10</td>\n",
       "      <td>2</td>\n",
       "      <td>Geo Zheng</td>\n",
       "      <td>Max Cohen</td>\n",
       "      <td>0</td>\n",
       "      <td>0</td>\n",
       "      <td>0</td>\n",
       "      <td>0</td>\n",
       "      <td>0</td>\n",
       "      <td>...</td>\n",
       "      <td>1</td>\n",
       "      <td>Geo Zheng</td>\n",
       "      <td>7</td>\n",
       "      <td>Jeff Voss</td>\n",
       "      <td>Carter Thallon</td>\n",
       "      <td>Sam Pollack</td>\n",
       "      <td>NaN</td>\n",
       "      <td>NaN</td>\n",
       "      <td>NaN</td>\n",
       "      <td>Lantern | 10.2</td>\n",
       "    </tr>\n",
       "    <tr>\n",
       "      <td>1153</td>\n",
       "      <td>2020-02-18 18:59:11</td>\n",
       "      <td>12</td>\n",
       "      <td>1</td>\n",
       "      <td>Owen Marschall</td>\n",
       "      <td>Max Cohen</td>\n",
       "      <td>0</td>\n",
       "      <td>0</td>\n",
       "      <td>0</td>\n",
       "      <td>0</td>\n",
       "      <td>0</td>\n",
       "      <td>...</td>\n",
       "      <td>0</td>\n",
       "      <td>Owen Marschall</td>\n",
       "      <td>4</td>\n",
       "      <td>NaN</td>\n",
       "      <td>NaN</td>\n",
       "      <td>NaN</td>\n",
       "      <td>Odie</td>\n",
       "      <td>NaN</td>\n",
       "      <td>NaN</td>\n",
       "      <td>Lantern | 12.1</td>\n",
       "    </tr>\n",
       "    <tr>\n",
       "      <td>1157</td>\n",
       "      <td>2020-02-18 19:00:03</td>\n",
       "      <td>12</td>\n",
       "      <td>2</td>\n",
       "      <td>Max Cohen</td>\n",
       "      <td>Odie</td>\n",
       "      <td>0</td>\n",
       "      <td>0</td>\n",
       "      <td>0</td>\n",
       "      <td>1</td>\n",
       "      <td>1</td>\n",
       "      <td>...</td>\n",
       "      <td>1</td>\n",
       "      <td>Max Cohen</td>\n",
       "      <td>1</td>\n",
       "      <td>NaN</td>\n",
       "      <td>Max Cohen</td>\n",
       "      <td>Odie</td>\n",
       "      <td>NaN</td>\n",
       "      <td>NaN</td>\n",
       "      <td>NaN</td>\n",
       "      <td>Lantern | 12.2</td>\n",
       "    </tr>\n",
       "    <tr>\n",
       "      <td>1158</td>\n",
       "      <td>2020-02-18 19:01:10</td>\n",
       "      <td>14</td>\n",
       "      <td>1</td>\n",
       "      <td>Owen Marschall</td>\n",
       "      <td>Max Cohen</td>\n",
       "      <td>0</td>\n",
       "      <td>0</td>\n",
       "      <td>0</td>\n",
       "      <td>0</td>\n",
       "      <td>0</td>\n",
       "      <td>...</td>\n",
       "      <td>1</td>\n",
       "      <td>Owen Marschall</td>\n",
       "      <td>5</td>\n",
       "      <td>Jeff Voss</td>\n",
       "      <td>Carter Thallon</td>\n",
       "      <td>Odie</td>\n",
       "      <td>NaN</td>\n",
       "      <td>NaN</td>\n",
       "      <td>NaN</td>\n",
       "      <td>Lantern | 14.1</td>\n",
       "    </tr>\n",
       "  </tbody>\n",
       "</table>\n",
       "<p>213 rows × 35 columns</p>\n",
       "</div>"
      ],
      "text/plain": [
       "                  Created  Point  Possession         Thrower        Receiver  \\\n",
       "0     2020-02-26 22:56:29      1           1         Evan Ma       Max Cohen   \n",
       "7     2020-02-26 22:58:06      2           1  Andrew Edelman     Josh Imhoff   \n",
       "9     2020-02-26 22:59:21      3           1  Andrew Edelman       Geo Zheng   \n",
       "14    2020-02-26 23:00:22      3           2  Andrew Edelman          Towell   \n",
       "17    2020-02-26 23:08:14      4           1         Evan Ma       Max Cohen   \n",
       "...                   ...    ...         ...             ...             ...   \n",
       "1140  2020-02-18 18:56:30     10           1       Max Cohen  Carter Thallon   \n",
       "1146  2020-02-18 18:57:27     10           2       Geo Zheng       Max Cohen   \n",
       "1153  2020-02-18 18:59:11     12           1  Owen Marschall       Max Cohen   \n",
       "1157  2020-02-18 19:00:03     12           2       Max Cohen            Odie   \n",
       "1158  2020-02-18 19:01:10     14           1  Owen Marschall       Max Cohen   \n",
       "\n",
       "      Turnover?  Thrower error?  Receiver error?  Throw to endzone?  Assist?  \\\n",
       "0             0               0                0                  0        0   \n",
       "7             0               0                0                  0        0   \n",
       "9             0               0                0                  0        0   \n",
       "14            0               0                0                  0        0   \n",
       "17            0               0                0                  0        0   \n",
       "...         ...             ...              ...                ...      ...   \n",
       "1140          0               0                0                  0        0   \n",
       "1146          0               0                0                  0        0   \n",
       "1153          0               0                0                  0        0   \n",
       "1157          0               0                0                  1        1   \n",
       "1158          0               0                0                  0        0   \n",
       "\n",
       "      ...  Scored?       Initiator  Passes  Secondary assist          Assist  \\\n",
       "0     ...        1         Evan Ma       7    Carter Thallon            Odie   \n",
       "7     ...        1  Andrew Edelman       2    Andrew Edelman     Josh Imhoff   \n",
       "9     ...        0  Andrew Edelman       5               NaN             NaN   \n",
       "14    ...        0  Andrew Edelman       3               NaN             NaN   \n",
       "17    ...        0         Evan Ma       6               NaN             NaN   \n",
       "...   ...      ...             ...     ...               ...             ...   \n",
       "1140  ...        0       Max Cohen       6               NaN             NaN   \n",
       "1146  ...        1       Geo Zheng       7         Jeff Voss  Carter Thallon   \n",
       "1153  ...        0  Owen Marschall       4               NaN             NaN   \n",
       "1157  ...        1       Max Cohen       1               NaN       Max Cohen   \n",
       "1158  ...        1  Owen Marschall       5         Jeff Voss  Carter Thallon   \n",
       "\n",
       "             Goal   Thrower error  Receiver error  Stalled out  \\\n",
       "0     Eliot Bemis             NaN             NaN          NaN   \n",
       "7      Sam Alston             NaN             NaN          NaN   \n",
       "9             NaN           Stouf             NaN          NaN   \n",
       "14            NaN  Andrew Edelman             NaN          NaN   \n",
       "17            NaN         Evan Ma             NaN          NaN   \n",
       "...           ...             ...             ...          ...   \n",
       "1140          NaN       Jeff Voss             NaN          NaN   \n",
       "1146  Sam Pollack             NaN             NaN          NaN   \n",
       "1153          NaN            Odie             NaN          NaN   \n",
       "1157         Odie             NaN             NaN          NaN   \n",
       "1158         Odie             NaN             NaN          NaN   \n",
       "\n",
       "      possession_index  \n",
       "0     Lost  Boys | 1.1  \n",
       "7     Lost  Boys | 2.1  \n",
       "9     Lost  Boys | 3.1  \n",
       "14    Lost  Boys | 3.2  \n",
       "17    Lost  Boys | 4.1  \n",
       "...                ...  \n",
       "1140    Lantern | 10.1  \n",
       "1146    Lantern | 10.2  \n",
       "1153    Lantern | 12.1  \n",
       "1157    Lantern | 12.2  \n",
       "1158    Lantern | 14.1  \n",
       "\n",
       "[213 rows x 35 columns]"
      ]
     },
     "execution_count": 17,
     "metadata": {},
     "output_type": "execute_result"
    }
   ],
   "source": [
    "unique_poss_df"
   ]
  },
  {
   "cell_type": "code",
   "execution_count": 18,
   "metadata": {
    "collapsed": true
   },
   "outputs": [
    {
     "data": {
      "image/png": "[encoded data removed]",
      "text/plain": [
       "<Figure size 432x288 with 1 Axes>"
      ]
     },
     "metadata": {
      "needs_background": "light"
     },
     "output_type": "display_data"
    }
   ],
   "source": [
    "#create passes per possession bar chart\n",
    "from collections import Counter\n",
    "\n",
    "pass_count_list = sorted(unique_poss_df['Passes'])\n",
    "c = Counter(pass_count_list)\n",
    "plt.bar(c.keys(),c.values(),label='Total Possessions')\n",
    "\n",
    "score_unique_poss_df = unique_poss_df[unique_poss_df['Scored?'] == 1]\n",
    "score_pass_count_list = sorted(score_unique_poss_df['Passes'])\n",
    "d = Counter(score_pass_count_list)\n",
    "plt.bar(d.keys(),d.values(),label='Scoring Possessions')\n",
    "\n",
    "plt.xticks(np.arange(1,max(sorted(np.unique(pass_count_list)))+1))\n",
    "plt.yticks(np.arange(max(c.values())+1,step=2))\n",
    "plt.xlabel('Passes')\n",
    "plt.ylabel('# Possessions')\n",
    "plt.title('Passes per Possession')\n",
    "plt.legend()\n",
    "plt.savefig('/Users/maxcohen/Documents/Blueprint Stats/figs/passes_per_possession.png', dpi=300)\n",
    "plt.show()"
   ]
  },
  {
   "cell_type": "code",
   "execution_count": 19,
   "metadata": {
    "collapsed": true
   },
   "outputs": [
    {
     "data": {
      "text/html": [
       "<div>\n",
       "<style scoped>\n",
       "    .dataframe tbody tr th:only-of-type {\n",
       "        vertical-align: middle;\n",
       "    }\n",
       "\n",
       "    .dataframe tbody tr th {\n",
       "        vertical-align: top;\n",
       "    }\n",
       "\n",
       "    .dataframe thead th {\n",
       "        text-align: right;\n",
       "    }\n",
       "</style>\n",
       "<table border=\"1\" class=\"dataframe\">\n",
       "  <thead>\n",
       "    <tr style=\"text-align: right;\">\n",
       "      <th></th>\n",
       "      <th>Created</th>\n",
       "      <th>Point</th>\n",
       "      <th>Possession</th>\n",
       "      <th>Thrower</th>\n",
       "      <th>Receiver</th>\n",
       "      <th>Turnover?</th>\n",
       "      <th>Thrower error?</th>\n",
       "      <th>Receiver error?</th>\n",
       "      <th>Throw to endzone?</th>\n",
       "      <th>Assist?</th>\n",
       "      <th>...</th>\n",
       "      <th>Scored?</th>\n",
       "      <th>Initiator</th>\n",
       "      <th>Passes</th>\n",
       "      <th>Secondary assist</th>\n",
       "      <th>Assist</th>\n",
       "      <th>Goal</th>\n",
       "      <th>Thrower error</th>\n",
       "      <th>Receiver error</th>\n",
       "      <th>Stalled out</th>\n",
       "      <th>possession_index</th>\n",
       "    </tr>\n",
       "  </thead>\n",
       "  <tbody>\n",
       "    <tr>\n",
       "      <td>868</td>\n",
       "      <td>2020-02-27 22:02:48</td>\n",
       "      <td>9</td>\n",
       "      <td>1</td>\n",
       "      <td>Evan Ma</td>\n",
       "      <td>Max Cohen</td>\n",
       "      <td>0</td>\n",
       "      <td>0</td>\n",
       "      <td>0</td>\n",
       "      <td>0</td>\n",
       "      <td>0</td>\n",
       "      <td>...</td>\n",
       "      <td>1</td>\n",
       "      <td>Evan Ma</td>\n",
       "      <td>19</td>\n",
       "      <td>Ian McInerney</td>\n",
       "      <td>Eliot Bemis</td>\n",
       "      <td>Gabe Stump</td>\n",
       "      <td>NaN</td>\n",
       "      <td>NaN</td>\n",
       "      <td>NaN</td>\n",
       "      <td>El Nino | 9.1</td>\n",
       "    </tr>\n",
       "    <tr>\n",
       "      <td>869</td>\n",
       "      <td>2020-02-27 22:02:54</td>\n",
       "      <td>9</td>\n",
       "      <td>1</td>\n",
       "      <td>Max Cohen</td>\n",
       "      <td>Victor Kao</td>\n",
       "      <td>0</td>\n",
       "      <td>0</td>\n",
       "      <td>0</td>\n",
       "      <td>0</td>\n",
       "      <td>0</td>\n",
       "      <td>...</td>\n",
       "      <td>1</td>\n",
       "      <td>Evan Ma</td>\n",
       "      <td>19</td>\n",
       "      <td>Ian McInerney</td>\n",
       "      <td>Eliot Bemis</td>\n",
       "      <td>Gabe Stump</td>\n",
       "      <td>NaN</td>\n",
       "      <td>NaN</td>\n",
       "      <td>NaN</td>\n",
       "      <td>El Nino | 9.1</td>\n",
       "    </tr>\n",
       "    <tr>\n",
       "      <td>870</td>\n",
       "      <td>2020-02-27 22:02:59</td>\n",
       "      <td>9</td>\n",
       "      <td>1</td>\n",
       "      <td>Victor Kao</td>\n",
       "      <td>Max Cohen</td>\n",
       "      <td>0</td>\n",
       "      <td>0</td>\n",
       "      <td>0</td>\n",
       "      <td>0</td>\n",
       "      <td>0</td>\n",
       "      <td>...</td>\n",
       "      <td>1</td>\n",
       "      <td>Evan Ma</td>\n",
       "      <td>19</td>\n",
       "      <td>Ian McInerney</td>\n",
       "      <td>Eliot Bemis</td>\n",
       "      <td>Gabe Stump</td>\n",
       "      <td>NaN</td>\n",
       "      <td>NaN</td>\n",
       "      <td>NaN</td>\n",
       "      <td>El Nino | 9.1</td>\n",
       "    </tr>\n",
       "    <tr>\n",
       "      <td>871</td>\n",
       "      <td>2020-02-27 22:03:04</td>\n",
       "      <td>9</td>\n",
       "      <td>1</td>\n",
       "      <td>Max Cohen</td>\n",
       "      <td>Victor Kao</td>\n",
       "      <td>0</td>\n",
       "      <td>0</td>\n",
       "      <td>0</td>\n",
       "      <td>0</td>\n",
       "      <td>0</td>\n",
       "      <td>...</td>\n",
       "      <td>1</td>\n",
       "      <td>Evan Ma</td>\n",
       "      <td>19</td>\n",
       "      <td>Ian McInerney</td>\n",
       "      <td>Eliot Bemis</td>\n",
       "      <td>Gabe Stump</td>\n",
       "      <td>NaN</td>\n",
       "      <td>NaN</td>\n",
       "      <td>NaN</td>\n",
       "      <td>El Nino | 9.1</td>\n",
       "    </tr>\n",
       "    <tr>\n",
       "      <td>872</td>\n",
       "      <td>2020-02-27 22:03:09</td>\n",
       "      <td>9</td>\n",
       "      <td>1</td>\n",
       "      <td>Victor Kao</td>\n",
       "      <td>Ian McInerney</td>\n",
       "      <td>0</td>\n",
       "      <td>0</td>\n",
       "      <td>0</td>\n",
       "      <td>0</td>\n",
       "      <td>0</td>\n",
       "      <td>...</td>\n",
       "      <td>1</td>\n",
       "      <td>Evan Ma</td>\n",
       "      <td>19</td>\n",
       "      <td>Ian McInerney</td>\n",
       "      <td>Eliot Bemis</td>\n",
       "      <td>Gabe Stump</td>\n",
       "      <td>NaN</td>\n",
       "      <td>NaN</td>\n",
       "      <td>NaN</td>\n",
       "      <td>El Nino | 9.1</td>\n",
       "    </tr>\n",
       "    <tr>\n",
       "      <td>873</td>\n",
       "      <td>2020-02-27 22:03:15</td>\n",
       "      <td>9</td>\n",
       "      <td>1</td>\n",
       "      <td>Ian McInerney</td>\n",
       "      <td>Max Cohen</td>\n",
       "      <td>0</td>\n",
       "      <td>0</td>\n",
       "      <td>0</td>\n",
       "      <td>0</td>\n",
       "      <td>0</td>\n",
       "      <td>...</td>\n",
       "      <td>1</td>\n",
       "      <td>Evan Ma</td>\n",
       "      <td>19</td>\n",
       "      <td>Ian McInerney</td>\n",
       "      <td>Eliot Bemis</td>\n",
       "      <td>Gabe Stump</td>\n",
       "      <td>NaN</td>\n",
       "      <td>NaN</td>\n",
       "      <td>NaN</td>\n",
       "      <td>El Nino | 9.1</td>\n",
       "    </tr>\n",
       "    <tr>\n",
       "      <td>874</td>\n",
       "      <td>2020-02-27 22:03:23</td>\n",
       "      <td>9</td>\n",
       "      <td>1</td>\n",
       "      <td>Max Cohen</td>\n",
       "      <td>Victor Kao</td>\n",
       "      <td>0</td>\n",
       "      <td>0</td>\n",
       "      <td>0</td>\n",
       "      <td>0</td>\n",
       "      <td>0</td>\n",
       "      <td>...</td>\n",
       "      <td>1</td>\n",
       "      <td>Evan Ma</td>\n",
       "      <td>19</td>\n",
       "      <td>Ian McInerney</td>\n",
       "      <td>Eliot Bemis</td>\n",
       "      <td>Gabe Stump</td>\n",
       "      <td>NaN</td>\n",
       "      <td>NaN</td>\n",
       "      <td>NaN</td>\n",
       "      <td>El Nino | 9.1</td>\n",
       "    </tr>\n",
       "    <tr>\n",
       "      <td>875</td>\n",
       "      <td>2020-02-27 22:03:26</td>\n",
       "      <td>9</td>\n",
       "      <td>1</td>\n",
       "      <td>Victor Kao</td>\n",
       "      <td>Evan Ma</td>\n",
       "      <td>0</td>\n",
       "      <td>0</td>\n",
       "      <td>0</td>\n",
       "      <td>0</td>\n",
       "      <td>0</td>\n",
       "      <td>...</td>\n",
       "      <td>1</td>\n",
       "      <td>Evan Ma</td>\n",
       "      <td>19</td>\n",
       "      <td>Ian McInerney</td>\n",
       "      <td>Eliot Bemis</td>\n",
       "      <td>Gabe Stump</td>\n",
       "      <td>NaN</td>\n",
       "      <td>NaN</td>\n",
       "      <td>NaN</td>\n",
       "      <td>El Nino | 9.1</td>\n",
       "    </tr>\n",
       "    <tr>\n",
       "      <td>876</td>\n",
       "      <td>2020-02-27 22:03:43</td>\n",
       "      <td>9</td>\n",
       "      <td>1</td>\n",
       "      <td>Evan Ma</td>\n",
       "      <td>Max Cohen</td>\n",
       "      <td>0</td>\n",
       "      <td>0</td>\n",
       "      <td>0</td>\n",
       "      <td>0</td>\n",
       "      <td>0</td>\n",
       "      <td>...</td>\n",
       "      <td>1</td>\n",
       "      <td>Evan Ma</td>\n",
       "      <td>19</td>\n",
       "      <td>Ian McInerney</td>\n",
       "      <td>Eliot Bemis</td>\n",
       "      <td>Gabe Stump</td>\n",
       "      <td>NaN</td>\n",
       "      <td>NaN</td>\n",
       "      <td>NaN</td>\n",
       "      <td>El Nino | 9.1</td>\n",
       "    </tr>\n",
       "    <tr>\n",
       "      <td>877</td>\n",
       "      <td>2020-02-27 22:03:48</td>\n",
       "      <td>9</td>\n",
       "      <td>1</td>\n",
       "      <td>Max Cohen</td>\n",
       "      <td>Victor Kao</td>\n",
       "      <td>0</td>\n",
       "      <td>0</td>\n",
       "      <td>0</td>\n",
       "      <td>0</td>\n",
       "      <td>0</td>\n",
       "      <td>...</td>\n",
       "      <td>1</td>\n",
       "      <td>Evan Ma</td>\n",
       "      <td>19</td>\n",
       "      <td>Ian McInerney</td>\n",
       "      <td>Eliot Bemis</td>\n",
       "      <td>Gabe Stump</td>\n",
       "      <td>NaN</td>\n",
       "      <td>NaN</td>\n",
       "      <td>NaN</td>\n",
       "      <td>El Nino | 9.1</td>\n",
       "    </tr>\n",
       "    <tr>\n",
       "      <td>878</td>\n",
       "      <td>2020-02-27 22:03:51</td>\n",
       "      <td>9</td>\n",
       "      <td>1</td>\n",
       "      <td>Victor Kao</td>\n",
       "      <td>Gabe Stump</td>\n",
       "      <td>0</td>\n",
       "      <td>0</td>\n",
       "      <td>0</td>\n",
       "      <td>0</td>\n",
       "      <td>0</td>\n",
       "      <td>...</td>\n",
       "      <td>1</td>\n",
       "      <td>Evan Ma</td>\n",
       "      <td>19</td>\n",
       "      <td>Ian McInerney</td>\n",
       "      <td>Eliot Bemis</td>\n",
       "      <td>Gabe Stump</td>\n",
       "      <td>NaN</td>\n",
       "      <td>NaN</td>\n",
       "      <td>NaN</td>\n",
       "      <td>El Nino | 9.1</td>\n",
       "    </tr>\n",
       "    <tr>\n",
       "      <td>879</td>\n",
       "      <td>2020-02-27 22:03:57</td>\n",
       "      <td>9</td>\n",
       "      <td>1</td>\n",
       "      <td>Gabe Stump</td>\n",
       "      <td>Evan Ma</td>\n",
       "      <td>0</td>\n",
       "      <td>0</td>\n",
       "      <td>0</td>\n",
       "      <td>0</td>\n",
       "      <td>0</td>\n",
       "      <td>...</td>\n",
       "      <td>1</td>\n",
       "      <td>Evan Ma</td>\n",
       "      <td>19</td>\n",
       "      <td>Ian McInerney</td>\n",
       "      <td>Eliot Bemis</td>\n",
       "      <td>Gabe Stump</td>\n",
       "      <td>NaN</td>\n",
       "      <td>NaN</td>\n",
       "      <td>NaN</td>\n",
       "      <td>El Nino | 9.1</td>\n",
       "    </tr>\n",
       "    <tr>\n",
       "      <td>880</td>\n",
       "      <td>2020-02-27 22:03:59</td>\n",
       "      <td>9</td>\n",
       "      <td>1</td>\n",
       "      <td>Evan Ma</td>\n",
       "      <td>Victor Kao</td>\n",
       "      <td>0</td>\n",
       "      <td>0</td>\n",
       "      <td>0</td>\n",
       "      <td>0</td>\n",
       "      <td>0</td>\n",
       "      <td>...</td>\n",
       "      <td>1</td>\n",
       "      <td>Evan Ma</td>\n",
       "      <td>19</td>\n",
       "      <td>Ian McInerney</td>\n",
       "      <td>Eliot Bemis</td>\n",
       "      <td>Gabe Stump</td>\n",
       "      <td>NaN</td>\n",
       "      <td>NaN</td>\n",
       "      <td>NaN</td>\n",
       "      <td>El Nino | 9.1</td>\n",
       "    </tr>\n",
       "    <tr>\n",
       "      <td>881</td>\n",
       "      <td>2020-02-27 22:04:05</td>\n",
       "      <td>9</td>\n",
       "      <td>1</td>\n",
       "      <td>Victor Kao</td>\n",
       "      <td>Jeff Voss</td>\n",
       "      <td>0</td>\n",
       "      <td>0</td>\n",
       "      <td>0</td>\n",
       "      <td>0</td>\n",
       "      <td>0</td>\n",
       "      <td>...</td>\n",
       "      <td>1</td>\n",
       "      <td>Evan Ma</td>\n",
       "      <td>19</td>\n",
       "      <td>Ian McInerney</td>\n",
       "      <td>Eliot Bemis</td>\n",
       "      <td>Gabe Stump</td>\n",
       "      <td>NaN</td>\n",
       "      <td>NaN</td>\n",
       "      <td>NaN</td>\n",
       "      <td>El Nino | 9.1</td>\n",
       "    </tr>\n",
       "    <tr>\n",
       "      <td>882</td>\n",
       "      <td>2020-02-27 22:04:21</td>\n",
       "      <td>9</td>\n",
       "      <td>1</td>\n",
       "      <td>Jeff Voss</td>\n",
       "      <td>Max Cohen</td>\n",
       "      <td>0</td>\n",
       "      <td>0</td>\n",
       "      <td>0</td>\n",
       "      <td>0</td>\n",
       "      <td>0</td>\n",
       "      <td>...</td>\n",
       "      <td>1</td>\n",
       "      <td>Evan Ma</td>\n",
       "      <td>19</td>\n",
       "      <td>Ian McInerney</td>\n",
       "      <td>Eliot Bemis</td>\n",
       "      <td>Gabe Stump</td>\n",
       "      <td>NaN</td>\n",
       "      <td>NaN</td>\n",
       "      <td>NaN</td>\n",
       "      <td>El Nino | 9.1</td>\n",
       "    </tr>\n",
       "    <tr>\n",
       "      <td>883</td>\n",
       "      <td>2020-02-27 22:04:46</td>\n",
       "      <td>9</td>\n",
       "      <td>1</td>\n",
       "      <td>Max Cohen</td>\n",
       "      <td>Eliot Bemis</td>\n",
       "      <td>0</td>\n",
       "      <td>0</td>\n",
       "      <td>0</td>\n",
       "      <td>0</td>\n",
       "      <td>0</td>\n",
       "      <td>...</td>\n",
       "      <td>1</td>\n",
       "      <td>Evan Ma</td>\n",
       "      <td>19</td>\n",
       "      <td>Ian McInerney</td>\n",
       "      <td>Eliot Bemis</td>\n",
       "      <td>Gabe Stump</td>\n",
       "      <td>NaN</td>\n",
       "      <td>NaN</td>\n",
       "      <td>NaN</td>\n",
       "      <td>El Nino | 9.1</td>\n",
       "    </tr>\n",
       "    <tr>\n",
       "      <td>884</td>\n",
       "      <td>2020-02-27 22:04:51</td>\n",
       "      <td>9</td>\n",
       "      <td>1</td>\n",
       "      <td>Eliot Bemis</td>\n",
       "      <td>Ian McInerney</td>\n",
       "      <td>0</td>\n",
       "      <td>0</td>\n",
       "      <td>0</td>\n",
       "      <td>0</td>\n",
       "      <td>0</td>\n",
       "      <td>...</td>\n",
       "      <td>1</td>\n",
       "      <td>Evan Ma</td>\n",
       "      <td>19</td>\n",
       "      <td>Ian McInerney</td>\n",
       "      <td>Eliot Bemis</td>\n",
       "      <td>Gabe Stump</td>\n",
       "      <td>NaN</td>\n",
       "      <td>NaN</td>\n",
       "      <td>NaN</td>\n",
       "      <td>El Nino | 9.1</td>\n",
       "    </tr>\n",
       "    <tr>\n",
       "      <td>885</td>\n",
       "      <td>2020-02-27 22:04:57</td>\n",
       "      <td>9</td>\n",
       "      <td>1</td>\n",
       "      <td>Ian McInerney</td>\n",
       "      <td>Eliot Bemis</td>\n",
       "      <td>0</td>\n",
       "      <td>0</td>\n",
       "      <td>0</td>\n",
       "      <td>0</td>\n",
       "      <td>0</td>\n",
       "      <td>...</td>\n",
       "      <td>1</td>\n",
       "      <td>Evan Ma</td>\n",
       "      <td>19</td>\n",
       "      <td>Ian McInerney</td>\n",
       "      <td>Eliot Bemis</td>\n",
       "      <td>Gabe Stump</td>\n",
       "      <td>NaN</td>\n",
       "      <td>NaN</td>\n",
       "      <td>NaN</td>\n",
       "      <td>El Nino | 9.1</td>\n",
       "    </tr>\n",
       "    <tr>\n",
       "      <td>886</td>\n",
       "      <td>2020-02-27 22:05:00</td>\n",
       "      <td>9</td>\n",
       "      <td>1</td>\n",
       "      <td>Eliot Bemis</td>\n",
       "      <td>Gabe Stump</td>\n",
       "      <td>0</td>\n",
       "      <td>0</td>\n",
       "      <td>0</td>\n",
       "      <td>1</td>\n",
       "      <td>1</td>\n",
       "      <td>...</td>\n",
       "      <td>1</td>\n",
       "      <td>Evan Ma</td>\n",
       "      <td>19</td>\n",
       "      <td>Ian McInerney</td>\n",
       "      <td>Eliot Bemis</td>\n",
       "      <td>Gabe Stump</td>\n",
       "      <td>NaN</td>\n",
       "      <td>NaN</td>\n",
       "      <td>NaN</td>\n",
       "      <td>El Nino | 9.1</td>\n",
       "    </tr>\n",
       "    <tr>\n",
       "      <td>945</td>\n",
       "      <td>2020-02-27 22:22:42</td>\n",
       "      <td>18</td>\n",
       "      <td>2</td>\n",
       "      <td>Max Cohen</td>\n",
       "      <td>Odie</td>\n",
       "      <td>0</td>\n",
       "      <td>0</td>\n",
       "      <td>0</td>\n",
       "      <td>0</td>\n",
       "      <td>0</td>\n",
       "      <td>...</td>\n",
       "      <td>1</td>\n",
       "      <td>Max Cohen</td>\n",
       "      <td>19</td>\n",
       "      <td>Max Cohen</td>\n",
       "      <td>Owen Marschall</td>\n",
       "      <td>Odie</td>\n",
       "      <td>NaN</td>\n",
       "      <td>NaN</td>\n",
       "      <td>NaN</td>\n",
       "      <td>El Nino | 18.2</td>\n",
       "    </tr>\n",
       "    <tr>\n",
       "      <td>946</td>\n",
       "      <td>2020-02-27 22:22:47</td>\n",
       "      <td>18</td>\n",
       "      <td>2</td>\n",
       "      <td>Odie</td>\n",
       "      <td>Max Cohen</td>\n",
       "      <td>0</td>\n",
       "      <td>0</td>\n",
       "      <td>0</td>\n",
       "      <td>0</td>\n",
       "      <td>0</td>\n",
       "      <td>...</td>\n",
       "      <td>1</td>\n",
       "      <td>Max Cohen</td>\n",
       "      <td>19</td>\n",
       "      <td>Max Cohen</td>\n",
       "      <td>Owen Marschall</td>\n",
       "      <td>Odie</td>\n",
       "      <td>NaN</td>\n",
       "      <td>NaN</td>\n",
       "      <td>NaN</td>\n",
       "      <td>El Nino | 18.2</td>\n",
       "    </tr>\n",
       "    <tr>\n",
       "      <td>947</td>\n",
       "      <td>2020-02-27 22:22:53</td>\n",
       "      <td>18</td>\n",
       "      <td>2</td>\n",
       "      <td>Max Cohen</td>\n",
       "      <td>Jeff Voss</td>\n",
       "      <td>0</td>\n",
       "      <td>0</td>\n",
       "      <td>0</td>\n",
       "      <td>0</td>\n",
       "      <td>0</td>\n",
       "      <td>...</td>\n",
       "      <td>1</td>\n",
       "      <td>Max Cohen</td>\n",
       "      <td>19</td>\n",
       "      <td>Max Cohen</td>\n",
       "      <td>Owen Marschall</td>\n",
       "      <td>Odie</td>\n",
       "      <td>NaN</td>\n",
       "      <td>NaN</td>\n",
       "      <td>NaN</td>\n",
       "      <td>El Nino | 18.2</td>\n",
       "    </tr>\n",
       "    <tr>\n",
       "      <td>948</td>\n",
       "      <td>2020-02-27 22:22:57</td>\n",
       "      <td>18</td>\n",
       "      <td>2</td>\n",
       "      <td>Jeff Voss</td>\n",
       "      <td>Max Cohen</td>\n",
       "      <td>0</td>\n",
       "      <td>0</td>\n",
       "      <td>0</td>\n",
       "      <td>0</td>\n",
       "      <td>0</td>\n",
       "      <td>...</td>\n",
       "      <td>1</td>\n",
       "      <td>Max Cohen</td>\n",
       "      <td>19</td>\n",
       "      <td>Max Cohen</td>\n",
       "      <td>Owen Marschall</td>\n",
       "      <td>Odie</td>\n",
       "      <td>NaN</td>\n",
       "      <td>NaN</td>\n",
       "      <td>NaN</td>\n",
       "      <td>El Nino | 18.2</td>\n",
       "    </tr>\n",
       "    <tr>\n",
       "      <td>949</td>\n",
       "      <td>2020-02-27 22:23:06</td>\n",
       "      <td>18</td>\n",
       "      <td>2</td>\n",
       "      <td>Max Cohen</td>\n",
       "      <td>Carter Thallon</td>\n",
       "      <td>0</td>\n",
       "      <td>0</td>\n",
       "      <td>0</td>\n",
       "      <td>0</td>\n",
       "      <td>0</td>\n",
       "      <td>...</td>\n",
       "      <td>1</td>\n",
       "      <td>Max Cohen</td>\n",
       "      <td>19</td>\n",
       "      <td>Max Cohen</td>\n",
       "      <td>Owen Marschall</td>\n",
       "      <td>Odie</td>\n",
       "      <td>NaN</td>\n",
       "      <td>NaN</td>\n",
       "      <td>NaN</td>\n",
       "      <td>El Nino | 18.2</td>\n",
       "    </tr>\n",
       "    <tr>\n",
       "      <td>950</td>\n",
       "      <td>2020-02-27 22:23:17</td>\n",
       "      <td>18</td>\n",
       "      <td>2</td>\n",
       "      <td>Carter Thallon</td>\n",
       "      <td>Owen Marschall</td>\n",
       "      <td>0</td>\n",
       "      <td>0</td>\n",
       "      <td>0</td>\n",
       "      <td>0</td>\n",
       "      <td>0</td>\n",
       "      <td>...</td>\n",
       "      <td>1</td>\n",
       "      <td>Max Cohen</td>\n",
       "      <td>19</td>\n",
       "      <td>Max Cohen</td>\n",
       "      <td>Owen Marschall</td>\n",
       "      <td>Odie</td>\n",
       "      <td>NaN</td>\n",
       "      <td>NaN</td>\n",
       "      <td>NaN</td>\n",
       "      <td>El Nino | 18.2</td>\n",
       "    </tr>\n",
       "    <tr>\n",
       "      <td>951</td>\n",
       "      <td>2020-02-27 22:23:24</td>\n",
       "      <td>18</td>\n",
       "      <td>2</td>\n",
       "      <td>Owen Marschall</td>\n",
       "      <td>Sam Pollack</td>\n",
       "      <td>0</td>\n",
       "      <td>0</td>\n",
       "      <td>0</td>\n",
       "      <td>0</td>\n",
       "      <td>0</td>\n",
       "      <td>...</td>\n",
       "      <td>1</td>\n",
       "      <td>Max Cohen</td>\n",
       "      <td>19</td>\n",
       "      <td>Max Cohen</td>\n",
       "      <td>Owen Marschall</td>\n",
       "      <td>Odie</td>\n",
       "      <td>NaN</td>\n",
       "      <td>NaN</td>\n",
       "      <td>NaN</td>\n",
       "      <td>El Nino | 18.2</td>\n",
       "    </tr>\n",
       "    <tr>\n",
       "      <td>952</td>\n",
       "      <td>2020-02-27 22:23:30</td>\n",
       "      <td>18</td>\n",
       "      <td>2</td>\n",
       "      <td>Sam Pollack</td>\n",
       "      <td>Max Cohen</td>\n",
       "      <td>0</td>\n",
       "      <td>0</td>\n",
       "      <td>0</td>\n",
       "      <td>0</td>\n",
       "      <td>0</td>\n",
       "      <td>...</td>\n",
       "      <td>1</td>\n",
       "      <td>Max Cohen</td>\n",
       "      <td>19</td>\n",
       "      <td>Max Cohen</td>\n",
       "      <td>Owen Marschall</td>\n",
       "      <td>Odie</td>\n",
       "      <td>NaN</td>\n",
       "      <td>NaN</td>\n",
       "      <td>NaN</td>\n",
       "      <td>El Nino | 18.2</td>\n",
       "    </tr>\n",
       "    <tr>\n",
       "      <td>953</td>\n",
       "      <td>2020-02-27 22:23:52</td>\n",
       "      <td>18</td>\n",
       "      <td>2</td>\n",
       "      <td>Max Cohen</td>\n",
       "      <td>Jeff Voss</td>\n",
       "      <td>0</td>\n",
       "      <td>0</td>\n",
       "      <td>0</td>\n",
       "      <td>0</td>\n",
       "      <td>0</td>\n",
       "      <td>...</td>\n",
       "      <td>1</td>\n",
       "      <td>Max Cohen</td>\n",
       "      <td>19</td>\n",
       "      <td>Max Cohen</td>\n",
       "      <td>Owen Marschall</td>\n",
       "      <td>Odie</td>\n",
       "      <td>NaN</td>\n",
       "      <td>NaN</td>\n",
       "      <td>NaN</td>\n",
       "      <td>El Nino | 18.2</td>\n",
       "    </tr>\n",
       "    <tr>\n",
       "      <td>954</td>\n",
       "      <td>2020-02-27 22:24:01</td>\n",
       "      <td>18</td>\n",
       "      <td>2</td>\n",
       "      <td>Jeff Voss</td>\n",
       "      <td>Max Cohen</td>\n",
       "      <td>0</td>\n",
       "      <td>0</td>\n",
       "      <td>0</td>\n",
       "      <td>0</td>\n",
       "      <td>0</td>\n",
       "      <td>...</td>\n",
       "      <td>1</td>\n",
       "      <td>Max Cohen</td>\n",
       "      <td>19</td>\n",
       "      <td>Max Cohen</td>\n",
       "      <td>Owen Marschall</td>\n",
       "      <td>Odie</td>\n",
       "      <td>NaN</td>\n",
       "      <td>NaN</td>\n",
       "      <td>NaN</td>\n",
       "      <td>El Nino | 18.2</td>\n",
       "    </tr>\n",
       "    <tr>\n",
       "      <td>955</td>\n",
       "      <td>2020-02-27 22:24:04</td>\n",
       "      <td>18</td>\n",
       "      <td>2</td>\n",
       "      <td>Max Cohen</td>\n",
       "      <td>Sam Pollack</td>\n",
       "      <td>0</td>\n",
       "      <td>0</td>\n",
       "      <td>0</td>\n",
       "      <td>0</td>\n",
       "      <td>0</td>\n",
       "      <td>...</td>\n",
       "      <td>1</td>\n",
       "      <td>Max Cohen</td>\n",
       "      <td>19</td>\n",
       "      <td>Max Cohen</td>\n",
       "      <td>Owen Marschall</td>\n",
       "      <td>Odie</td>\n",
       "      <td>NaN</td>\n",
       "      <td>NaN</td>\n",
       "      <td>NaN</td>\n",
       "      <td>El Nino | 18.2</td>\n",
       "    </tr>\n",
       "    <tr>\n",
       "      <td>956</td>\n",
       "      <td>2020-02-27 22:24:08</td>\n",
       "      <td>18</td>\n",
       "      <td>2</td>\n",
       "      <td>Sam Pollack</td>\n",
       "      <td>Odie</td>\n",
       "      <td>0</td>\n",
       "      <td>0</td>\n",
       "      <td>0</td>\n",
       "      <td>0</td>\n",
       "      <td>0</td>\n",
       "      <td>...</td>\n",
       "      <td>1</td>\n",
       "      <td>Max Cohen</td>\n",
       "      <td>19</td>\n",
       "      <td>Max Cohen</td>\n",
       "      <td>Owen Marschall</td>\n",
       "      <td>Odie</td>\n",
       "      <td>NaN</td>\n",
       "      <td>NaN</td>\n",
       "      <td>NaN</td>\n",
       "      <td>El Nino | 18.2</td>\n",
       "    </tr>\n",
       "    <tr>\n",
       "      <td>957</td>\n",
       "      <td>2020-02-27 22:24:11</td>\n",
       "      <td>18</td>\n",
       "      <td>2</td>\n",
       "      <td>Odie</td>\n",
       "      <td>Owen Marschall</td>\n",
       "      <td>0</td>\n",
       "      <td>0</td>\n",
       "      <td>0</td>\n",
       "      <td>0</td>\n",
       "      <td>0</td>\n",
       "      <td>...</td>\n",
       "      <td>1</td>\n",
       "      <td>Max Cohen</td>\n",
       "      <td>19</td>\n",
       "      <td>Max Cohen</td>\n",
       "      <td>Owen Marschall</td>\n",
       "      <td>Odie</td>\n",
       "      <td>NaN</td>\n",
       "      <td>NaN</td>\n",
       "      <td>NaN</td>\n",
       "      <td>El Nino | 18.2</td>\n",
       "    </tr>\n",
       "    <tr>\n",
       "      <td>958</td>\n",
       "      <td>2020-02-27 22:24:15</td>\n",
       "      <td>18</td>\n",
       "      <td>2</td>\n",
       "      <td>Owen Marschall</td>\n",
       "      <td>Odie</td>\n",
       "      <td>0</td>\n",
       "      <td>0</td>\n",
       "      <td>0</td>\n",
       "      <td>0</td>\n",
       "      <td>0</td>\n",
       "      <td>...</td>\n",
       "      <td>1</td>\n",
       "      <td>Max Cohen</td>\n",
       "      <td>19</td>\n",
       "      <td>Max Cohen</td>\n",
       "      <td>Owen Marschall</td>\n",
       "      <td>Odie</td>\n",
       "      <td>NaN</td>\n",
       "      <td>NaN</td>\n",
       "      <td>NaN</td>\n",
       "      <td>El Nino | 18.2</td>\n",
       "    </tr>\n",
       "    <tr>\n",
       "      <td>959</td>\n",
       "      <td>2020-02-27 22:24:18</td>\n",
       "      <td>18</td>\n",
       "      <td>2</td>\n",
       "      <td>Odie</td>\n",
       "      <td>Max Cohen</td>\n",
       "      <td>0</td>\n",
       "      <td>0</td>\n",
       "      <td>0</td>\n",
       "      <td>0</td>\n",
       "      <td>0</td>\n",
       "      <td>...</td>\n",
       "      <td>1</td>\n",
       "      <td>Max Cohen</td>\n",
       "      <td>19</td>\n",
       "      <td>Max Cohen</td>\n",
       "      <td>Owen Marschall</td>\n",
       "      <td>Odie</td>\n",
       "      <td>NaN</td>\n",
       "      <td>NaN</td>\n",
       "      <td>NaN</td>\n",
       "      <td>El Nino | 18.2</td>\n",
       "    </tr>\n",
       "    <tr>\n",
       "      <td>960</td>\n",
       "      <td>2020-02-27 22:24:35</td>\n",
       "      <td>18</td>\n",
       "      <td>2</td>\n",
       "      <td>Max Cohen</td>\n",
       "      <td>Owen Marschall</td>\n",
       "      <td>0</td>\n",
       "      <td>0</td>\n",
       "      <td>0</td>\n",
       "      <td>0</td>\n",
       "      <td>0</td>\n",
       "      <td>...</td>\n",
       "      <td>1</td>\n",
       "      <td>Max Cohen</td>\n",
       "      <td>19</td>\n",
       "      <td>Max Cohen</td>\n",
       "      <td>Owen Marschall</td>\n",
       "      <td>Odie</td>\n",
       "      <td>NaN</td>\n",
       "      <td>NaN</td>\n",
       "      <td>NaN</td>\n",
       "      <td>El Nino | 18.2</td>\n",
       "    </tr>\n",
       "    <tr>\n",
       "      <td>961</td>\n",
       "      <td>2020-02-27 22:24:38</td>\n",
       "      <td>18</td>\n",
       "      <td>2</td>\n",
       "      <td>Owen Marschall</td>\n",
       "      <td>Max Cohen</td>\n",
       "      <td>0</td>\n",
       "      <td>0</td>\n",
       "      <td>0</td>\n",
       "      <td>0</td>\n",
       "      <td>0</td>\n",
       "      <td>...</td>\n",
       "      <td>1</td>\n",
       "      <td>Max Cohen</td>\n",
       "      <td>19</td>\n",
       "      <td>Max Cohen</td>\n",
       "      <td>Owen Marschall</td>\n",
       "      <td>Odie</td>\n",
       "      <td>NaN</td>\n",
       "      <td>NaN</td>\n",
       "      <td>NaN</td>\n",
       "      <td>El Nino | 18.2</td>\n",
       "    </tr>\n",
       "    <tr>\n",
       "      <td>962</td>\n",
       "      <td>2020-02-27 22:24:42</td>\n",
       "      <td>18</td>\n",
       "      <td>2</td>\n",
       "      <td>Max Cohen</td>\n",
       "      <td>Owen Marschall</td>\n",
       "      <td>0</td>\n",
       "      <td>0</td>\n",
       "      <td>0</td>\n",
       "      <td>0</td>\n",
       "      <td>0</td>\n",
       "      <td>...</td>\n",
       "      <td>1</td>\n",
       "      <td>Max Cohen</td>\n",
       "      <td>19</td>\n",
       "      <td>Max Cohen</td>\n",
       "      <td>Owen Marschall</td>\n",
       "      <td>Odie</td>\n",
       "      <td>NaN</td>\n",
       "      <td>NaN</td>\n",
       "      <td>NaN</td>\n",
       "      <td>El Nino | 18.2</td>\n",
       "    </tr>\n",
       "    <tr>\n",
       "      <td>963</td>\n",
       "      <td>2020-02-27 22:24:46</td>\n",
       "      <td>18</td>\n",
       "      <td>2</td>\n",
       "      <td>Owen Marschall</td>\n",
       "      <td>Odie</td>\n",
       "      <td>0</td>\n",
       "      <td>0</td>\n",
       "      <td>0</td>\n",
       "      <td>1</td>\n",
       "      <td>1</td>\n",
       "      <td>...</td>\n",
       "      <td>1</td>\n",
       "      <td>Max Cohen</td>\n",
       "      <td>19</td>\n",
       "      <td>Max Cohen</td>\n",
       "      <td>Owen Marschall</td>\n",
       "      <td>Odie</td>\n",
       "      <td>NaN</td>\n",
       "      <td>NaN</td>\n",
       "      <td>NaN</td>\n",
       "      <td>El Nino | 18.2</td>\n",
       "    </tr>\n",
       "  </tbody>\n",
       "</table>\n",
       "<p>38 rows × 35 columns</p>\n",
       "</div>"
      ],
      "text/plain": [
       "                 Created  Point  Possession         Thrower        Receiver  \\\n",
       "868  2020-02-27 22:02:48      9           1         Evan Ma       Max Cohen   \n",
       "869  2020-02-27 22:02:54      9           1       Max Cohen      Victor Kao   \n",
       "870  2020-02-27 22:02:59      9           1      Victor Kao       Max Cohen   \n",
       "871  2020-02-27 22:03:04      9           1       Max Cohen      Victor Kao   \n",
       "872  2020-02-27 22:03:09      9           1      Victor Kao   Ian McInerney   \n",
       "873  2020-02-27 22:03:15      9           1   Ian McInerney       Max Cohen   \n",
       "874  2020-02-27 22:03:23      9           1       Max Cohen      Victor Kao   \n",
       "875  2020-02-27 22:03:26      9           1      Victor Kao         Evan Ma   \n",
       "876  2020-02-27 22:03:43      9           1         Evan Ma       Max Cohen   \n",
       "877  2020-02-27 22:03:48      9           1       Max Cohen      Victor Kao   \n",
       "878  2020-02-27 22:03:51      9           1      Victor Kao      Gabe Stump   \n",
       "879  2020-02-27 22:03:57      9           1      Gabe Stump         Evan Ma   \n",
       "880  2020-02-27 22:03:59      9           1         Evan Ma      Victor Kao   \n",
       "881  2020-02-27 22:04:05      9           1      Victor Kao       Jeff Voss   \n",
       "882  2020-02-27 22:04:21      9           1       Jeff Voss       Max Cohen   \n",
       "883  2020-02-27 22:04:46      9           1       Max Cohen     Eliot Bemis   \n",
       "884  2020-02-27 22:04:51      9           1     Eliot Bemis   Ian McInerney   \n",
       "885  2020-02-27 22:04:57      9           1   Ian McInerney     Eliot Bemis   \n",
       "886  2020-02-27 22:05:00      9           1     Eliot Bemis      Gabe Stump   \n",
       "945  2020-02-27 22:22:42     18           2       Max Cohen            Odie   \n",
       "946  2020-02-27 22:22:47     18           2            Odie       Max Cohen   \n",
       "947  2020-02-27 22:22:53     18           2       Max Cohen       Jeff Voss   \n",
       "948  2020-02-27 22:22:57     18           2       Jeff Voss       Max Cohen   \n",
       "949  2020-02-27 22:23:06     18           2       Max Cohen  Carter Thallon   \n",
       "950  2020-02-27 22:23:17     18           2  Carter Thallon  Owen Marschall   \n",
       "951  2020-02-27 22:23:24     18           2  Owen Marschall     Sam Pollack   \n",
       "952  2020-02-27 22:23:30     18           2     Sam Pollack       Max Cohen   \n",
       "953  2020-02-27 22:23:52     18           2       Max Cohen       Jeff Voss   \n",
       "954  2020-02-27 22:24:01     18           2       Jeff Voss       Max Cohen   \n",
       "955  2020-02-27 22:24:04     18           2       Max Cohen     Sam Pollack   \n",
       "956  2020-02-27 22:24:08     18           2     Sam Pollack            Odie   \n",
       "957  2020-02-27 22:24:11     18           2            Odie  Owen Marschall   \n",
       "958  2020-02-27 22:24:15     18           2  Owen Marschall            Odie   \n",
       "959  2020-02-27 22:24:18     18           2            Odie       Max Cohen   \n",
       "960  2020-02-27 22:24:35     18           2       Max Cohen  Owen Marschall   \n",
       "961  2020-02-27 22:24:38     18           2  Owen Marschall       Max Cohen   \n",
       "962  2020-02-27 22:24:42     18           2       Max Cohen  Owen Marschall   \n",
       "963  2020-02-27 22:24:46     18           2  Owen Marschall            Odie   \n",
       "\n",
       "     Turnover?  Thrower error?  Receiver error?  Throw to endzone?  Assist?  \\\n",
       "868          0               0                0                  0        0   \n",
       "869          0               0                0                  0        0   \n",
       "870          0               0                0                  0        0   \n",
       "871          0               0                0                  0        0   \n",
       "872          0               0                0                  0        0   \n",
       "873          0               0                0                  0        0   \n",
       "874          0               0                0                  0        0   \n",
       "875          0               0                0                  0        0   \n",
       "876          0               0                0                  0        0   \n",
       "877          0               0                0                  0        0   \n",
       "878          0               0                0                  0        0   \n",
       "879          0               0                0                  0        0   \n",
       "880          0               0                0                  0        0   \n",
       "881          0               0                0                  0        0   \n",
       "882          0               0                0                  0        0   \n",
       "883          0               0                0                  0        0   \n",
       "884          0               0                0                  0        0   \n",
       "885          0               0                0                  0        0   \n",
       "886          0               0                0                  1        1   \n",
       "945          0               0                0                  0        0   \n",
       "946          0               0                0                  0        0   \n",
       "947          0               0                0                  0        0   \n",
       "948          0               0                0                  0        0   \n",
       "949          0               0                0                  0        0   \n",
       "950          0               0                0                  0        0   \n",
       "951          0               0                0                  0        0   \n",
       "952          0               0                0                  0        0   \n",
       "953          0               0                0                  0        0   \n",
       "954          0               0                0                  0        0   \n",
       "955          0               0                0                  0        0   \n",
       "956          0               0                0                  0        0   \n",
       "957          0               0                0                  0        0   \n",
       "958          0               0                0                  0        0   \n",
       "959          0               0                0                  0        0   \n",
       "960          0               0                0                  0        0   \n",
       "961          0               0                0                  0        0   \n",
       "962          0               0                0                  0        0   \n",
       "963          0               0                0                  1        1   \n",
       "\n",
       "     ...  Scored?  Initiator  Passes  Secondary assist          Assist  \\\n",
       "868  ...        1    Evan Ma      19     Ian McInerney     Eliot Bemis   \n",
       "869  ...        1    Evan Ma      19     Ian McInerney     Eliot Bemis   \n",
       "870  ...        1    Evan Ma      19     Ian McInerney     Eliot Bemis   \n",
       "871  ...        1    Evan Ma      19     Ian McInerney     Eliot Bemis   \n",
       "872  ...        1    Evan Ma      19     Ian McInerney     Eliot Bemis   \n",
       "873  ...        1    Evan Ma      19     Ian McInerney     Eliot Bemis   \n",
       "874  ...        1    Evan Ma      19     Ian McInerney     Eliot Bemis   \n",
       "875  ...        1    Evan Ma      19     Ian McInerney     Eliot Bemis   \n",
       "876  ...        1    Evan Ma      19     Ian McInerney     Eliot Bemis   \n",
       "877  ...        1    Evan Ma      19     Ian McInerney     Eliot Bemis   \n",
       "878  ...        1    Evan Ma      19     Ian McInerney     Eliot Bemis   \n",
       "879  ...        1    Evan Ma      19     Ian McInerney     Eliot Bemis   \n",
       "880  ...        1    Evan Ma      19     Ian McInerney     Eliot Bemis   \n",
       "881  ...        1    Evan Ma      19     Ian McInerney     Eliot Bemis   \n",
       "882  ...        1    Evan Ma      19     Ian McInerney     Eliot Bemis   \n",
       "883  ...        1    Evan Ma      19     Ian McInerney     Eliot Bemis   \n",
       "884  ...        1    Evan Ma      19     Ian McInerney     Eliot Bemis   \n",
       "885  ...        1    Evan Ma      19     Ian McInerney     Eliot Bemis   \n",
       "886  ...        1    Evan Ma      19     Ian McInerney     Eliot Bemis   \n",
       "945  ...        1  Max Cohen      19         Max Cohen  Owen Marschall   \n",
       "946  ...        1  Max Cohen      19         Max Cohen  Owen Marschall   \n",
       "947  ...        1  Max Cohen      19         Max Cohen  Owen Marschall   \n",
       "948  ...        1  Max Cohen      19         Max Cohen  Owen Marschall   \n",
       "949  ...        1  Max Cohen      19         Max Cohen  Owen Marschall   \n",
       "950  ...        1  Max Cohen      19         Max Cohen  Owen Marschall   \n",
       "951  ...        1  Max Cohen      19         Max Cohen  Owen Marschall   \n",
       "952  ...        1  Max Cohen      19         Max Cohen  Owen Marschall   \n",
       "953  ...        1  Max Cohen      19         Max Cohen  Owen Marschall   \n",
       "954  ...        1  Max Cohen      19         Max Cohen  Owen Marschall   \n",
       "955  ...        1  Max Cohen      19         Max Cohen  Owen Marschall   \n",
       "956  ...        1  Max Cohen      19         Max Cohen  Owen Marschall   \n",
       "957  ...        1  Max Cohen      19         Max Cohen  Owen Marschall   \n",
       "958  ...        1  Max Cohen      19         Max Cohen  Owen Marschall   \n",
       "959  ...        1  Max Cohen      19         Max Cohen  Owen Marschall   \n",
       "960  ...        1  Max Cohen      19         Max Cohen  Owen Marschall   \n",
       "961  ...        1  Max Cohen      19         Max Cohen  Owen Marschall   \n",
       "962  ...        1  Max Cohen      19         Max Cohen  Owen Marschall   \n",
       "963  ...        1  Max Cohen      19         Max Cohen  Owen Marschall   \n",
       "\n",
       "           Goal  Thrower error  Receiver error  Stalled out  possession_index  \n",
       "868  Gabe Stump            NaN             NaN          NaN     El Nino | 9.1  \n",
       "869  Gabe Stump            NaN             NaN          NaN     El Nino | 9.1  \n",
       "870  Gabe Stump            NaN             NaN          NaN     El Nino | 9.1  \n",
       "871  Gabe Stump            NaN             NaN          NaN     El Nino | 9.1  \n",
       "872  Gabe Stump            NaN             NaN          NaN     El Nino | 9.1  \n",
       "873  Gabe Stump            NaN             NaN          NaN     El Nino | 9.1  \n",
       "874  Gabe Stump            NaN             NaN          NaN     El Nino | 9.1  \n",
       "875  Gabe Stump            NaN             NaN          NaN     El Nino | 9.1  \n",
       "876  Gabe Stump            NaN             NaN          NaN     El Nino | 9.1  \n",
       "877  Gabe Stump            NaN             NaN          NaN     El Nino | 9.1  \n",
       "878  Gabe Stump            NaN             NaN          NaN     El Nino | 9.1  \n",
       "879  Gabe Stump            NaN             NaN          NaN     El Nino | 9.1  \n",
       "880  Gabe Stump            NaN             NaN          NaN     El Nino | 9.1  \n",
       "881  Gabe Stump            NaN             NaN          NaN     El Nino | 9.1  \n",
       "882  Gabe Stump            NaN             NaN          NaN     El Nino | 9.1  \n",
       "883  Gabe Stump            NaN             NaN          NaN     El Nino | 9.1  \n",
       "884  Gabe Stump            NaN             NaN          NaN     El Nino | 9.1  \n",
       "885  Gabe Stump            NaN             NaN          NaN     El Nino | 9.1  \n",
       "886  Gabe Stump            NaN             NaN          NaN     El Nino | 9.1  \n",
       "945        Odie            NaN             NaN          NaN    El Nino | 18.2  \n",
       "946        Odie            NaN             NaN          NaN    El Nino | 18.2  \n",
       "947        Odie            NaN             NaN          NaN    El Nino | 18.2  \n",
       "948        Odie            NaN             NaN          NaN    El Nino | 18.2  \n",
       "949        Odie            NaN             NaN          NaN    El Nino | 18.2  \n",
       "950        Odie            NaN             NaN          NaN    El Nino | 18.2  \n",
       "951        Odie            NaN             NaN          NaN    El Nino | 18.2  \n",
       "952        Odie            NaN             NaN          NaN    El Nino | 18.2  \n",
       "953        Odie            NaN             NaN          NaN    El Nino | 18.2  \n",
       "954        Odie            NaN             NaN          NaN    El Nino | 18.2  \n",
       "955        Odie            NaN             NaN          NaN    El Nino | 18.2  \n",
       "956        Odie            NaN             NaN          NaN    El Nino | 18.2  \n",
       "957        Odie            NaN             NaN          NaN    El Nino | 18.2  \n",
       "958        Odie            NaN             NaN          NaN    El Nino | 18.2  \n",
       "959        Odie            NaN             NaN          NaN    El Nino | 18.2  \n",
       "960        Odie            NaN             NaN          NaN    El Nino | 18.2  \n",
       "961        Odie            NaN             NaN          NaN    El Nino | 18.2  \n",
       "962        Odie            NaN             NaN          NaN    El Nino | 18.2  \n",
       "963        Odie            NaN             NaN          NaN    El Nino | 18.2  \n",
       "\n",
       "[38 rows x 35 columns]"
      ]
     },
     "execution_count": 19,
     "metadata": {},
     "output_type": "execute_result"
    }
   ],
   "source": [
    "most_passes = full_poss_df['Passes'].max()\n",
    "full_poss_df[full_poss_df['Passes'] == most_passes]"
   ]
  },
  {
   "cell_type": "code",
   "execution_count": 20,
   "metadata": {
    "collapsed": true
   },
   "outputs": [],
   "source": [
    "turnover_df = full_poss_df[full_poss_df['Thrower error?'] == 1]"
   ]
  },
  {
   "cell_type": "code",
   "execution_count": 21,
   "metadata": {
    "collapsed": true
   },
   "outputs": [],
   "source": [
    "assist_df = full_poss_df[full_poss_df['Assist?'] == 1]"
   ]
  },
  {
   "cell_type": "code",
   "execution_count": 22,
   "metadata": {
    "collapsed": true
   },
   "outputs": [],
   "source": [
    "just_throw_df = full_poss_df[(full_poss_df['Assist?'] == 0) & (full_poss_df['Thrower error?'] == 0)]"
   ]
  },
  {
   "cell_type": "code",
   "execution_count": 71,
   "metadata": {},
   "outputs": [
    {
     "data": {
      "image/png": "[encoded data removed]",
      "text/plain": [
       "<Figure size 240x660 with 1 Axes>"
      ]
     },
     "metadata": {
      "needs_background": "light"
     },
     "output_type": "display_data"
    }
   ],
   "source": [
    "#scatter plot of all throwing positions\n",
    "fig = plt.figure(figsize=(4/1.2,11/1.2))\n",
    "plt.scatter(just_throw_df['Start X (0 -> 1 = left sideline -> right sideline)'],\n",
    "           1-just_throw_df['Start Y (0 -> 1 = back of opponent endzone -> back of own endzone)'],\n",
    "           alpha=.5)\n",
    "\n",
    "plt.scatter(assist_df['Start X (0 -> 1 = left sideline -> right sideline)'],\n",
    "           1-assist_df['Start Y (0 -> 1 = back of opponent endzone -> back of own endzone)'],\n",
    "           alpha=1,\n",
    "            c='g',\n",
    "            label='Assist')\n",
    "\n",
    "plt.scatter(turnover_df['Start X (0 -> 1 = left sideline -> right sideline)'],\n",
    "           1-turnover_df['Start Y (0 -> 1 = back of opponent endzone -> back of own endzone)'],\n",
    "           alpha=1,\n",
    "            marker='x',\n",
    "            c='r',\n",
    "            label='Turnover')\n",
    "\n",
    "#attacking endzone line\n",
    "x1 = [0,1]\n",
    "y1 = [.8181818,.8181818]\n",
    "plt.plot(x1,y1)\n",
    "\n",
    "#defending endzone line\n",
    "x2 = [0,1]\n",
    "y2 = [.1818181,.1818181]\n",
    "plt.plot(x2,y2)\n",
    "\n",
    "#backhand sideline\n",
    "x3 = [0,0]\n",
    "y3 = [0,1]\n",
    "plt.plot(x3,y3)\n",
    "\n",
    "#flick sideline\n",
    "x4 = [1,1]\n",
    "y4 = [0,1]\n",
    "plt.plot(x4,y4)\n",
    "\n",
    "#attacking backline\n",
    "x5 = [0,1]\n",
    "y5 = [1,1]\n",
    "plt.plot(x5,y5)\n",
    "\n",
    "#defending backline\n",
    "x6 = [0,1]\n",
    "y6 = [0,0]\n",
    "plt.plot(x6,y6)\n",
    "\n",
    "xtick = .25/2\n",
    "ytick = .181818/2\n",
    "\n",
    "plt.xticks(ticks=[xtick,xtick*2,xtick*3,xtick*4,xtick*5,xtick*6,xtick*7],\n",
    "          labels=[5,10,15,20,15,10,5])\n",
    "plt.yticks(ticks=[ytick*2,ytick*3,ytick*4,ytick*5,ytick*6,ytick*7,ytick*8,ytick*9],\n",
    "          labels=[0,10,20,30,40,50,60,'Goal'])\n",
    "plt.xlabel('Width')\n",
    "plt.ylabel('Length')\n",
    "plt.legend(loc='upper right')\n",
    "plt.title('All Throw Starting Positions')\n",
    "\n",
    "plt.show()\n",
    "fig.savefig('/Users/maxcohen/Documents/Blueprint Stats/figs/throw_start_scatter.png',dpi=300)"
   ]
  },
  {
   "cell_type": "code",
   "execution_count": 68,
   "metadata": {},
   "outputs": [
    {
     "data": {
      "text/plain": [
       "3.6666666666666665"
      ]
     },
     "execution_count": 68,
     "metadata": {},
     "output_type": "execute_result"
    }
   ],
   "source": [
    "11/3"
   ]
  },
  {
   "cell_type": "code",
   "execution_count": 24,
   "metadata": {
    "collapsed": true
   },
   "outputs": [],
   "source": [
    "#create chart that shows scoring probbality of scoring based on distance from the attacking endzone"
   ]
  },
  {
   "cell_type": "code",
   "execution_count": 25,
   "metadata": {
    "collapsed": true
   },
   "outputs": [],
   "source": [
    "#create bins every two yards\n",
    "bin_list = []\n",
    "yardage = 3\n",
    "for x in range(-3,109,yardage):\n",
    "    bin_list.append(x + yardage)\n",
    "    \n",
    "bins = np.array(bin_list)"
   ]
  },
  {
   "cell_type": "code",
   "execution_count": 26,
   "metadata": {
    "collapsed": true
   },
   "outputs": [
    {
     "data": {
      "text/plain": [
       "[0.0,\n",
       " 0.02727272727272727,\n",
       " 0.05454545454545454,\n",
       " 0.08181818181818182,\n",
       " 0.10909090909090909,\n",
       " 0.13636363636363635,\n",
       " 0.16363636363636364,\n",
       " 0.19090909090909092,\n",
       " 0.21818181818181817,\n",
       " 0.24545454545454545,\n",
       " 0.2727272727272727,\n",
       " 0.3,\n",
       " 0.32727272727272727,\n",
       " 0.35454545454545455,\n",
       " 0.38181818181818183,\n",
       " 0.4090909090909091,\n",
       " 0.43636363636363634,\n",
       " 0.4636363636363636,\n",
       " 0.4909090909090909,\n",
       " 0.5181818181818182,\n",
       " 0.5454545454545454,\n",
       " 0.5727272727272728,\n",
       " 0.6,\n",
       " 0.6272727272727273,\n",
       " 0.6545454545454545,\n",
       " 0.6818181818181818,\n",
       " 0.7090909090909091,\n",
       " 0.7363636363636363,\n",
       " 0.7636363636363637,\n",
       " 0.7909090909090909,\n",
       " 0.8181818181818182,\n",
       " 0.8454545454545455,\n",
       " 0.8727272727272727,\n",
       " 0.9,\n",
       " 0.9272727272727272,\n",
       " 0.9545454545454546,\n",
       " 0.9818181818181818,\n",
       " 1.009090909090909]"
      ]
     },
     "execution_count": 26,
     "metadata": {},
     "output_type": "execute_result"
    }
   ],
   "source": [
    "#change bins to 0->1 range\n",
    "bins = [x/110 for x in bins]\n",
    "bins"
   ]
  },
  {
   "cell_type": "code",
   "execution_count": 27,
   "metadata": {
    "collapsed": true
   },
   "outputs": [
    {
     "data": {
      "text/plain": [
       "0       (0.791, 0.818]\n",
       "1       (0.764, 0.791]\n",
       "2       (0.736, 0.764]\n",
       "3       (0.682, 0.709]\n",
       "4       (0.627, 0.655]\n",
       "             ...      \n",
       "1158    (0.709, 0.736]\n",
       "1159    (0.655, 0.682]\n",
       "1160    (0.545, 0.573]\n",
       "1161    (0.409, 0.436]\n",
       "1162    (0.245, 0.273]\n",
       "Name: y_bucket, Length: 1163, dtype: category\n",
       "Categories (37, interval[float64]): [(0.0, 0.0273] < (0.0273, 0.0545] < (0.0545, 0.0818] < (0.0818, 0.109] ... (0.9, 0.927] < (0.927, 0.955] < (0.955, 0.982] < (0.982, 1.009]]"
      ]
     },
     "execution_count": 27,
     "metadata": {},
     "output_type": "execute_result"
    }
   ],
   "source": [
    "full_poss_df['y_bucket'] = pd.cut(full_poss_df['Start Y (0 -> 1 = back of opponent endzone -> back of own endzone)'],\n",
    "                              bins)\n",
    "full_poss_df['y_bucket']"
   ]
  },
  {
   "cell_type": "code",
   "execution_count": 28,
   "metadata": {
    "collapsed": true
   },
   "outputs": [
    {
     "data": {
      "text/plain": [
       "37"
      ]
     },
     "execution_count": 28,
     "metadata": {},
     "output_type": "execute_result"
    }
   ],
   "source": [
    "all_hist = np.histogram(1-full_poss_df['Start Y (0 -> 1 = back of opponent endzone -> back of own endzone)'],bins)\n",
    "len(all_hist[0])"
   ]
  },
  {
   "cell_type": "code",
   "execution_count": 29,
   "metadata": {
    "collapsed": true
   },
   "outputs": [],
   "source": [
    "scored_df = full_poss_df[full_poss_df['Scored?'] == 1]"
   ]
  },
  {
   "cell_type": "code",
   "execution_count": 30,
   "metadata": {
    "collapsed": true
   },
   "outputs": [
    {
     "data": {
      "text/plain": [
       "37"
      ]
     },
     "execution_count": 30,
     "metadata": {},
     "output_type": "execute_result"
    }
   ],
   "source": [
    "scored_hist = np.histogram(1-scored_df['Start Y (0 -> 1 = back of opponent endzone -> back of own endzone)'],bins)\n",
    "len(scored_hist[0])"
   ]
  },
  {
   "cell_type": "code",
   "execution_count": 31,
   "metadata": {
    "collapsed": true
   },
   "outputs": [],
   "source": [
    "all_y = all_hist[0]\n",
    "scored_y = scored_hist[0]\n",
    "bins_data = bins[:-1]\n",
    "d = {'all_y':all_y, 'scored_y':scored_y, 'bins':bins_data}\n",
    "y_score_df = pd.DataFrame(data = d)"
   ]
  },
  {
   "cell_type": "code",
   "execution_count": 32,
   "metadata": {
    "collapsed": true
   },
   "outputs": [
    {
     "data": {
      "text/plain": [
       "[0.0,\n",
       " 0.02727272727272727,\n",
       " 0.05454545454545454,\n",
       " 0.08181818181818182,\n",
       " 0.10909090909090909,\n",
       " 0.13636363636363635,\n",
       " 0.16363636363636364,\n",
       " 0.19090909090909092,\n",
       " 0.21818181818181817,\n",
       " 0.24545454545454545,\n",
       " 0.2727272727272727,\n",
       " 0.3,\n",
       " 0.32727272727272727,\n",
       " 0.35454545454545455,\n",
       " 0.38181818181818183,\n",
       " 0.4090909090909091,\n",
       " 0.43636363636363634,\n",
       " 0.4636363636363636,\n",
       " 0.4909090909090909,\n",
       " 0.5181818181818182,\n",
       " 0.5454545454545454,\n",
       " 0.5727272727272728,\n",
       " 0.6,\n",
       " 0.6272727272727273,\n",
       " 0.6545454545454545,\n",
       " 0.6818181818181818,\n",
       " 0.7090909090909091,\n",
       " 0.7363636363636363,\n",
       " 0.7636363636363637,\n",
       " 0.7909090909090909,\n",
       " 0.8181818181818182,\n",
       " 0.8454545454545455,\n",
       " 0.8727272727272727,\n",
       " 0.9,\n",
       " 0.9272727272727272,\n",
       " 0.9545454545454546,\n",
       " 0.9818181818181818]"
      ]
     },
     "execution_count": 32,
     "metadata": {},
     "output_type": "execute_result"
    }
   ],
   "source": [
    "bins[:-1]"
   ]
  },
  {
   "cell_type": "code",
   "execution_count": 33,
   "metadata": {
    "collapsed": true
   },
   "outputs": [],
   "source": [
    "y_score_df['conversion_rate'] = y_score_df['scored_y'] / y_score_df['all_y']"
   ]
  },
  {
   "cell_type": "code",
   "execution_count": 34,
   "metadata": {
    "collapsed": true
   },
   "outputs": [
    {
     "data": {
      "text/plain": [
       "0       0\n",
       "1       3\n",
       "2       6\n",
       "3       9\n",
       "4      12\n",
       "5      15\n",
       "6      18\n",
       "7      21\n",
       "8      24\n",
       "9      27\n",
       "10     30\n",
       "11     33\n",
       "12     36\n",
       "13     39\n",
       "14     42\n",
       "15     45\n",
       "16     48\n",
       "17     51\n",
       "18     54\n",
       "19     57\n",
       "20     60\n",
       "21     63\n",
       "22     66\n",
       "23     69\n",
       "24     72\n",
       "25     75\n",
       "26     78\n",
       "27     81\n",
       "28     84\n",
       "29     87\n",
       "30     90\n",
       "31     93\n",
       "32     96\n",
       "33     99\n",
       "34    102\n",
       "35    105\n",
       "36    108\n",
       "Name: yards, dtype: int64"
      ]
     },
     "execution_count": 34,
     "metadata": {},
     "output_type": "execute_result"
    }
   ],
   "source": [
    "y_score_df['yards'] = y_score_df.index * yardage\n",
    "y_score_df['yards']"
   ]
  },
  {
   "cell_type": "code",
   "execution_count": 35,
   "metadata": {
    "collapsed": true
   },
   "outputs": [
    {
     "data": {
      "text/html": [
       "<div>\n",
       "<style scoped>\n",
       "    .dataframe tbody tr th:only-of-type {\n",
       "        vertical-align: middle;\n",
       "    }\n",
       "\n",
       "    .dataframe tbody tr th {\n",
       "        vertical-align: top;\n",
       "    }\n",
       "\n",
       "    .dataframe thead th {\n",
       "        text-align: right;\n",
       "    }\n",
       "</style>\n",
       "<table border=\"1\" class=\"dataframe\">\n",
       "  <thead>\n",
       "    <tr style=\"text-align: right;\">\n",
       "      <th></th>\n",
       "      <th>all_y</th>\n",
       "      <th>scored_y</th>\n",
       "      <th>bins</th>\n",
       "      <th>conversion_rate</th>\n",
       "      <th>yards</th>\n",
       "    </tr>\n",
       "  </thead>\n",
       "  <tbody>\n",
       "    <tr>\n",
       "      <td>5</td>\n",
       "      <td>16</td>\n",
       "      <td>9</td>\n",
       "      <td>0.136364</td>\n",
       "      <td>0.562500</td>\n",
       "      <td>15</td>\n",
       "    </tr>\n",
       "    <tr>\n",
       "      <td>6</td>\n",
       "      <td>61</td>\n",
       "      <td>21</td>\n",
       "      <td>0.163636</td>\n",
       "      <td>0.344262</td>\n",
       "      <td>18</td>\n",
       "    </tr>\n",
       "    <tr>\n",
       "      <td>7</td>\n",
       "      <td>38</td>\n",
       "      <td>15</td>\n",
       "      <td>0.190909</td>\n",
       "      <td>0.394737</td>\n",
       "      <td>21</td>\n",
       "    </tr>\n",
       "    <tr>\n",
       "      <td>8</td>\n",
       "      <td>32</td>\n",
       "      <td>16</td>\n",
       "      <td>0.218182</td>\n",
       "      <td>0.500000</td>\n",
       "      <td>24</td>\n",
       "    </tr>\n",
       "    <tr>\n",
       "      <td>9</td>\n",
       "      <td>57</td>\n",
       "      <td>22</td>\n",
       "      <td>0.245455</td>\n",
       "      <td>0.385965</td>\n",
       "      <td>27</td>\n",
       "    </tr>\n",
       "    <tr>\n",
       "      <td>10</td>\n",
       "      <td>45</td>\n",
       "      <td>24</td>\n",
       "      <td>0.272727</td>\n",
       "      <td>0.533333</td>\n",
       "      <td>30</td>\n",
       "    </tr>\n",
       "    <tr>\n",
       "      <td>11</td>\n",
       "      <td>58</td>\n",
       "      <td>26</td>\n",
       "      <td>0.300000</td>\n",
       "      <td>0.448276</td>\n",
       "      <td>33</td>\n",
       "    </tr>\n",
       "    <tr>\n",
       "      <td>12</td>\n",
       "      <td>65</td>\n",
       "      <td>31</td>\n",
       "      <td>0.327273</td>\n",
       "      <td>0.476923</td>\n",
       "      <td>36</td>\n",
       "    </tr>\n",
       "    <tr>\n",
       "      <td>13</td>\n",
       "      <td>57</td>\n",
       "      <td>32</td>\n",
       "      <td>0.354545</td>\n",
       "      <td>0.561404</td>\n",
       "      <td>39</td>\n",
       "    </tr>\n",
       "    <tr>\n",
       "      <td>14</td>\n",
       "      <td>55</td>\n",
       "      <td>32</td>\n",
       "      <td>0.381818</td>\n",
       "      <td>0.581818</td>\n",
       "      <td>42</td>\n",
       "    </tr>\n",
       "    <tr>\n",
       "      <td>15</td>\n",
       "      <td>40</td>\n",
       "      <td>23</td>\n",
       "      <td>0.409091</td>\n",
       "      <td>0.575000</td>\n",
       "      <td>45</td>\n",
       "    </tr>\n",
       "    <tr>\n",
       "      <td>16</td>\n",
       "      <td>64</td>\n",
       "      <td>40</td>\n",
       "      <td>0.436364</td>\n",
       "      <td>0.625000</td>\n",
       "      <td>48</td>\n",
       "    </tr>\n",
       "    <tr>\n",
       "      <td>17</td>\n",
       "      <td>62</td>\n",
       "      <td>31</td>\n",
       "      <td>0.463636</td>\n",
       "      <td>0.500000</td>\n",
       "      <td>51</td>\n",
       "    </tr>\n",
       "    <tr>\n",
       "      <td>18</td>\n",
       "      <td>56</td>\n",
       "      <td>35</td>\n",
       "      <td>0.490909</td>\n",
       "      <td>0.625000</td>\n",
       "      <td>54</td>\n",
       "    </tr>\n",
       "    <tr>\n",
       "      <td>19</td>\n",
       "      <td>40</td>\n",
       "      <td>25</td>\n",
       "      <td>0.518182</td>\n",
       "      <td>0.625000</td>\n",
       "      <td>57</td>\n",
       "    </tr>\n",
       "    <tr>\n",
       "      <td>20</td>\n",
       "      <td>63</td>\n",
       "      <td>31</td>\n",
       "      <td>0.545455</td>\n",
       "      <td>0.492063</td>\n",
       "      <td>60</td>\n",
       "    </tr>\n",
       "    <tr>\n",
       "      <td>21</td>\n",
       "      <td>41</td>\n",
       "      <td>26</td>\n",
       "      <td>0.572727</td>\n",
       "      <td>0.634146</td>\n",
       "      <td>63</td>\n",
       "    </tr>\n",
       "    <tr>\n",
       "      <td>22</td>\n",
       "      <td>41</td>\n",
       "      <td>30</td>\n",
       "      <td>0.600000</td>\n",
       "      <td>0.731707</td>\n",
       "      <td>66</td>\n",
       "    </tr>\n",
       "    <tr>\n",
       "      <td>23</td>\n",
       "      <td>48</td>\n",
       "      <td>28</td>\n",
       "      <td>0.627273</td>\n",
       "      <td>0.583333</td>\n",
       "      <td>69</td>\n",
       "    </tr>\n",
       "    <tr>\n",
       "      <td>24</td>\n",
       "      <td>43</td>\n",
       "      <td>22</td>\n",
       "      <td>0.654545</td>\n",
       "      <td>0.511628</td>\n",
       "      <td>72</td>\n",
       "    </tr>\n",
       "    <tr>\n",
       "      <td>25</td>\n",
       "      <td>61</td>\n",
       "      <td>39</td>\n",
       "      <td>0.681818</td>\n",
       "      <td>0.639344</td>\n",
       "      <td>75</td>\n",
       "    </tr>\n",
       "    <tr>\n",
       "      <td>26</td>\n",
       "      <td>38</td>\n",
       "      <td>25</td>\n",
       "      <td>0.709091</td>\n",
       "      <td>0.657895</td>\n",
       "      <td>78</td>\n",
       "    </tr>\n",
       "    <tr>\n",
       "      <td>27</td>\n",
       "      <td>23</td>\n",
       "      <td>16</td>\n",
       "      <td>0.736364</td>\n",
       "      <td>0.695652</td>\n",
       "      <td>81</td>\n",
       "    </tr>\n",
       "    <tr>\n",
       "      <td>28</td>\n",
       "      <td>31</td>\n",
       "      <td>26</td>\n",
       "      <td>0.763636</td>\n",
       "      <td>0.838710</td>\n",
       "      <td>84</td>\n",
       "    </tr>\n",
       "    <tr>\n",
       "      <td>29</td>\n",
       "      <td>12</td>\n",
       "      <td>8</td>\n",
       "      <td>0.790909</td>\n",
       "      <td>0.666667</td>\n",
       "      <td>87</td>\n",
       "    </tr>\n",
       "  </tbody>\n",
       "</table>\n",
       "</div>"
      ],
      "text/plain": [
       "    all_y  scored_y      bins  conversion_rate  yards\n",
       "5      16         9  0.136364         0.562500     15\n",
       "6      61        21  0.163636         0.344262     18\n",
       "7      38        15  0.190909         0.394737     21\n",
       "8      32        16  0.218182         0.500000     24\n",
       "9      57        22  0.245455         0.385965     27\n",
       "10     45        24  0.272727         0.533333     30\n",
       "11     58        26  0.300000         0.448276     33\n",
       "12     65        31  0.327273         0.476923     36\n",
       "13     57        32  0.354545         0.561404     39\n",
       "14     55        32  0.381818         0.581818     42\n",
       "15     40        23  0.409091         0.575000     45\n",
       "16     64        40  0.436364         0.625000     48\n",
       "17     62        31  0.463636         0.500000     51\n",
       "18     56        35  0.490909         0.625000     54\n",
       "19     40        25  0.518182         0.625000     57\n",
       "20     63        31  0.545455         0.492063     60\n",
       "21     41        26  0.572727         0.634146     63\n",
       "22     41        30  0.600000         0.731707     66\n",
       "23     48        28  0.627273         0.583333     69\n",
       "24     43        22  0.654545         0.511628     72\n",
       "25     61        39  0.681818         0.639344     75\n",
       "26     38        25  0.709091         0.657895     78\n",
       "27     23        16  0.736364         0.695652     81\n",
       "28     31        26  0.763636         0.838710     84\n",
       "29     12         8  0.790909         0.666667     87"
      ]
     },
     "execution_count": 35,
     "metadata": {},
     "output_type": "execute_result"
    }
   ],
   "source": [
    "y_score_df = y_score_df.dropna()\n",
    "y_score_df = y_score_df[y_score_df['all_y'] > 10]\n",
    "y_score_df"
   ]
  },
  {
   "cell_type": "code",
   "execution_count": 65,
   "metadata": {},
   "outputs": [
    {
     "data": {
      "image/png": "[encoded data removed]",
      "text/plain": [
       "<Figure size 648x288 with 1 Axes>"
      ]
     },
     "metadata": {
      "needs_background": "light"
     },
     "output_type": "display_data"
    }
   ],
   "source": [
    "#chance of scoring by field position\n",
    "fig = plt.figure(figsize=(9,4))\n",
    "\n",
    "x = y_score_df['yards']\n",
    "y = y_score_df['conversion_rate']\n",
    "#plt.scatter(x,y)\n",
    "\n",
    "z = np.polyfit(x, y, 3)\n",
    "p = np.poly1d(z)\n",
    "plt.plot(x,p(x),\"g\")\n",
    "\n",
    "xtick = 10\n",
    "ytick = .1\n",
    "\n",
    "plt.xticks(ticks=[xtick*9,xtick*8,xtick*7,xtick*6,xtick*5,xtick*4,xtick*3,xtick*2,xtick*1,xtick*0],\n",
    "          labels=[90,80,'Own\\nEndzone',60,50,40,30,20,10,'Scoring\\nEndzone'][::-1])\n",
    "plt.yticks(ticks=[ytick,ytick*2,ytick*3,ytick*4,ytick*5,ytick*6,ytick*7,ytick*8,ytick*9,ytick*10])\n",
    "plt.xlabel('Yards from scoring')\n",
    "plt.ylabel('Chance of scoring')\n",
    "#plt.legend(loc='upper right')\n",
    "plt.title('Chance of scoring by field position')\n",
    "\n",
    "plt.grid(which='major', axis='y' ,linestyle='-.', linewidth='.2', color='black')\n",
    "plt.show()\n",
    "fig.savefig('/Users/maxcohen/Documents/Blueprint Stats/figs/chance_score_field_position.png',dpi=300, \n",
    "            bbox_inches= 'tight')"
   ]
  },
  {
   "cell_type": "code",
   "execution_count": null,
   "metadata": {
    "collapsed": true
   },
   "outputs": [],
   "source": []
  },
  {
   "cell_type": "code",
   "execution_count": null,
   "metadata": {
    "collapsed": true
   },
   "outputs": [],
   "source": []
  },
  {
   "cell_type": "code",
   "execution_count": null,
   "metadata": {
    "collapsed": true
   },
   "outputs": [],
   "source": []
  },
  {
   "cell_type": "code",
   "execution_count": null,
   "metadata": {
    "collapsed": true
   },
   "outputs": [],
   "source": []
  },
  {
   "cell_type": "code",
   "execution_count": null,
   "metadata": {
    "collapsed": true
   },
   "outputs": [],
   "source": []
  },
  {
   "cell_type": "markdown",
   "metadata": {},
   "source": [
    "### ADD ALL GAMES DF"
   ]
  },
  {
   "cell_type": "code",
   "execution_count": null,
   "metadata": {
    "collapsed": true
   },
   "outputs": [],
   "source": [
    "games_file = '/Users/maxcohen/Documents/Blueprint Stats/Blueprint 2019 Games.csv'\n",
    "games_df = pd.read_csv(games_file)\n",
    "games_df"
   ]
  },
  {
   "cell_type": "markdown",
   "metadata": {},
   "source": [
    "### ADD PLAYER STATS DF"
   ]
  },
  {
   "cell_type": "code",
   "execution_count": null,
   "metadata": {
    "collapsed": true
   },
   "outputs": [],
   "source": [
    "player_stats_file = '/Users/maxcohen/Documents/Blueprint Stats/Blueprint 2019 Players.csv'\n",
    "player_stats_df = pd.read_csv(player_stats_file)\n",
    "player_stats_df"
   ]
  },
  {
   "cell_type": "code",
   "execution_count": null,
   "metadata": {
    "collapsed": true
   },
   "outputs": [],
   "source": [
    "#change all columns to numeric\n",
    "column_list = ['Total completed throw distance (m)','Total completed throw gain (m)',\n",
    "                 'Total caught pass distance (m)']\n",
    "for i in column_list:\n",
    "    player_stats_df[i] = [x.replace(',','') for x in player_stats_df[i]]\n",
    "    player_stats_df[i] = pd.to_numeric(player_stats_df[i])             "
   ]
  },
  {
   "cell_type": "code",
   "execution_count": null,
   "metadata": {
    "collapsed": true
   },
   "outputs": [],
   "source": [
    "player_stats_df = player_stats_df.set_index('Player')"
   ]
  },
  {
   "cell_type": "code",
   "execution_count": null,
   "metadata": {
    "collapsed": true
   },
   "outputs": [],
   "source": [
    "player_stats_df.dtypes"
   ]
  },
  {
   "cell_type": "code",
   "execution_count": null,
   "metadata": {
    "collapsed": true
   },
   "outputs": [],
   "source": [
    "#create a column for \"handler/cutter\"\n",
    "position_df = pd.DataFrame(columns=['Player','Position'])"
   ]
  },
  {
   "cell_type": "code",
   "execution_count": null,
   "metadata": {
    "collapsed": true
   },
   "outputs": [],
   "source": [
    "position_df['Player'] = list(player_stats_df.index)"
   ]
  },
  {
   "cell_type": "code",
   "execution_count": null,
   "metadata": {
    "collapsed": true
   },
   "outputs": [],
   "source": [
    "position_df['Position'] = ['C','C','C','H','C','H','C','C','C','C','H','C','C','H','C','C','H','C','H','H','C','C',\n",
    "                          'H','C','C','H','C','H']"
   ]
  },
  {
   "cell_type": "code",
   "execution_count": null,
   "metadata": {
    "collapsed": true
   },
   "outputs": [],
   "source": [
    "player_stats_df['percent_Opp'] = player_stats_df['Offense points played'] / player_stats_df['Points played total']"
   ]
  },
  {
   "cell_type": "code",
   "execution_count": null,
   "metadata": {
    "collapsed": true
   },
   "outputs": [],
   "source": [
    "player_stats_df['Line'] = ['Off' if x >= .66 else 'def' if x < .33 else 'Flex' \n",
    "                           for x in player_stats_df['percent_Opp']]"
   ]
  },
  {
   "cell_type": "code",
   "execution_count": null,
   "metadata": {
    "collapsed": true
   },
   "outputs": [],
   "source": [
    "player_stats_df['Line']"
   ]
  },
  {
   "cell_type": "code",
   "execution_count": null,
   "metadata": {
    "collapsed": true
   },
   "outputs": [],
   "source": [
    "position_df = position_df.set_index('Player')"
   ]
  },
  {
   "cell_type": "code",
   "execution_count": null,
   "metadata": {
    "collapsed": true
   },
   "outputs": [],
   "source": [
    "player_stats_df = player_stats_df.join(position_df)"
   ]
  },
  {
   "cell_type": "markdown",
   "metadata": {},
   "source": [
    "### PLUS MINUS TABLE "
   ]
  },
  {
   "cell_type": "code",
   "execution_count": null,
   "metadata": {
    "collapsed": true
   },
   "outputs": [],
   "source": [
    "player_stats_df['plus/minus'] = player_stats_df['Goals'] + player_stats_df['Assists'] + \\\n",
    "player_stats_df['Secondary assists']*.5 + player_stats_df['Defensive blocks'] - player_stats_df['Turnovers']"
   ]
  },
  {
   "cell_type": "code",
   "execution_count": null,
   "metadata": {
    "collapsed": true
   },
   "outputs": [],
   "source": [
    "player_stats_df['offense_plus/minus'] = player_stats_df['Goals'] + player_stats_df['Assists'] + \\\n",
    "player_stats_df['Secondary assists']*.5 - player_stats_df['Turnovers']"
   ]
  },
  {
   "cell_type": "code",
   "execution_count": null,
   "metadata": {
    "collapsed": true
   },
   "outputs": [],
   "source": [
    "plus_minus = player_stats_df[['Position','Line','Touches','plus/minus','Goals','Assists',\n",
    "                 'Secondary assists','Defensive blocks','Turnovers']].sort_values(by='plus/minus',ascending=False)\n",
    "plus_minus"
   ]
  },
  {
   "cell_type": "code",
   "execution_count": null,
   "metadata": {
    "collapsed": true
   },
   "outputs": [],
   "source": [
    "offense_plus_minus = player_stats_df[['Position','Line','offense_plus/minus','Goals','Assists','Secondary assists',\n",
    "                                      'Turnovers']].sort_values(by='offense_plus/minus',ascending=False)\n",
    "offense_plus_minus"
   ]
  },
  {
   "cell_type": "code",
   "execution_count": null,
   "metadata": {
    "collapsed": true
   },
   "outputs": [],
   "source": [
    "player_stats_df['Turnovers'].sum()"
   ]
  },
  {
   "cell_type": "code",
   "execution_count": null,
   "metadata": {
    "collapsed": true
   },
   "outputs": [],
   "source": [
    "player_stats_df['Total completed throw distance (m)'].sum() / player_stats_df['Turnovers'].sum()"
   ]
  },
  {
   "cell_type": "markdown",
   "metadata": {},
   "source": [
    "### TOTAL DISTANCE TABLE"
   ]
  },
  {
   "cell_type": "code",
   "execution_count": null,
   "metadata": {
    "collapsed": true
   },
   "outputs": [],
   "source": [
    "player_stats_df['dist_throw/turn'] = player_stats_df['Total completed throw distance (m)'] / \\\n",
    "player_stats_df['Thrower errors']\n",
    "\n",
    "player_stats_df['dist_rec/turn'] = player_stats_df['Total caught pass distance (m)'] / \\\n",
    "player_stats_df['Receiver errors']"
   ]
  },
  {
   "cell_type": "code",
   "execution_count": null,
   "metadata": {
    "collapsed": true
   },
   "outputs": [],
   "source": [
    "player_stats_df['total_dist'] = player_stats_df['Total completed throw distance (m)'] + \\\n",
    "player_stats_df['Total caught pass distance (m)']\n",
    "\n",
    "player_stats_df['total_dist/turn'] = player_stats_df['total_dist'] / player_stats_df['Turnovers']"
   ]
  },
  {
   "cell_type": "code",
   "execution_count": null,
   "metadata": {
    "collapsed": true
   },
   "outputs": [],
   "source": [
    "player_stats_df[['total_dist','total_dist/turn','dist_throw/turn',\n",
    "                 'dist_rec/turn']].sort_values(by='total_dist/turn', ascending=False)"
   ]
  },
  {
   "cell_type": "code",
   "execution_count": null,
   "metadata": {
    "collapsed": true
   },
   "outputs": [],
   "source": [
    "player_stats_df.dtypes"
   ]
  },
  {
   "cell_type": "markdown",
   "metadata": {},
   "source": [
    "### TOTAL GAIN TABLE "
   ]
  },
  {
   "cell_type": "code",
   "execution_count": null,
   "metadata": {
    "collapsed": true
   },
   "outputs": [],
   "source": [
    "player_stats_df['gain_throw/turn'] = player_stats_df['Total completed throw gain (m)'] / \\\n",
    "player_stats_df['Thrower errors']\n",
    "\n",
    "player_stats_df['gain_rec/turn'] = player_stats_df['Total caught pass gain (m)'] / \\\n",
    "player_stats_df['Receiver errors']"
   ]
  },
  {
   "cell_type": "code",
   "execution_count": null,
   "metadata": {
    "collapsed": true
   },
   "outputs": [],
   "source": [
    "player_stats_df['total_gain'] = player_stats_df['Total completed throw gain (m)'] + \\\n",
    "player_stats_df['Total caught pass gain (m)']\n",
    "\n",
    "player_stats_df['total_gain/turn'] = player_stats_df['total_gain'] / player_stats_df['Turnovers']"
   ]
  },
  {
   "cell_type": "code",
   "execution_count": null,
   "metadata": {
    "collapsed": true
   },
   "outputs": [],
   "source": [
    "player_stats_df[['total_gain','Total completed throw gain (m)','Total caught pass gain (m)',\n",
    "                 'total_gain/turn','gain_throw/turn',\n",
    "                 'gain_rec/turn']].sort_values(by='total_gain', ascending=False)"
   ]
  },
  {
   "cell_type": "code",
   "execution_count": null,
   "metadata": {
    "collapsed": true
   },
   "outputs": [],
   "source": [
    "player_stats_df['total_gain/turn'].median()"
   ]
  },
  {
   "cell_type": "markdown",
   "metadata": {},
   "source": [
    "### SCORE RATE TABLE"
   ]
  },
  {
   "cell_type": "code",
   "execution_count": null,
   "metadata": {
    "collapsed": true
   },
   "outputs": [],
   "source": [
    "player_stats_df.columns"
   ]
  },
  {
   "cell_type": "code",
   "execution_count": null,
   "metadata": {
    "collapsed": true
   },
   "outputs": [],
   "source": [
    "player_stats_df['O_score_rate'] = player_stats_df['Offense points won'] / \\\n",
    "player_stats_df['Offense points played']\n",
    "\n",
    "player_stats_df['d_score_rate'] = player_stats_df['Defense points won'] / \\\n",
    "player_stats_df['Defense points played']\n",
    "\n",
    "player_stats_df['total_score_rate'] = (player_stats_df['Defense points won']+player_stats_df['Offense points won'])/ \\\n",
    "player_stats_df['Points played total']"
   ]
  },
  {
   "cell_type": "code",
   "execution_count": null,
   "metadata": {
    "collapsed": true
   },
   "outputs": [],
   "source": [
    "score_rate_table = player_stats_df[['Position','Line','total_score_rate','O_score_rate','d_score_rate',\n",
    "                 ]].sort_values(by='total_score_rate', ascending=False)\n",
    "score_rate_table"
   ]
  },
  {
   "cell_type": "markdown",
   "metadata": {},
   "source": [
    "### FIGURE OUT ZSCORE"
   ]
  },
  {
   "cell_type": "code",
   "execution_count": null,
   "metadata": {
    "collapsed": true
   },
   "outputs": [],
   "source": [
    "zscore_rate_table = score_rate_table.copy()"
   ]
  },
  {
   "cell_type": "code",
   "execution_count": null,
   "metadata": {
    "collapsed": true
   },
   "outputs": [],
   "source": [
    "numeric_cols = zscore_rate_table.select_dtypes(include=[np.number]).columns"
   ]
  },
  {
   "cell_type": "code",
   "execution_count": null,
   "metadata": {
    "collapsed": true
   },
   "outputs": [],
   "source": [
    "zscore_rate_table[numeric_cols].columns"
   ]
  },
  {
   "cell_type": "code",
   "execution_count": null,
   "metadata": {
    "collapsed": true
   },
   "outputs": [],
   "source": [
    "#find the zscore of every value\n",
    "for i in zscore_rate_table[numeric_cols].columns:\n",
    "    zscore_rate_table[i] = (zscore_rate_table[i] - zscore_rate_table[i].mean()) / zscore_rate_table[i].std(ddof=0)"
   ]
  },
  {
   "cell_type": "code",
   "execution_count": null,
   "metadata": {
    "collapsed": true
   },
   "outputs": [],
   "source": [
    "zscore_rate_table.columns = [x.replace('rate','z') for x in zscore_rate_table.columns]\n",
    "zscore_rate_table"
   ]
  },
  {
   "cell_type": "markdown",
   "metadata": {},
   "source": [
    "### OVERALL BOX SCORE"
   ]
  },
  {
   "cell_type": "code",
   "execution_count": null,
   "metadata": {
    "collapsed": true
   },
   "outputs": [],
   "source": [
    "#total stats and per-point-played stats\n",
    "#from left to right\n",
    "#name,position\n",
    "#points played (o/d)\n",
    "#touches, +/-, goals, assists, hockey assists, d's, turns\n",
    "#yardage gained (throw/rec)\n",
    "#score rate\n",
    "#team totals at the bottom"
   ]
  },
  {
   "cell_type": "code",
   "execution_count": null,
   "metadata": {
    "collapsed": true
   },
   "outputs": [],
   "source": [
    "player_stats_df['throw_completion_rate'] = (1 - (player_stats_df['Thrower errors'] / player_stats_df['Throws'])) * 100\n",
    "player_stats_df['throw_completion_rate'] = player_stats_df['throw_completion_rate'].round(decimals=2)"
   ]
  },
  {
   "cell_type": "code",
   "execution_count": null,
   "metadata": {
    "collapsed": true
   },
   "outputs": [],
   "source": [
    "player_stats_df['throw_completion_rate'].mean()"
   ]
  },
  {
   "cell_type": "code",
   "execution_count": null,
   "metadata": {
    "collapsed": true
   },
   "outputs": [],
   "source": [
    "player_stats_df.columns"
   ]
  },
  {
   "cell_type": "code",
   "execution_count": null,
   "metadata": {
    "collapsed": true
   },
   "outputs": [],
   "source": [
    "box_score = player_stats_df[['Position','Line','Points played total',\n",
    "                 'Touches','plus/minus','Goals','Assists','Secondary assists','Defensive blocks','Turnovers',\n",
    "                 'throw_completion_rate','total_gain','Total completed throw gain (m)','Total caught pass gain (m)',\n",
    "                 'O_score_rate','d_score_rate']].sort_values(by=['plus/minus','total_gain'],ascending=False)\n",
    "box_score"
   ]
  },
  {
   "cell_type": "markdown",
   "metadata": {},
   "source": [
    "### HANDLER NUMBER (https://twitter.com/sotgstats/status/885529847623274496/photo/1)"
   ]
  },
  {
   "cell_type": "code",
   "execution_count": null,
   "metadata": {
    "collapsed": true
   },
   "outputs": [],
   "source": [
    "player_stats_df['thrower_usage'] = player_stats_df['Throws'] / player_stats_df['Throws'].sum() * 100"
   ]
  },
  {
   "cell_type": "code",
   "execution_count": null,
   "metadata": {
    "collapsed": true
   },
   "outputs": [],
   "source": [
    "player_stats_df['handler_number'] = player_stats_df['thrower_usage'] + player_stats_df['throw_completion_rate']"
   ]
  },
  {
   "cell_type": "code",
   "execution_count": null,
   "metadata": {
    "collapsed": true
   },
   "outputs": [],
   "source": []
  },
  {
   "cell_type": "code",
   "execution_count": null,
   "metadata": {
    "collapsed": true
   },
   "outputs": [],
   "source": []
  },
  {
   "cell_type": "code",
   "execution_count": null,
   "metadata": {
    "collapsed": true
   },
   "outputs": [],
   "source": []
  },
  {
   "cell_type": "markdown",
   "metadata": {
    "collapsed": true
   },
   "source": [
    "### DETERMINE D TO O RATIOS "
   ]
  },
  {
   "cell_type": "code",
   "execution_count": null,
   "metadata": {
    "collapsed": true
   },
   "outputs": [],
   "source": [
    "#determine the qualifier between o points and d points\n",
    "#how many more yards are gained on o points than d points\n",
    "#can use this as some sort of measuring stick to qualify players offensive performance\n",
    "\n",
    "#we can combine the passes and possessions dfs \n",
    "passes_df.columns.intersection(poss_df.columns)"
   ]
  },
  {
   "cell_type": "code",
   "execution_count": null,
   "metadata": {
    "collapsed": true
   },
   "outputs": [],
   "source": [
    "full_poss_df.columns"
   ]
  },
  {
   "cell_type": "code",
   "execution_count": null,
   "metadata": {
    "collapsed": true
   },
   "outputs": [],
   "source": [
    "#how many more yards are GAINED on o points than d points\n",
    "o_dist_gain = full_poss_df[['Forward distance (m)']].where(full_poss_df['Started point on offense?'] == 1).sum()[0]\n",
    "d_dist_gain = full_poss_df[['Forward distance (m)']].where(full_poss_df['Started point on offense?'] == 0).sum()[0]"
   ]
  },
  {
   "cell_type": "code",
   "execution_count": null,
   "metadata": {
    "collapsed": true
   },
   "outputs": [],
   "source": [
    "#how many more yards are TOTAL THROWN on o points than d points\n",
    "o_dist_total = full_poss_df[['Distance (m)']].where(full_poss_df['Started point on offense?'] == 1).sum()[0]\n",
    "d_dist_total = full_poss_df[['Distance (m)']].where(full_poss_df['Started point on offense?'] == 0).sum()[0]"
   ]
  },
  {
   "cell_type": "code",
   "execution_count": null,
   "metadata": {
    "collapsed": true
   },
   "outputs": [],
   "source": [
    "mult_d_total = ((o_dist_total + d_dist_total) / 2) / d_dist_total\n",
    "mult_o_total = ((o_dist_total + d_dist_total) / 2) / o_dist_total"
   ]
  },
  {
   "cell_type": "code",
   "execution_count": null,
   "metadata": {
    "collapsed": true
   },
   "outputs": [],
   "source": [
    "mult_d_gain = ((o_dist_gain / d_dist_gain) / 2) / d_dist_gain\n",
    "mult_o_gain = ((o_dist_gain / d_dist_gain) / 2) / o_dist_gain"
   ]
  },
  {
   "cell_type": "code",
   "execution_count": null,
   "metadata": {
    "collapsed": true
   },
   "outputs": [],
   "source": [
    "#find o to d pp ratio\n",
    "player_stats_df['o_d_pp_ratio'] = player_stats_df['Offense points played'] / player_stats_df['Points played total']"
   ]
  },
  {
   "cell_type": "code",
   "execution_count": null,
   "metadata": {
    "collapsed": true
   },
   "outputs": [],
   "source": [
    "o_pp_ratio = player_stats_df.loc[0,'o_d_pp_ratio']"
   ]
  },
  {
   "cell_type": "code",
   "execution_count": null,
   "metadata": {
    "collapsed": true
   },
   "outputs": [],
   "source": [
    "player_stats_df.loc[0,'Total completed throw distance (m)']"
   ]
  },
  {
   "cell_type": "code",
   "execution_count": null,
   "metadata": {
    "collapsed": true
   },
   "outputs": [],
   "source": [
    "o_pp_ratio * abs(1-mult_d_total)"
   ]
  },
  {
   "cell_type": "code",
   "execution_count": null,
   "metadata": {
    "collapsed": true
   },
   "outputs": [],
   "source": []
  },
  {
   "cell_type": "code",
   "execution_count": null,
   "metadata": {
    "collapsed": true
   },
   "outputs": [],
   "source": []
  },
  {
   "cell_type": "code",
   "execution_count": null,
   "metadata": {
    "collapsed": true
   },
   "outputs": [],
   "source": []
  },
  {
   "cell_type": "code",
   "execution_count": null,
   "metadata": {
    "collapsed": true
   },
   "outputs": [],
   "source": []
  },
  {
   "cell_type": "code",
   "execution_count": null,
   "metadata": {
    "collapsed": true
   },
   "outputs": [],
   "source": []
  }
 ],
 "metadata": {
  "kernelspec": {
   "display_name": "Python 3",
   "language": "python",
   "name": "python3"
  },
  "language_info": {
   "codemirror_mode": {
    "name": "ipython",
    "version": 3
   },
   "file_extension": ".py",
   "mimetype": "text/x-python",
   "name": "python",
   "nbconvert_exporter": "python",
   "pygments_lexer": "ipython3",
   "version": "3.7.4"
  }
 },
 "nbformat": 4,
 "nbformat_minor": 2
}
