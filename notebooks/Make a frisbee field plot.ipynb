{
 "cells": [
  {
   "cell_type": "code",
   "execution_count": 4,
   "metadata": {},
   "outputs": [],
   "source": [
    "import pandas as pd\n",
    "import numpy as np\n",
    "import matplotlib.pyplot as plt\n",
    "%matplotlib inline\n",
    "import os\n",
    "from pdb import set_trace\n",
    "import glob\n",
    "from collections import Counter"
   ]
  },
  {
   "cell_type": "code",
   "execution_count": 5,
   "metadata": {},
   "outputs": [
    {
     "name": "stdout",
     "output_type": "stream",
     "text": [
      "All Throws - Charts.ipynb        Possession + Passes Stats.ipynb\r\n",
      "Centering Passes.ipynb           completion_pct.ipynb\r\n",
      "Individual Player Stats.ipynb    passing_matrix.ipynb\r\n",
      "Lineup Data.ipynb                scoring_maps.ipynb\r\n",
      "Make a frisbee field plot.ipynb\r\n"
     ]
    }
   ],
   "source": [
    "ls"
   ]
  },
  {
   "cell_type": "code",
   "execution_count": 6,
   "metadata": {},
   "outputs": [
    {
     "name": "stdout",
     "output_type": "stream",
     "text": [
      "/Users/maxcohen/Documents/blueprint-stats\n"
     ]
    }
   ],
   "source": [
    "cd .."
   ]
  },
  {
   "cell_type": "code",
   "execution_count": 17,
   "metadata": {},
   "outputs": [],
   "source": [
    "def draw_field(figsize=(4/1.2,11/1.2), color='black', lw=2):\n",
    "    \n",
    "    fig = plt.figure(figsize=figsize)\n",
    "    \n",
    "    #attacking endzone line\n",
    "    x1 = [0,1]\n",
    "    y1 = [.8181818,.8181818]\n",
    "    att_ezline = plt.plot(x1,y1,color=color,lw=lw,alpha=.3)\n",
    "\n",
    "    #defending endzone line\n",
    "    x2 = [0,1]\n",
    "    y2 = [.1818181,.1818181]\n",
    "    def_ezline = plt.plot(x2,y2,color=color,lw=lw,alpha=.3)\n",
    "\n",
    "    #backhand sideline\n",
    "    x3 = [0,0]\n",
    "    y3 = [0,1]\n",
    "    bh_side = plt.plot(x3,y3,color=color,lw=lw)\n",
    "\n",
    "    #flick sideline\n",
    "    x4 = [1,1]\n",
    "    y4 = [0,1]\n",
    "    fl_side = plt.plot(x4,y4,color=color,lw=lw)\n",
    "\n",
    "    #attacking backline\n",
    "    x5 = [0,1]\n",
    "    y5 = [1,1]\n",
    "    att_bline = plt.plot(x5,y5,color=color,lw=lw)\n",
    "\n",
    "    #defending backline\n",
    "    x6 = [0,1]\n",
    "    y6 = [0,0]\n",
    "    def_bline = plt.plot(x6,y6,color=color,lw=lw)\n",
    "\n",
    "    xtick = .25/2\n",
    "    ytick = .181818/2\n",
    "\n",
    "    xmarkers = plt.xticks(ticks=[xtick,xtick*2,xtick*3,xtick*4,xtick*5,xtick*6,xtick*7],\n",
    "              labels=[5,10,15,20,15,10,5])\n",
    "    ymarkers = plt.yticks(ticks=[ytick*2,ytick*3,ytick*4,ytick*5,ytick*6,ytick*7,ytick*8,ytick*9],\n",
    "              labels=[0,10,20,30,40,50,60,'Goal'])"
   ]
  },
  {
   "cell_type": "code",
   "execution_count": 19,
   "metadata": {},
   "outputs": [
    {
     "data": {
      "image/png": "[encoded data removed]",
      "text/plain": [
       "<Figure size 240x660 with 1 Axes>"
      ]
     },
     "metadata": {
      "needs_background": "light"
     },
     "output_type": "display_data"
    }
   ],
   "source": [
    "draw_field()"
   ]
  },
  {
   "cell_type": "code",
   "execution_count": null,
   "metadata": {},
   "outputs": [],
   "source": []
  }
 ],
 "metadata": {
  "kernelspec": {
   "display_name": "Python 3",
   "language": "python",
   "name": "python3"
  },
  "language_info": {
   "codemirror_mode": {
    "name": "ipython",
    "version": 3
   },
   "file_extension": ".py",
   "mimetype": "text/x-python",
   "name": "python",
   "nbconvert_exporter": "python",
   "pygments_lexer": "ipython3",
   "version": "3.7.4"
  }
 },
 "nbformat": 4,
 "nbformat_minor": 2
}
