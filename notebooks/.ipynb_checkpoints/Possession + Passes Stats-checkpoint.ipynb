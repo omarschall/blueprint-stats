{
 "cells": [
  {
   "cell_type": "markdown",
   "metadata": {},
   "source": [
    "### what do we want in a box score?"
   ]
  },
  {
   "cell_type": "code",
   "execution_count": 1,
   "metadata": {},
   "outputs": [],
   "source": [
    "import pandas as pd\n",
    "import numpy as np\n",
    "import matplotlib.pyplot as plt\n",
    "%matplotlib inline\n",
    "import os\n",
    "from pdb import set_trace\n",
    "import glob\n",
    "from collections import Counter"
   ]
  },
  {
   "cell_type": "code",
   "execution_count": 17,
   "metadata": {
    "scrolled": true
   },
   "outputs": [
    {
     "name": "stdout",
     "output_type": "stream",
     "text": [
      "BP_2019_Full_Possession_Data.csv\r\n",
      "Possessions vs. Big Wrench 2019-09-22_12-00-36 (1).csv\r\n",
      "Possessions vs. Citywide 2019-08-10_15-00-30 (1).csv\r\n",
      "Possessions vs. El Nino 2019-08-10_16-00-57 (1).csv\r\n",
      "Possessions vs. Floodwall 2019-08-10_09-30-50 (1).csv\r\n",
      "Possessions vs. HIP 2019-08-11_10-00-56 (1).csv\r\n",
      "Possessions vs. Lantern 2019-09-22_14-38-56 (1).csv\r\n",
      "Possessions vs. Lost  Boys 2019-08-10_00-00-24 (1).csv\r\n",
      "Possessions vs. Red Circus 2019-09-21_14-00-53 (1).csv\r\n",
      "Possessions vs. Shade 2019-09-08_14-00-14 (1).csv\r\n",
      "Possessions vs. Vault 2019-08-11_14-00-42 (1).csv\r\n"
     ]
    }
   ],
   "source": [
    "ls"
   ]
  },
  {
   "cell_type": "code",
   "execution_count": 21,
   "metadata": {},
   "outputs": [
    {
     "name": "stdout",
     "output_type": "stream",
     "text": [
      "/Users/maxcohen/Documents/blueprint-stats\n"
     ]
    }
   ],
   "source": [
    "cd .."
   ]
  },
  {
   "cell_type": "code",
   "execution_count": 22,
   "metadata": {},
   "outputs": [
    {
     "name": "stdout",
     "output_type": "stream",
     "text": [
      "README.md  \u001b[34mfigs\u001b[m\u001b[m/      \u001b[34mlibrary\u001b[m\u001b[m/   \u001b[34mnotebooks\u001b[m\u001b[m/\r\n"
     ]
    }
   ],
   "source": [
    "ls"
   ]
  },
  {
   "cell_type": "markdown",
   "metadata": {},
   "source": [
    "### COMBINE GAMExGAME POSSESSION DATA INTO ONE POSS_DF"
   ]
  },
  {
   "cell_type": "code",
   "execution_count": 23,
   "metadata": {},
   "outputs": [],
   "source": [
    "#give file path abbreviation\n",
    "poss_path_abbr = 'library/possessions/Possessions vs.*.csv'\n",
    "#create list of files that match the possession convention\n",
    "file_list = glob.glob(poss_path_abbr)\n",
    "#create an empty df\n",
    "poss_df = pd.DataFrame()\n",
    "#loop through each file in the list\n",
    "for file in file_list:\n",
    "    #add an oppnent depending on the name of the file\n",
    "    opponent = file.split('vs. ')[1].split(' 2019')[0]\n",
    "    df_ = pd.read_csv(file)\n",
    "    #add oppenent name column\n",
    "    df_['opponent'] = opponent\n",
    "    #append file to the overall poss_df\n",
    "    poss_df = poss_df.append(df_)"
   ]
  },
  {
   "cell_type": "code",
   "execution_count": 25,
   "metadata": {},
   "outputs": [
    {
     "data": {
      "text/html": [
       "<div>\n",
       "<style scoped>\n",
       "    .dataframe tbody tr th:only-of-type {\n",
       "        vertical-align: middle;\n",
       "    }\n",
       "\n",
       "    .dataframe tbody tr th {\n",
       "        vertical-align: top;\n",
       "    }\n",
       "\n",
       "    .dataframe thead th {\n",
       "        text-align: right;\n",
       "    }\n",
       "</style>\n",
       "<table border=\"1\" class=\"dataframe\">\n",
       "  <thead>\n",
       "    <tr style=\"text-align: right;\">\n",
       "      <th></th>\n",
       "      <th>Created</th>\n",
       "      <th>Point</th>\n",
       "      <th>Possession</th>\n",
       "      <th>Started point on offense?</th>\n",
       "      <th>Scored?</th>\n",
       "      <th>Start X (0 -&gt; 1 = left sideline -&gt; right sideline)</th>\n",
       "      <th>Start Y (0 -&gt; 1 = back of opponent endzone -&gt; back of own endzone)</th>\n",
       "      <th>Initiator</th>\n",
       "      <th>Passes</th>\n",
       "      <th>Secondary assist</th>\n",
       "      <th>Assist</th>\n",
       "      <th>Goal</th>\n",
       "      <th>Thrower error</th>\n",
       "      <th>Receiver error</th>\n",
       "      <th>Stalled out</th>\n",
       "      <th>opponent</th>\n",
       "    </tr>\n",
       "  </thead>\n",
       "  <tbody>\n",
       "    <tr>\n",
       "      <td>0</td>\n",
       "      <td>2020-02-26 20:24:33</td>\n",
       "      <td>1</td>\n",
       "      <td>1</td>\n",
       "      <td>0</td>\n",
       "      <td>0</td>\n",
       "      <td>0.187023</td>\n",
       "      <td>0.822740</td>\n",
       "      <td>Andrew Edelman</td>\n",
       "      <td>4</td>\n",
       "      <td>NaN</td>\n",
       "      <td>NaN</td>\n",
       "      <td>NaN</td>\n",
       "      <td>Andrew Edelman</td>\n",
       "      <td>NaN</td>\n",
       "      <td>NaN</td>\n",
       "      <td>HIP</td>\n",
       "    </tr>\n",
       "    <tr>\n",
       "      <td>1</td>\n",
       "      <td>2020-02-26 20:26:03</td>\n",
       "      <td>2</td>\n",
       "      <td>1</td>\n",
       "      <td>1</td>\n",
       "      <td>1</td>\n",
       "      <td>0.704198</td>\n",
       "      <td>0.802260</td>\n",
       "      <td>Victor Kao</td>\n",
       "      <td>5</td>\n",
       "      <td>Ian McInerney</td>\n",
       "      <td>Jeff Voss</td>\n",
       "      <td>Gabe Stump</td>\n",
       "      <td>NaN</td>\n",
       "      <td>NaN</td>\n",
       "      <td>NaN</td>\n",
       "      <td>HIP</td>\n",
       "    </tr>\n",
       "    <tr>\n",
       "      <td>2</td>\n",
       "      <td>2020-02-26 20:27:57</td>\n",
       "      <td>4</td>\n",
       "      <td>1</td>\n",
       "      <td>1</td>\n",
       "      <td>1</td>\n",
       "      <td>0.498092</td>\n",
       "      <td>0.786017</td>\n",
       "      <td>Owen Marschall</td>\n",
       "      <td>7</td>\n",
       "      <td>Sam Pollack</td>\n",
       "      <td>Odie</td>\n",
       "      <td>Jeff Voss</td>\n",
       "      <td>NaN</td>\n",
       "      <td>NaN</td>\n",
       "      <td>NaN</td>\n",
       "      <td>HIP</td>\n",
       "    </tr>\n",
       "    <tr>\n",
       "      <td>3</td>\n",
       "      <td>2020-02-26 20:30:04</td>\n",
       "      <td>6</td>\n",
       "      <td>1</td>\n",
       "      <td>1</td>\n",
       "      <td>0</td>\n",
       "      <td>0.492366</td>\n",
       "      <td>0.822740</td>\n",
       "      <td>Owen Marschall</td>\n",
       "      <td>3</td>\n",
       "      <td>NaN</td>\n",
       "      <td>NaN</td>\n",
       "      <td>NaN</td>\n",
       "      <td>Gabe Stump</td>\n",
       "      <td>NaN</td>\n",
       "      <td>NaN</td>\n",
       "      <td>HIP</td>\n",
       "    </tr>\n",
       "    <tr>\n",
       "      <td>4</td>\n",
       "      <td>2020-02-26 20:32:02</td>\n",
       "      <td>7</td>\n",
       "      <td>1</td>\n",
       "      <td>0</td>\n",
       "      <td>1</td>\n",
       "      <td>0.251908</td>\n",
       "      <td>0.807203</td>\n",
       "      <td>Zero</td>\n",
       "      <td>2</td>\n",
       "      <td>Zero</td>\n",
       "      <td>Odie</td>\n",
       "      <td>Sam Alston</td>\n",
       "      <td>NaN</td>\n",
       "      <td>NaN</td>\n",
       "      <td>NaN</td>\n",
       "      <td>HIP</td>\n",
       "    </tr>\n",
       "  </tbody>\n",
       "</table>\n",
       "</div>"
      ],
      "text/plain": [
       "               Created  Point  Possession  Started point on offense?  Scored?  \\\n",
       "0  2020-02-26 20:24:33      1           1                          0        0   \n",
       "1  2020-02-26 20:26:03      2           1                          1        1   \n",
       "2  2020-02-26 20:27:57      4           1                          1        1   \n",
       "3  2020-02-26 20:30:04      6           1                          1        0   \n",
       "4  2020-02-26 20:32:02      7           1                          0        1   \n",
       "\n",
       "   Start X (0 -> 1 = left sideline -> right sideline)  \\\n",
       "0                                           0.187023    \n",
       "1                                           0.704198    \n",
       "2                                           0.498092    \n",
       "3                                           0.492366    \n",
       "4                                           0.251908    \n",
       "\n",
       "   Start Y (0 -> 1 = back of opponent endzone -> back of own endzone)  \\\n",
       "0                                           0.822740                    \n",
       "1                                           0.802260                    \n",
       "2                                           0.786017                    \n",
       "3                                           0.822740                    \n",
       "4                                           0.807203                    \n",
       "\n",
       "        Initiator  Passes Secondary assist     Assist        Goal  \\\n",
       "0  Andrew Edelman       4              NaN        NaN         NaN   \n",
       "1      Victor Kao       5    Ian McInerney  Jeff Voss  Gabe Stump   \n",
       "2  Owen Marschall       7      Sam Pollack       Odie   Jeff Voss   \n",
       "3  Owen Marschall       3              NaN        NaN         NaN   \n",
       "4            Zero       2             Zero       Odie  Sam Alston   \n",
       "\n",
       "    Thrower error Receiver error  Stalled out opponent  \n",
       "0  Andrew Edelman            NaN          NaN      HIP  \n",
       "1             NaN            NaN          NaN      HIP  \n",
       "2             NaN            NaN          NaN      HIP  \n",
       "3      Gabe Stump            NaN          NaN      HIP  \n",
       "4             NaN            NaN          NaN      HIP  "
      ]
     },
     "execution_count": 25,
     "metadata": {},
     "output_type": "execute_result"
    }
   ],
   "source": [
    "poss_df.head()"
   ]
  },
  {
   "cell_type": "markdown",
   "metadata": {},
   "source": [
    "### COMBINE GAMExGAME PASSES DATA INTO ONE PASSES_DF"
   ]
  },
  {
   "cell_type": "code",
   "execution_count": 31,
   "metadata": {},
   "outputs": [],
   "source": [
    "#give file path abbreviation\n",
    "passes_path_abbr = 'library/passes/Passes vs.*.csv'\n",
    "#create list of files that match the passes convention\n",
    "file_list = glob.glob(passes_path_abbr)\n",
    "#create an empty df\n",
    "passes_df = pd.DataFrame()\n",
    "#loop through each file in the list\n",
    "for file in file_list:\n",
    "    #add an oppnent depending on the name of the file\n",
    "    opponent = file.split('vs. ')[1].split(' 2019')[0]\n",
    "    df_ = pd.read_csv(file)\n",
    "    #add oppenent name column\n",
    "    df_['opponent'] = opponent\n",
    "    #append file to the overall passes_df\n",
    "    passes_df = passes_df.append(df_)\n",
    "\n",
    "#remove all of the empty data with no thrower nor reciever\n",
    "passes_df = passes_df.dropna(subset=['Thrower', 'Receiver'])"
   ]
  },
  {
   "cell_type": "code",
   "execution_count": 32,
   "metadata": {},
   "outputs": [
    {
     "data": {
      "text/html": [
       "<div>\n",
       "<style scoped>\n",
       "    .dataframe tbody tr th:only-of-type {\n",
       "        vertical-align: middle;\n",
       "    }\n",
       "\n",
       "    .dataframe tbody tr th {\n",
       "        vertical-align: top;\n",
       "    }\n",
       "\n",
       "    .dataframe thead th {\n",
       "        text-align: right;\n",
       "    }\n",
       "</style>\n",
       "<table border=\"1\" class=\"dataframe\">\n",
       "  <thead>\n",
       "    <tr style=\"text-align: right;\">\n",
       "      <th></th>\n",
       "      <th>Created</th>\n",
       "      <th>Point</th>\n",
       "      <th>Possession</th>\n",
       "      <th>Thrower</th>\n",
       "      <th>Receiver</th>\n",
       "      <th>Turnover?</th>\n",
       "      <th>Thrower error?</th>\n",
       "      <th>Receiver error?</th>\n",
       "      <th>Throw to endzone?</th>\n",
       "      <th>Assist?</th>\n",
       "      <th>...</th>\n",
       "      <th>From sideline?</th>\n",
       "      <th>To sideline?</th>\n",
       "      <th>Distance (m)</th>\n",
       "      <th>Forward distance (m)</th>\n",
       "      <th>Left-to-right distance (m)</th>\n",
       "      <th>Start X (0 -&gt; 1 = left sideline -&gt; right sideline)</th>\n",
       "      <th>Start Y (0 -&gt; 1 = back of opponent endzone -&gt; back of own endzone)</th>\n",
       "      <th>End X (0 -&gt; 1 = left sideline -&gt; right sideline)</th>\n",
       "      <th>End Y (0 -&gt; 1 = back of opponent endzone -&gt; back of own endzone)</th>\n",
       "      <th>opponent</th>\n",
       "    </tr>\n",
       "  </thead>\n",
       "  <tbody>\n",
       "    <tr>\n",
       "      <td>0</td>\n",
       "      <td>2020-02-26 22:56:29</td>\n",
       "      <td>1</td>\n",
       "      <td>1</td>\n",
       "      <td>Evan Ma</td>\n",
       "      <td>Max Cohen</td>\n",
       "      <td>0</td>\n",
       "      <td>0</td>\n",
       "      <td>0</td>\n",
       "      <td>0</td>\n",
       "      <td>0</td>\n",
       "      <td>...</td>\n",
       "      <td>0</td>\n",
       "      <td>0</td>\n",
       "      <td>11.115858</td>\n",
       "      <td>4.943502</td>\n",
       "      <td>-9.956108</td>\n",
       "      <td>0.265267</td>\n",
       "      <td>0.816384</td>\n",
       "      <td>0.534351</td>\n",
       "      <td>0.766949</td>\n",
       "      <td>Lost  Boys</td>\n",
       "    </tr>\n",
       "    <tr>\n",
       "      <td>1</td>\n",
       "      <td>2020-02-26 22:56:39</td>\n",
       "      <td>1</td>\n",
       "      <td>1</td>\n",
       "      <td>Max Cohen</td>\n",
       "      <td>Victor Kao</td>\n",
       "      <td>0</td>\n",
       "      <td>0</td>\n",
       "      <td>0</td>\n",
       "      <td>0</td>\n",
       "      <td>0</td>\n",
       "      <td>...</td>\n",
       "      <td>0</td>\n",
       "      <td>0</td>\n",
       "      <td>5.945641</td>\n",
       "      <td>1.624298</td>\n",
       "      <td>5.719467</td>\n",
       "      <td>0.534351</td>\n",
       "      <td>0.766949</td>\n",
       "      <td>0.379771</td>\n",
       "      <td>0.750706</td>\n",
       "      <td>Lost  Boys</td>\n",
       "    </tr>\n",
       "    <tr>\n",
       "      <td>2</td>\n",
       "      <td>2020-02-26 22:56:46</td>\n",
       "      <td>1</td>\n",
       "      <td>1</td>\n",
       "      <td>Victor Kao</td>\n",
       "      <td>Carter Thallon</td>\n",
       "      <td>0</td>\n",
       "      <td>0</td>\n",
       "      <td>0</td>\n",
       "      <td>0</td>\n",
       "      <td>0</td>\n",
       "      <td>...</td>\n",
       "      <td>0</td>\n",
       "      <td>0</td>\n",
       "      <td>14.086006</td>\n",
       "      <td>6.497174</td>\n",
       "      <td>-12.498092</td>\n",
       "      <td>0.379771</td>\n",
       "      <td>0.750706</td>\n",
       "      <td>0.717557</td>\n",
       "      <td>0.685734</td>\n",
       "      <td>Lost  Boys</td>\n",
       "    </tr>\n",
       "    <tr>\n",
       "      <td>3</td>\n",
       "      <td>2020-02-26 22:56:49</td>\n",
       "      <td>1</td>\n",
       "      <td>1</td>\n",
       "      <td>Carter Thallon</td>\n",
       "      <td>Odie</td>\n",
       "      <td>0</td>\n",
       "      <td>0</td>\n",
       "      <td>0</td>\n",
       "      <td>0</td>\n",
       "      <td>0</td>\n",
       "      <td>...</td>\n",
       "      <td>0</td>\n",
       "      <td>0</td>\n",
       "      <td>8.952368</td>\n",
       "      <td>4.802257</td>\n",
       "      <td>7.555344</td>\n",
       "      <td>0.717557</td>\n",
       "      <td>0.685734</td>\n",
       "      <td>0.513359</td>\n",
       "      <td>0.637712</td>\n",
       "      <td>Lost  Boys</td>\n",
       "    </tr>\n",
       "    <tr>\n",
       "      <td>4</td>\n",
       "      <td>2020-02-26 22:56:55</td>\n",
       "      <td>1</td>\n",
       "      <td>1</td>\n",
       "      <td>Odie</td>\n",
       "      <td>Carter Thallon</td>\n",
       "      <td>0</td>\n",
       "      <td>0</td>\n",
       "      <td>0</td>\n",
       "      <td>0</td>\n",
       "      <td>0</td>\n",
       "      <td>...</td>\n",
       "      <td>0</td>\n",
       "      <td>0</td>\n",
       "      <td>7.909012</td>\n",
       "      <td>-3.954798</td>\n",
       "      <td>6.849237</td>\n",
       "      <td>0.513359</td>\n",
       "      <td>0.637712</td>\n",
       "      <td>0.328244</td>\n",
       "      <td>0.677260</td>\n",
       "      <td>Lost  Boys</td>\n",
       "    </tr>\n",
       "  </tbody>\n",
       "</table>\n",
       "<p>5 rows × 24 columns</p>\n",
       "</div>"
      ],
      "text/plain": [
       "               Created  Point  Possession         Thrower        Receiver  \\\n",
       "0  2020-02-26 22:56:29      1           1         Evan Ma       Max Cohen   \n",
       "1  2020-02-26 22:56:39      1           1       Max Cohen      Victor Kao   \n",
       "2  2020-02-26 22:56:46      1           1      Victor Kao  Carter Thallon   \n",
       "3  2020-02-26 22:56:49      1           1  Carter Thallon            Odie   \n",
       "4  2020-02-26 22:56:55      1           1            Odie  Carter Thallon   \n",
       "\n",
       "   Turnover?  Thrower error?  Receiver error?  Throw to endzone?  Assist?  \\\n",
       "0          0               0                0                  0        0   \n",
       "1          0               0                0                  0        0   \n",
       "2          0               0                0                  0        0   \n",
       "3          0               0                0                  0        0   \n",
       "4          0               0                0                  0        0   \n",
       "\n",
       "   ...  From sideline?  To sideline?  Distance (m)  Forward distance (m)  \\\n",
       "0  ...               0             0     11.115858              4.943502   \n",
       "1  ...               0             0      5.945641              1.624298   \n",
       "2  ...               0             0     14.086006              6.497174   \n",
       "3  ...               0             0      8.952368              4.802257   \n",
       "4  ...               0             0      7.909012             -3.954798   \n",
       "\n",
       "   Left-to-right distance (m)  \\\n",
       "0                   -9.956108   \n",
       "1                    5.719467   \n",
       "2                  -12.498092   \n",
       "3                    7.555344   \n",
       "4                    6.849237   \n",
       "\n",
       "   Start X (0 -> 1 = left sideline -> right sideline)  \\\n",
       "0                                           0.265267    \n",
       "1                                           0.534351    \n",
       "2                                           0.379771    \n",
       "3                                           0.717557    \n",
       "4                                           0.513359    \n",
       "\n",
       "   Start Y (0 -> 1 = back of opponent endzone -> back of own endzone)  \\\n",
       "0                                           0.816384                    \n",
       "1                                           0.766949                    \n",
       "2                                           0.750706                    \n",
       "3                                           0.685734                    \n",
       "4                                           0.637712                    \n",
       "\n",
       "   End X (0 -> 1 = left sideline -> right sideline)  \\\n",
       "0                                          0.534351   \n",
       "1                                          0.379771   \n",
       "2                                          0.717557   \n",
       "3                                          0.513359   \n",
       "4                                          0.328244   \n",
       "\n",
       "   End Y (0 -> 1 = back of opponent endzone -> back of own endzone)  \\\n",
       "0                                           0.766949                  \n",
       "1                                           0.750706                  \n",
       "2                                           0.685734                  \n",
       "3                                           0.637712                  \n",
       "4                                           0.677260                  \n",
       "\n",
       "     opponent  \n",
       "0  Lost  Boys  \n",
       "1  Lost  Boys  \n",
       "2  Lost  Boys  \n",
       "3  Lost  Boys  \n",
       "4  Lost  Boys  \n",
       "\n",
       "[5 rows x 24 columns]"
      ]
     },
     "execution_count": 32,
     "metadata": {},
     "output_type": "execute_result"
    }
   ],
   "source": [
    "passes_df.head()"
   ]
  },
  {
   "cell_type": "markdown",
   "metadata": {},
   "source": [
    "### MERGE THE PASSES_DF WITH THE POSS_DF"
   ]
  },
  {
   "cell_type": "code",
   "execution_count": 33,
   "metadata": {},
   "outputs": [],
   "source": [
    "full_poss_df = pd.merge(passes_df,poss_df,how='left',on=['Point','Possession','opponent'],copy=False)\n",
    "full_poss_df = full_poss_df.reset_index(drop=True)\n",
    "full_poss_df = full_poss_df.drop(columns=['Created_y','Start X (0 -> 1 = left sideline -> right sideline)_y',\n",
    "                  'Start Y (0 -> 1 = back of opponent endzone -> back of own endzone)_y'])\n",
    "full_poss_df.to_csv('library/possessions/BP_2019_Full_Possession_Data.csv')"
   ]
  },
  {
   "cell_type": "code",
   "execution_count": 34,
   "metadata": {},
   "outputs": [],
   "source": [
    "full_poss_df.columns = [x.replace('_x','') for x in full_poss_df.columns]"
   ]
  },
  {
   "cell_type": "code",
   "execution_count": 45,
   "metadata": {},
   "outputs": [
    {
     "data": {
      "text/plain": [
       "Index(['Created', 'Point', 'Possession', 'Thrower', 'Receiver', 'Turnover?',\n",
       "       'Thrower error?', 'Receiver error?', 'Throw to endzone?', 'Assist?',\n",
       "       'Secondary assist?', 'Huck?', 'Swing?', 'Dump?', 'From sideline?',\n",
       "       'To sideline?', 'Distance (m)', 'Forward distance (m)',\n",
       "       'Left-to-right distance (m)',\n",
       "       'Start X (0 -> 1 = left sideline -> right sideline)',\n",
       "       'Start Y (0 -> 1 = back of opponent endzone -> back of own endzone)',\n",
       "       'End X (0 -> 1 = left sideline -> right sideline)',\n",
       "       'End Y (0 -> 1 = back of opponent endzone -> back of own endzone)',\n",
       "       'opponent', 'Started point on offense?', 'Scored?', 'Initiator',\n",
       "       'Passes', 'Secondary assist', 'Assist', 'Goal', 'Thrower error',\n",
       "       'Receiver error', 'Stalled out', 'possession_index'],\n",
       "      dtype='object')"
      ]
     },
     "execution_count": 45,
     "metadata": {},
     "output_type": "execute_result"
    }
   ],
   "source": [
    "full_poss_df.columns"
   ]
  },
  {
   "cell_type": "code",
   "execution_count": 35,
   "metadata": {},
   "outputs": [],
   "source": [
    "#create a unique posession index based on opponent, point#, possession#\n",
    "for x in full_poss_df.index:\n",
    "    full_poss_df.loc[x,'possession_index'] = full_poss_df.loc[x,'opponent'] + ' | ' + \\\n",
    "    str(full_poss_df.loc[x,'Point']) + '.' + \\\n",
    "    str(full_poss_df.loc[x,'Possession'])"
   ]
  },
  {
   "cell_type": "code",
   "execution_count": 36,
   "metadata": {},
   "outputs": [],
   "source": [
    "#create a dataframe with only unique possession indices\n",
    "unique_poss_df = full_poss_df.drop_duplicates(['possession_index','Passes'])"
   ]
  },
  {
   "cell_type": "code",
   "execution_count": 38,
   "metadata": {
    "collapsed": true
   },
   "outputs": [
    {
     "data": {
      "text/html": [
       "<div>\n",
       "<style scoped>\n",
       "    .dataframe tbody tr th:only-of-type {\n",
       "        vertical-align: middle;\n",
       "    }\n",
       "\n",
       "    .dataframe tbody tr th {\n",
       "        vertical-align: top;\n",
       "    }\n",
       "\n",
       "    .dataframe thead th {\n",
       "        text-align: right;\n",
       "    }\n",
       "</style>\n",
       "<table border=\"1\" class=\"dataframe\">\n",
       "  <thead>\n",
       "    <tr style=\"text-align: right;\">\n",
       "      <th></th>\n",
       "      <th>Created</th>\n",
       "      <th>Point</th>\n",
       "      <th>Possession</th>\n",
       "      <th>Thrower</th>\n",
       "      <th>Receiver</th>\n",
       "      <th>Turnover?</th>\n",
       "      <th>Thrower error?</th>\n",
       "      <th>Receiver error?</th>\n",
       "      <th>Throw to endzone?</th>\n",
       "      <th>Assist?</th>\n",
       "      <th>...</th>\n",
       "      <th>Scored?</th>\n",
       "      <th>Initiator</th>\n",
       "      <th>Passes</th>\n",
       "      <th>Secondary assist</th>\n",
       "      <th>Assist</th>\n",
       "      <th>Goal</th>\n",
       "      <th>Thrower error</th>\n",
       "      <th>Receiver error</th>\n",
       "      <th>Stalled out</th>\n",
       "      <th>possession_index</th>\n",
       "    </tr>\n",
       "  </thead>\n",
       "  <tbody>\n",
       "    <tr>\n",
       "      <td>0</td>\n",
       "      <td>2020-02-26 22:56:29</td>\n",
       "      <td>1</td>\n",
       "      <td>1</td>\n",
       "      <td>Evan Ma</td>\n",
       "      <td>Max Cohen</td>\n",
       "      <td>0</td>\n",
       "      <td>0</td>\n",
       "      <td>0</td>\n",
       "      <td>0</td>\n",
       "      <td>0</td>\n",
       "      <td>...</td>\n",
       "      <td>1</td>\n",
       "      <td>Evan Ma</td>\n",
       "      <td>7</td>\n",
       "      <td>Carter Thallon</td>\n",
       "      <td>Odie</td>\n",
       "      <td>Eliot Bemis</td>\n",
       "      <td>NaN</td>\n",
       "      <td>NaN</td>\n",
       "      <td>NaN</td>\n",
       "      <td>Lost  Boys | 1.1</td>\n",
       "    </tr>\n",
       "    <tr>\n",
       "      <td>7</td>\n",
       "      <td>2020-02-26 22:58:06</td>\n",
       "      <td>2</td>\n",
       "      <td>1</td>\n",
       "      <td>Andrew Edelman</td>\n",
       "      <td>Josh Imhoff</td>\n",
       "      <td>0</td>\n",
       "      <td>0</td>\n",
       "      <td>0</td>\n",
       "      <td>0</td>\n",
       "      <td>0</td>\n",
       "      <td>...</td>\n",
       "      <td>1</td>\n",
       "      <td>Andrew Edelman</td>\n",
       "      <td>2</td>\n",
       "      <td>Andrew Edelman</td>\n",
       "      <td>Josh Imhoff</td>\n",
       "      <td>Sam Alston</td>\n",
       "      <td>NaN</td>\n",
       "      <td>NaN</td>\n",
       "      <td>NaN</td>\n",
       "      <td>Lost  Boys | 2.1</td>\n",
       "    </tr>\n",
       "    <tr>\n",
       "      <td>9</td>\n",
       "      <td>2020-02-26 22:59:21</td>\n",
       "      <td>3</td>\n",
       "      <td>1</td>\n",
       "      <td>Andrew Edelman</td>\n",
       "      <td>Geo Zheng</td>\n",
       "      <td>0</td>\n",
       "      <td>0</td>\n",
       "      <td>0</td>\n",
       "      <td>0</td>\n",
       "      <td>0</td>\n",
       "      <td>...</td>\n",
       "      <td>0</td>\n",
       "      <td>Andrew Edelman</td>\n",
       "      <td>5</td>\n",
       "      <td>NaN</td>\n",
       "      <td>NaN</td>\n",
       "      <td>NaN</td>\n",
       "      <td>Stouf</td>\n",
       "      <td>NaN</td>\n",
       "      <td>NaN</td>\n",
       "      <td>Lost  Boys | 3.1</td>\n",
       "    </tr>\n",
       "    <tr>\n",
       "      <td>14</td>\n",
       "      <td>2020-02-26 23:00:22</td>\n",
       "      <td>3</td>\n",
       "      <td>2</td>\n",
       "      <td>Andrew Edelman</td>\n",
       "      <td>Towell</td>\n",
       "      <td>0</td>\n",
       "      <td>0</td>\n",
       "      <td>0</td>\n",
       "      <td>0</td>\n",
       "      <td>0</td>\n",
       "      <td>...</td>\n",
       "      <td>0</td>\n",
       "      <td>Andrew Edelman</td>\n",
       "      <td>3</td>\n",
       "      <td>NaN</td>\n",
       "      <td>NaN</td>\n",
       "      <td>NaN</td>\n",
       "      <td>Andrew Edelman</td>\n",
       "      <td>NaN</td>\n",
       "      <td>NaN</td>\n",
       "      <td>Lost  Boys | 3.2</td>\n",
       "    </tr>\n",
       "    <tr>\n",
       "      <td>17</td>\n",
       "      <td>2020-02-26 23:08:14</td>\n",
       "      <td>4</td>\n",
       "      <td>1</td>\n",
       "      <td>Evan Ma</td>\n",
       "      <td>Max Cohen</td>\n",
       "      <td>0</td>\n",
       "      <td>0</td>\n",
       "      <td>0</td>\n",
       "      <td>0</td>\n",
       "      <td>0</td>\n",
       "      <td>...</td>\n",
       "      <td>0</td>\n",
       "      <td>Evan Ma</td>\n",
       "      <td>6</td>\n",
       "      <td>NaN</td>\n",
       "      <td>NaN</td>\n",
       "      <td>NaN</td>\n",
       "      <td>Evan Ma</td>\n",
       "      <td>NaN</td>\n",
       "      <td>NaN</td>\n",
       "      <td>Lost  Boys | 4.1</td>\n",
       "    </tr>\n",
       "  </tbody>\n",
       "</table>\n",
       "<p>5 rows × 35 columns</p>\n",
       "</div>"
      ],
      "text/plain": [
       "                Created  Point  Possession         Thrower     Receiver  \\\n",
       "0   2020-02-26 22:56:29      1           1         Evan Ma    Max Cohen   \n",
       "7   2020-02-26 22:58:06      2           1  Andrew Edelman  Josh Imhoff   \n",
       "9   2020-02-26 22:59:21      3           1  Andrew Edelman    Geo Zheng   \n",
       "14  2020-02-26 23:00:22      3           2  Andrew Edelman       Towell   \n",
       "17  2020-02-26 23:08:14      4           1         Evan Ma    Max Cohen   \n",
       "\n",
       "    Turnover?  Thrower error?  Receiver error?  Throw to endzone?  Assist?  \\\n",
       "0           0               0                0                  0        0   \n",
       "7           0               0                0                  0        0   \n",
       "9           0               0                0                  0        0   \n",
       "14          0               0                0                  0        0   \n",
       "17          0               0                0                  0        0   \n",
       "\n",
       "    ...  Scored?       Initiator  Passes  Secondary assist       Assist  \\\n",
       "0   ...        1         Evan Ma       7    Carter Thallon         Odie   \n",
       "7   ...        1  Andrew Edelman       2    Andrew Edelman  Josh Imhoff   \n",
       "9   ...        0  Andrew Edelman       5               NaN          NaN   \n",
       "14  ...        0  Andrew Edelman       3               NaN          NaN   \n",
       "17  ...        0         Evan Ma       6               NaN          NaN   \n",
       "\n",
       "           Goal   Thrower error  Receiver error  Stalled out  possession_index  \n",
       "0   Eliot Bemis             NaN             NaN          NaN  Lost  Boys | 1.1  \n",
       "7    Sam Alston             NaN             NaN          NaN  Lost  Boys | 2.1  \n",
       "9           NaN           Stouf             NaN          NaN  Lost  Boys | 3.1  \n",
       "14          NaN  Andrew Edelman             NaN          NaN  Lost  Boys | 3.2  \n",
       "17          NaN         Evan Ma             NaN          NaN  Lost  Boys | 4.1  \n",
       "\n",
       "[5 rows x 35 columns]"
      ]
     },
     "execution_count": 38,
     "metadata": {},
     "output_type": "execute_result"
    }
   ],
   "source": [
    "unique_poss_df.head()"
   ]
  },
  {
   "cell_type": "markdown",
   "metadata": {},
   "source": [
    "### ADD LINEUPS FOR EACH POINT"
   ]
  },
  {
   "cell_type": "code",
   "execution_count": 61,
   "metadata": {},
   "outputs": [],
   "source": [
    "lineup_df = full_poss_df[['possession_index','opponent','Point','Possession']]"
   ]
  },
  {
   "cell_type": "code",
   "execution_count": 68,
   "metadata": {},
   "outputs": [
    {
     "name": "stderr",
     "output_type": "stream",
     "text": [
      "/Users/maxcohen/opt/anaconda3/lib/python3.7/site-packages/ipykernel_launcher.py:3: SettingWithCopyWarning: \n",
      "A value is trying to be set on a copy of a slice from a DataFrame.\n",
      "Try using .loc[row_indexer,col_indexer] = value instead\n",
      "\n",
      "See the caveats in the documentation: http://pandas.pydata.org/pandas-docs/stable/user_guide/indexing.html#returning-a-view-versus-a-copy\n",
      "  This is separate from the ipykernel package so we can avoid doing imports until\n"
     ]
    }
   ],
   "source": [
    "#create opp_pt column\n",
    "for x in lineup_df.index:\n",
    "    lineup_df['opp_pt'] = lineup_df.loc[x,'opponent'] + '.' + str(lineup_df.loc[x,'Point'])"
   ]
  },
  {
   "cell_type": "code",
   "execution_count": 69,
   "metadata": {},
   "outputs": [
    {
     "data": {
      "text/html": [
       "<div>\n",
       "<style scoped>\n",
       "    .dataframe tbody tr th:only-of-type {\n",
       "        vertical-align: middle;\n",
       "    }\n",
       "\n",
       "    .dataframe tbody tr th {\n",
       "        vertical-align: top;\n",
       "    }\n",
       "\n",
       "    .dataframe thead th {\n",
       "        text-align: right;\n",
       "    }\n",
       "</style>\n",
       "<table border=\"1\" class=\"dataframe\">\n",
       "  <thead>\n",
       "    <tr style=\"text-align: right;\">\n",
       "      <th></th>\n",
       "      <th>possession_index</th>\n",
       "      <th>opponent</th>\n",
       "      <th>Point</th>\n",
       "      <th>Possession</th>\n",
       "      <th>opp_pt</th>\n",
       "    </tr>\n",
       "  </thead>\n",
       "  <tbody>\n",
       "    <tr>\n",
       "      <td>0</td>\n",
       "      <td>Lost  Boys | 1.1</td>\n",
       "      <td>Lost  Boys</td>\n",
       "      <td>1</td>\n",
       "      <td>1</td>\n",
       "      <td>Lantern.14</td>\n",
       "    </tr>\n",
       "    <tr>\n",
       "      <td>1</td>\n",
       "      <td>Lost  Boys | 1.1</td>\n",
       "      <td>Lost  Boys</td>\n",
       "      <td>1</td>\n",
       "      <td>1</td>\n",
       "      <td>Lantern.14</td>\n",
       "    </tr>\n",
       "    <tr>\n",
       "      <td>2</td>\n",
       "      <td>Lost  Boys | 1.1</td>\n",
       "      <td>Lost  Boys</td>\n",
       "      <td>1</td>\n",
       "      <td>1</td>\n",
       "      <td>Lantern.14</td>\n",
       "    </tr>\n",
       "    <tr>\n",
       "      <td>3</td>\n",
       "      <td>Lost  Boys | 1.1</td>\n",
       "      <td>Lost  Boys</td>\n",
       "      <td>1</td>\n",
       "      <td>1</td>\n",
       "      <td>Lantern.14</td>\n",
       "    </tr>\n",
       "    <tr>\n",
       "      <td>4</td>\n",
       "      <td>Lost  Boys | 1.1</td>\n",
       "      <td>Lost  Boys</td>\n",
       "      <td>1</td>\n",
       "      <td>1</td>\n",
       "      <td>Lantern.14</td>\n",
       "    </tr>\n",
       "    <tr>\n",
       "      <td>...</td>\n",
       "      <td>...</td>\n",
       "      <td>...</td>\n",
       "      <td>...</td>\n",
       "      <td>...</td>\n",
       "      <td>...</td>\n",
       "    </tr>\n",
       "    <tr>\n",
       "      <td>1158</td>\n",
       "      <td>Lantern | 14.1</td>\n",
       "      <td>Lantern</td>\n",
       "      <td>14</td>\n",
       "      <td>1</td>\n",
       "      <td>Lantern.14</td>\n",
       "    </tr>\n",
       "    <tr>\n",
       "      <td>1159</td>\n",
       "      <td>Lantern | 14.1</td>\n",
       "      <td>Lantern</td>\n",
       "      <td>14</td>\n",
       "      <td>1</td>\n",
       "      <td>Lantern.14</td>\n",
       "    </tr>\n",
       "    <tr>\n",
       "      <td>1160</td>\n",
       "      <td>Lantern | 14.1</td>\n",
       "      <td>Lantern</td>\n",
       "      <td>14</td>\n",
       "      <td>1</td>\n",
       "      <td>Lantern.14</td>\n",
       "    </tr>\n",
       "    <tr>\n",
       "      <td>1161</td>\n",
       "      <td>Lantern | 14.1</td>\n",
       "      <td>Lantern</td>\n",
       "      <td>14</td>\n",
       "      <td>1</td>\n",
       "      <td>Lantern.14</td>\n",
       "    </tr>\n",
       "    <tr>\n",
       "      <td>1162</td>\n",
       "      <td>Lantern | 14.1</td>\n",
       "      <td>Lantern</td>\n",
       "      <td>14</td>\n",
       "      <td>1</td>\n",
       "      <td>Lantern.14</td>\n",
       "    </tr>\n",
       "  </tbody>\n",
       "</table>\n",
       "<p>1163 rows × 5 columns</p>\n",
       "</div>"
      ],
      "text/plain": [
       "      possession_index    opponent  Point  Possession      opp_pt\n",
       "0     Lost  Boys | 1.1  Lost  Boys      1           1  Lantern.14\n",
       "1     Lost  Boys | 1.1  Lost  Boys      1           1  Lantern.14\n",
       "2     Lost  Boys | 1.1  Lost  Boys      1           1  Lantern.14\n",
       "3     Lost  Boys | 1.1  Lost  Boys      1           1  Lantern.14\n",
       "4     Lost  Boys | 1.1  Lost  Boys      1           1  Lantern.14\n",
       "...                ...         ...    ...         ...         ...\n",
       "1158    Lantern | 14.1     Lantern     14           1  Lantern.14\n",
       "1159    Lantern | 14.1     Lantern     14           1  Lantern.14\n",
       "1160    Lantern | 14.1     Lantern     14           1  Lantern.14\n",
       "1161    Lantern | 14.1     Lantern     14           1  Lantern.14\n",
       "1162    Lantern | 14.1     Lantern     14           1  Lantern.14\n",
       "\n",
       "[1163 rows x 5 columns]"
      ]
     },
     "execution_count": 69,
     "metadata": {},
     "output_type": "execute_result"
    }
   ],
   "source": [
    "lineup_df"
   ]
  },
  {
   "cell_type": "code",
   "execution_count": 65,
   "metadata": {
    "collapsed": true
   },
   "outputs": [
    {
     "data": {
      "text/plain": [
       "(array([  0,   1,   2,   3,   4,   5,   6, 116, 117, 118, 119, 350, 351,\n",
       "        352, 353, 354, 355, 356, 357, 358, 359, 360, 361, 362, 363, 364,\n",
       "        365, 366, 367, 368, 369, 370, 371, 372, 373, 374, 375, 376, 377,\n",
       "        378, 964, 965, 966, 967, 968, 969, 970, 971, 972, 973, 974, 975,\n",
       "        976, 977]),)"
      ]
     },
     "execution_count": 65,
     "metadata": {},
     "output_type": "execute_result"
    }
   ],
   "source": [
    "np.where(lineup_df['opponent'] == 'Lantern')"
   ]
  },
  {
   "cell_type": "code",
   "execution_count": 75,
   "metadata": {},
   "outputs": [],
   "source": [
    "lantern_lineup_dict = {'opp_pt':['Lantern.2','Lantern.3','Lantern.4','Lantern.5','Lantern.6','Lantern.7','Lantern.8',\n",
    "                                'Lantern.9','Lantern.10','Lantern.11','Lantern.12','Lantern.13'],\n",
    "                      'lineup':[['Max Cohen','Jesse Gan','Owen Marschall','Odie','Sam Pollack','Jeff Voss','Geo Zheng'],\n",
    "                               ['Alon Brown','Andrew Edelman','Jon Kwan','Evan Ma','Ian McInerney','Stouf','Towell'],\n",
    "                               ['Max Cohen','Owen Marschall','Odie','Sam Pollack','Gabe Stump','Carter Thallon'],\n",
    "                               ['Alon Brown','Andrew Edelman','Sam Feder','Jesse Gan','Josh Imhoff','Towell','Carter Wang'],\n",
    "                               ['Alon Brown','Andrew Edelman','Jon Kwan','Evan Ma','Swan','Ben West','Zero'],\n",
    "                               ['Alon Brown','Jesse Gan','Jon Kwan','Evan Ma','Ian McInerny','Stouf','Towell'],\n",
    "                               ['Max Cohen','Owen Marschall','Odie','Gabe Stump','Carter Thallon','Jeff Voss','Geo Zheng'],\n",
    "                               ['Andrew Edelman','Sam Feder','Jesse Gan','Josh Imhoff','Evan Ma','Towell','Carter Wang'],\n",
    "                               ['Max Cohen','Owen Marschall','Sam Pollack','Gabe Stump','Carter Thallon','Jeff Voss','Geo Zheng'],\n",
    "                               ['Alon Brown','Andrew Edelman','Sam Feder','Jesse Gan','Ian McInerney','Towell','Carter Wang'],\n",
    "                               ['Max Cohen','Owen Marschall','Odie','Sam Pollack','Gabe Stump','Jeff Voss','Geo Zheng'],\n",
    "                               ['Alon Brown','Andrew Edelman','Sam Feder','Jesse Gan','Ian McInerney','Stouf','Towell']]}\n"
   ]
  },
  {
   "cell_type": "code",
   "execution_count": 82,
   "metadata": {},
   "outputs": [],
   "source": [
    "wrench_lineup_dict = {'opp_pt':['Big Wrench.1','Big Wrench.2','Big Wrench.3','Big Wrench.4','Big Wrench.5',\n",
    "                                'Big Wrench.6','Big Wrench.7','Big Wrench.8','Big Wrench.9','Big Wrench.10',\n",
    "                                'Big Wrench.11','Big Wrench.12','Big Wrench.13','Big Wrench.14','Big Wrench.15',\n",
    "                               'Big Wrench.16','Big Wrench.17','Big Wrench.18','Big Wrench.19','Big Wrench.20'],\n",
    "                      'lineup':[['Max Cohen','Andrew Edelman','Sam Feder','Owen Marschall','Odie','Gabe Stump','Towell'],\n",
    "                               ['Alon Brown','Jon Kwan','Ian McInerney','Stouf','Towell','Ruozhou Ye','Geo Zheng'],\n",
    "                               ['Andrew Edelman','Sam Feder','Jesse Gan','Josh Imhoff','Evan Ma','Carter Wang','Ruozhou Ye'],\n",
    "                               ['Alon Brown','Jesse Gan','Jon Kwan','Swan','Ben West','Ruozhou Ye','Zero'],\n",
    "                               ['Max Cohen','Owen Marschall','Odie','Gabe Stump','Carter Thallon','Jeff Voss','Geo Zheng'],\n",
    "                               ['Andrew Edelman','Sam Feder','Jesse Gan','Josh Imhoff','Evan Ma','Carter Wang','Ruozhou Ye'],\n",
    "                               ['Andrew Edelman','Sam Feder','Jesse Gan','Jon Kwan','Swan','Ben West','Ruozhou Ye'],\n",
    "                               ['Max Cohen','Owen Marschall','Odie','Sam Pollack','Carter Thallon','Jeff Voss','Geo Zheng'],\n",
    "                               ['Alon Brown','Andrew Edelman','Jon Kwan','Ian McInerney','Stouf','Towell','Ruozhou Ye'],\n",
    "                               ['Josh Imhoff','Evan Ma','Swan','Ben West','Ruozhou Ye','Zero','Geo Zheng'],\n",
    "                               ['Max Cohen','Owen Marschall','Odie','Sam Pollack','Carter Thallon','Jeff Voss','Geo Zheng'],\n",
    "                               ['Alon Brown','Andrew Edelman','Sam Feder','Jesse Gan','Ian McInerney','Towell','Carter Wang'],\n",
    "                               ['Andrew Edelman','Jesse Gan','Josh Imhoff','Evan Ma','Swan','Ben West','Zero'],\n",
    "                               ['Alon Brown','Sam Feder','Jesse Gan','Evan Ma','Ian McInerney','Towell','Carter Wang'],\n",
    "                               ['Max Cohen','Owen Marschall','Odie','Sam Pollack','Gabe Stump','Jeff Voss','Geo Zheng'],\n",
    "                               ['Along Brown','Andrew Edelman','Jon Kwan','Evan Ma','Ian McInerney','Stouf','Towell'],\n",
    "                               ['Max Cohen','Owen Marschall','Odie','Sam Pollack','Gabe Stump','Carter Thallon','Geo Zheng'],\n",
    "                               ['Alon Brown','Andrew Edelman','Jesse Gan','Jon Kwan','Swan','Ben West','Zero'],\n",
    "                               ['Max Cohen','Owen Marschall','Sam Pollack','Gabe Stump','Carter Thallon','Jeff Voss','Geo Zheng'],\n",
    "                               ['Max Cohen','Owen Marschall','Odie','Sam Pollack','Carter Thallon','Jeff Voss','Geo Zheng']]}"
   ]
  },
  {
   "cell_type": "code",
   "execution_count": 84,
   "metadata": {},
   "outputs": [],
   "source": [
    "circus_lineup_dict = {'opp_pt':['Red Circus.1','Red Circus.2','Red Circus.3','Red Circus.4','Red Circus.5',\n",
    "                                'Red Circus.6','Red Circus.7','Red Circus.8','Red Circus.9','Red Circus.10',\n",
    "                                'Red Circus.11','Red Circus.12','Red Circus.13','Red Circus.14','Red Circus.15',\n",
    "                               'Red Circus.16','Red Circus.17','Red Circus.18','Red Circus.19','Red Circus.20'],\n",
    "                      'lineup':[['Andrew Edelman','Sam Feder','Ian McInerney','Juleon Robinson','Towell','Carter Wang','Ruozhou Ye'],\n",
    "                               ['Eliot Bemis','Max Cohen','Victor Kao','Owen Marschall','Odie','Sam Pollack','Jeff Voss'],\n",
    "                               ['Alon Brown','Andrew Edelman','Jesse Gan','Jon Kwan','Swan','Ben West','Zero'],\n",
    "                               ['Eliot Bemis','Max Cohen','Victor Kao','Sam Pollack','Gabe Stump','Carter Thallon','Geo Zheng'],\n",
    "                               ['Andrew Edelman','Sam Feder','Jesse Gan','Josh Imhoff','Evan Ma','Carter Wang','Ruozhou Ye'],\n",
    "                               ['Eliot Bemis','Max Cohen','Victor Kao','Owen Marschall','Odie','Sam Pollack','Jeff Voss'],\n",
    "                               ['Alon Brown','Jon Kwan','Ian McInerney','Juleon Robinson','Stouf','Towell','Geo Zheng'],\n",
    "                               ['Eliot Bemis','Max Cohen','Victor Kao','Owen Marschall','Sam Pollack','Gabe Stump','Carter Thallon'],\n",
    "                               ['Andrew Edelman','Sam Feder','Ian McInerney','Juleon Robinson','Towell','Carter Wang','Ruozhou Ye'],\n",
    "                               ['Eliot Bemis','Andrew Edelman','Sam Feder','Jesse Gan','Josh Imhoff','Stouf','Ruozhou Ye'],\n",
    "                               ['Max Cohen','VIctor Kao','Owen Marschall','Odie','Sam Pollack','Gabe Stump','Jeff Voss'],\n",
    "                               ['Andrew Edelman','Ian McInerney','Odie','Juleon Robinson','Towell','Carter Wang','Geo Zheng'],\n",
    "                               ['Eliot Bemis','Max Cohen','Victor Kao','Owen Marschall','Sam Pollack','Gabe Stump','Carter Thallon'],\n",
    "                               ['Eliot Bemis','Max Cohen','Victor Kao','Owen Marschall','Odie','Sam Pollack','Jeff Voss'],\n",
    "                               ['Eliot Bemis','Max Cohen','Victor Kao','Sam Pollack','Gabe Stump','Carter Thallon','Geo Zheng'],\n",
    "                               ['Alon Brown','Andrew Edelman','Jesse Gan','Jon Kwan','Swan','Ben West','Zero'],\n",
    "                               ['Eliot Bemis','Max Cohen','Victor Kao','Owen Marschall','Odie','Sam Pollack','Jeff Voss'],\n",
    "                               ['Alon Brown','Andrew Edelman','Sam Feder','Jesse Gan','Towell','Carter Wang','Ruozhou Ye'],\n",
    "                               ['Andrew Edelman','Josh Imhoff','Ian McInerney','Odie','Juleon Robinson','Jeff Voss','Ruozhou Ye'],\n",
    "                               ['Eliot Bemis','Max Cohen','Victor Kao','Sam Pollack','Gabe Stump','Carter Thallon','Geo Zheng']]}"
   ]
  },
  {
   "cell_type": "code",
   "execution_count": 87,
   "metadata": {},
   "outputs": [],
   "source": [
    "shade_lineup_dict = {'opp_pt':['Shade.1','Shade.2','Shade.3','Shade.4','Shade.5',\n",
    "                                'Shade.6','Shade.7','Shade.8','Shade.9','Shade.10',\n",
    "                                'Shade.11','Shade.12','Shade.13','Shade.14','Shade.15',\n",
    "                               'Shade.16','Shade.17','Shade.18','Shade.19','Shade.20',\n",
    "                              'Shade.21','Shade.22','Shade.23','Shade.24'],\n",
    "                      'lineup':[['Sam Alston','Andrew Edelman','Sam Feder','Jesse Gan','Towell','Carter Wang','Ruozhou Ye'],\n",
    "                               ['Eliot Bemis','Max Cohen','Victor Kao','Owen Marschall','Odie','Sam Pollack','Jeff Voss'],\n",
    "                               ['Sam Alston','Andrew Edelman','Sam Feder','Ian McInerney','Towell','Carter Wang','Ruozhou Ye'],\n",
    "                               ['Alon Brown','Jesse Gan','Jon Kwan','Evan Ma','Swan','Towell','Ruozhou Ye'],\n",
    "                               ['Sam Alston','Eliot Bemis','Alon Brown','Andrew Edelman','Stouf','Carter Wang','Ruozhou Ye'],\n",
    "                               ['Andrew Edelman','Sam Feder','Evan Ma','Ian McInerney','Swan','Ruozhou Ye','Zero'],\n",
    "                               ['Alon Brown','Jesse Gan','Victor Kao','Jon Kwan','Stouf','Carter Wang','Geo Zheng'],\n",
    "                               ['Max Cohen','Victor Kao','Sam Pollack','Gabe Stump','Carter Thallon','Jeff Voss','Geo Zheng'],\n",
    "                               ['Eliot Bemis','Max Cohen','Victor Kao','Owen Marschall','Odie','Sam Pollack','Jeff Voss'],\n",
    "                               ['Sam Alston','Andrew Edelman','Sam Feder','Jesse Gan','Towell','Carter Wang','Ruozhou Ye'],\n",
    "                               ['Alon Brown','Evan Ma','Ian McInerney','Odie','Stouf','Swan','Geo Zheng'],\n",
    "                               ['Max Cohen','Victor Kao','Owen Marschall','Sam Pollack','Gabe Stump','Carter Thallon','Jeff Voss'],\n",
    "                               ['Eliot Bemis','Max Cohen','Victor Kao','Owen Marschall','Odie','Sam Pollack','Jeff Voss'],\n",
    "                                ['Sam Alston','Andrew Edelman','Sam Feder','Ian McInerney','Towell','Carter Wang','Ruozhou Ye'],\n",
    "                               ['Max Cohen','Victor Kao','Sam Pollack','Gabe Stump','Carter Thallon','Jeff Voss','Geo Zheng'],\n",
    "                               ['Sam Alston','Eliot Bemis','Max Cohen','Victor Kao','Sam Pollack','Jeff Voss','Geo Zheng'],\n",
    "                               ['Eliot Bemis','Max Cohen','Odie','Sam Pollack','Jeff Voss','Ruozhou Ye','Geo Zheng'],\n",
    "                               ['Alon Brown','Andrew Edelman','Sam Feder','Jesse Gan','Carter Wang','Ruozhou Ye','Zero'],\n",
    "                               ['Eliot Bemis','Max Cohen','Victor Kao','Owen Marschall','Odie','Sam Pollack','Jeff Voss'],\n",
    "                               ['Eliot Bemis','Andrew Edelman','Sam Feder','Victor Kao','Odie','Towell','Geo Zheng'],\n",
    "                               ['Alon Brown','Andrew Edelman','Sam Feder','Swan','Towell','Carter Wang','Ruozhou Ye'],\n",
    "                               ['Andrew Edelman','Sam Feder','Jon Kwan','Ian McInerney','Stouf','Ruozhou Ye','Geo Zheng'],\n",
    "                               ['Alon Brown','Jesse Gan','Evan Ma','Swan','Carter Wang','Ruozhou Ye','Zero'],\n",
    "                               ['Alon Brown','Andrew Edelman','Jon Kwan','Odie','Stouf','Towell','Geo Zheng']]}"
   ]
  },
  {
   "cell_type": "code",
   "execution_count": 90,
   "metadata": {},
   "outputs": [],
   "source": [
    "vault_lineup_dict = {'opp_pt':['Vault.1','Vault.2','Vault.3','Vault.4','Vault.5',\n",
    "                                'Vault.6','Vault.7','Vault.8','Vault.9','Vault.10',\n",
    "                                'Vault.11','Vault.12','Vault.13','Vault.14','Vault.15',\n",
    "                               'Vault.16','Vault.17','Vault.18','Vault.19','Vault.20',\n",
    "                              'Vault.21','Vault.22'],\n",
    "                      'lineup':[['Sam Alston','Andrew Edelman','Josh Imhoff','Juleon Robinson','Towell','Carter Wang','Ruozhou Ye'],\n",
    "                               ['Max Cohen','Victor Kao','Evan Ma','Sam Pollack','Gabe Stump','Carter Thallon','Jeff Voss'],\n",
    "                               ['Sam Alston','Andrew Edelman','Jesse Gan','Josh Imhoff','Carter Wang','Ruozhou Ye','Geo Zheng'],\n",
    "                               ['Eliot Bemis','Jesse Gan','Odie','Stouf','Ruozhou Ye','Zero','Geo Zheng'],\n",
    "                               ['Sam Alston','Andrew Edelman','Josh Imhoff','Juleon Robinson','Stouf','Swan','Carter Wang'],\n",
    "                               ['Max Cohen','Victor Kao','Owen Marschall','Sam Pollack','Gabe Stump','Carter Thallon','Jeff Voss'],\n",
    "                               ['Sam Alston','Eliot Bemis','Andrew Edelman','Stouf','Ruozhou Ye','Zero','Geo Zhegn'],\n",
    "                               ['Victor Kao','Evan Ma','Owen Marschall','Ian McInerney','Odie','Sam Pollack','Gabe Stump'],\n",
    "                               ['Eliot Bemis','Andrew Edelman','Josh Imhoff','Juleon Robinson','Toweel','Ruozhou Ye','Geo Zheng'],\n",
    "                               ['Sam Alston','Max Cohen','Jesse Gan','Victor Kao','Owen Marschall','Sam Pollack','Jeff Voss'],\n",
    "                                ['Andrew Edelman','Jesse Gan','Juleon Robinson','Stouf','Swan','Towell','Geo Zheng'],\n",
    "                               ['Eliot Bemis','Max Cohen','Evan Ma','Owen Marschall','Odie','Sam Pollack','Gabe Stump'],\n",
    "                               ['Sam Alston','Andrew Edelman','Odie','Carter Wang','Ruozhou Ye','Zero','Geo Zheng'],\n",
    "                               ['Andrew Edelman','Jesse Gan','Odie','Towell','Carter Wang','Ruozhou Ye','Geo Zheng'],\n",
    "                               ['Eliot Bemis','Max Cohen','Victor Kao','Evan Ma','Sam Pollack','Gabe Stump','Jeff Voss'],\n",
    "                               ['Sam Alston','Eliot Bemis','Andrew Edelman','Odie','Sam Pollack','Juleon Robinson','Ruozhou Ye'],\n",
    "                               ['Andrew Edelman','Jesse Gan','Juleon Robinson','Stouf','Swan','Towell','Geo Zheng'],\n",
    "                               ['Andrew Edelman','Odie','Juleon Robinson','Swan','Ruozhou Ye','Zero','Geo Zheng'],\n",
    "                               ['Sam Alston','Andrew Edelman','Josh Imhoff','Juleon Robinson','Towell','Carter Wang'],\n",
    "                               ['Eliot Bemis','Max Cohen','Victor Kao','Owen Marschall','Odie','Gabe Stump','Carter Thallon'],\n",
    "                               ['Andrew Edelman','Jesse Gan','Stouf','Jeff Voss','Ruozhou Ye','Zero','Geo Zheng'],\n",
    "                               ['Eliot Bemis','Max Cohen','Evan Ma','Owen Marschall','Odie','Sam Pollack','Jeff Voss']]}"
   ]
  },
  {
   "cell_type": "code",
   "execution_count": null,
   "metadata": {},
   "outputs": [],
   "source": []
  },
  {
   "cell_type": "code",
   "execution_count": null,
   "metadata": {},
   "outputs": [],
   "source": []
  },
  {
   "cell_type": "code",
   "execution_count": null,
   "metadata": {},
   "outputs": [],
   "source": []
  },
  {
   "cell_type": "code",
   "execution_count": null,
   "metadata": {},
   "outputs": [],
   "source": []
  },
  {
   "cell_type": "code",
   "execution_count": null,
   "metadata": {},
   "outputs": [],
   "source": []
  },
  {
   "cell_type": "code",
   "execution_count": 99,
   "metadata": {},
   "outputs": [],
   "source": [
    "dicts = [lantern_lineup_dict,wrench_lineup_dict,shade_lineup_dict,vault_lineup_dict,circus_lineup_dict]"
   ]
  },
  {
   "cell_type": "code",
   "execution_count": 116,
   "metadata": {},
   "outputs": [
    {
     "data": {
      "text/html": [
       "<div>\n",
       "<style scoped>\n",
       "    .dataframe tbody tr th:only-of-type {\n",
       "        vertical-align: middle;\n",
       "    }\n",
       "\n",
       "    .dataframe tbody tr th {\n",
       "        vertical-align: top;\n",
       "    }\n",
       "\n",
       "    .dataframe thead th {\n",
       "        text-align: right;\n",
       "    }\n",
       "</style>\n",
       "<table border=\"1\" class=\"dataframe\">\n",
       "  <thead>\n",
       "    <tr style=\"text-align: right;\">\n",
       "      <th></th>\n",
       "      <th>opp_pt</th>\n",
       "      <th>lineup</th>\n",
       "    </tr>\n",
       "  </thead>\n",
       "  <tbody>\n",
       "    <tr>\n",
       "      <td>0</td>\n",
       "      <td>Lantern.2</td>\n",
       "      <td>[Max Cohen, Jesse Gan, Owen Marschall, Odie, S...</td>\n",
       "    </tr>\n",
       "    <tr>\n",
       "      <td>1</td>\n",
       "      <td>Lantern.3</td>\n",
       "      <td>[Alon Brown, Andrew Edelman, Jon Kwan, Evan Ma...</td>\n",
       "    </tr>\n",
       "    <tr>\n",
       "      <td>2</td>\n",
       "      <td>Lantern.4</td>\n",
       "      <td>[Max Cohen, Owen Marschall, Odie, Sam Pollack,...</td>\n",
       "    </tr>\n",
       "    <tr>\n",
       "      <td>3</td>\n",
       "      <td>Lantern.5</td>\n",
       "      <td>[Alon Brown, Andrew Edelman, Sam Feder, Jesse ...</td>\n",
       "    </tr>\n",
       "    <tr>\n",
       "      <td>4</td>\n",
       "      <td>Lantern.6</td>\n",
       "      <td>[Alon Brown, Andrew Edelman, Jon Kwan, Evan Ma...</td>\n",
       "    </tr>\n",
       "    <tr>\n",
       "      <td>...</td>\n",
       "      <td>...</td>\n",
       "      <td>...</td>\n",
       "    </tr>\n",
       "    <tr>\n",
       "      <td>15</td>\n",
       "      <td>Red Circus.16</td>\n",
       "      <td>[Alon Brown, Andrew Edelman, Jesse Gan, Jon Kw...</td>\n",
       "    </tr>\n",
       "    <tr>\n",
       "      <td>16</td>\n",
       "      <td>Red Circus.17</td>\n",
       "      <td>[Eliot Bemis, Max Cohen, Victor Kao, Owen Mars...</td>\n",
       "    </tr>\n",
       "    <tr>\n",
       "      <td>17</td>\n",
       "      <td>Red Circus.18</td>\n",
       "      <td>[Alon Brown, Andrew Edelman, Sam Feder, Jesse ...</td>\n",
       "    </tr>\n",
       "    <tr>\n",
       "      <td>18</td>\n",
       "      <td>Red Circus.19</td>\n",
       "      <td>[Andrew Edelman, Josh Imhoff, Ian McInerney, O...</td>\n",
       "    </tr>\n",
       "    <tr>\n",
       "      <td>19</td>\n",
       "      <td>Red Circus.20</td>\n",
       "      <td>[Eliot Bemis, Max Cohen, Victor Kao, Sam Polla...</td>\n",
       "    </tr>\n",
       "  </tbody>\n",
       "</table>\n",
       "<p>98 rows × 2 columns</p>\n",
       "</div>"
      ],
      "text/plain": [
       "           opp_pt                                             lineup\n",
       "0       Lantern.2  [Max Cohen, Jesse Gan, Owen Marschall, Odie, S...\n",
       "1       Lantern.3  [Alon Brown, Andrew Edelman, Jon Kwan, Evan Ma...\n",
       "2       Lantern.4  [Max Cohen, Owen Marschall, Odie, Sam Pollack,...\n",
       "3       Lantern.5  [Alon Brown, Andrew Edelman, Sam Feder, Jesse ...\n",
       "4       Lantern.6  [Alon Brown, Andrew Edelman, Jon Kwan, Evan Ma...\n",
       "..            ...                                                ...\n",
       "15  Red Circus.16  [Alon Brown, Andrew Edelman, Jesse Gan, Jon Kw...\n",
       "16  Red Circus.17  [Eliot Bemis, Max Cohen, Victor Kao, Owen Mars...\n",
       "17  Red Circus.18  [Alon Brown, Andrew Edelman, Sam Feder, Jesse ...\n",
       "18  Red Circus.19  [Andrew Edelman, Josh Imhoff, Ian McInerney, O...\n",
       "19  Red Circus.20  [Eliot Bemis, Max Cohen, Victor Kao, Sam Polla...\n",
       "\n",
       "[98 rows x 2 columns]"
      ]
     },
     "execution_count": 116,
     "metadata": {},
     "output_type": "execute_result"
    }
   ],
   "source": [
    "lineups = pd.DataFrame(columns=['opp_pt','lineup'])\n",
    "for d in dicts:\n",
    "    lineups = lineups.append(pd.DataFrame(d))\n",
    "lineups"
   ]
  },
  {
   "cell_type": "code",
   "execution_count": null,
   "metadata": {},
   "outputs": [],
   "source": []
  },
  {
   "cell_type": "code",
   "execution_count": null,
   "metadata": {},
   "outputs": [],
   "source": []
  },
  {
   "cell_type": "code",
   "execution_count": null,
   "metadata": {},
   "outputs": [],
   "source": []
  },
  {
   "cell_type": "code",
   "execution_count": null,
   "metadata": {},
   "outputs": [],
   "source": []
  },
  {
   "cell_type": "code",
   "execution_count": null,
   "metadata": {},
   "outputs": [],
   "source": [
    "#Need to add the 7 players on the line for each point played\n"
   ]
  },
  {
   "cell_type": "markdown",
   "metadata": {},
   "source": [
    "### chart the number of passes per possession and scoring rate"
   ]
  },
  {
   "cell_type": "code",
   "execution_count": null,
   "metadata": {},
   "outputs": [],
   "source": [
    "#create passes per possession bar chart\n",
    "\n",
    "pass_count_list = sorted(unique_poss_df['Passes'])\n",
    "c = Counter(pass_count_list)\n",
    "plt.bar(c.keys(),c.values(),label='Total Possessions')\n",
    "\n",
    "score_unique_poss_df = unique_poss_df[unique_poss_df['Scored?'] == 1]\n",
    "score_pass_count_list = sorted(score_unique_poss_df['Passes'])\n",
    "d = Counter(score_pass_count_list)\n",
    "plt.bar(d.keys(),d.values(),label='Scoring Possessions')\n",
    "\n",
    "plt.xticks(np.arange(1,max(sorted(np.unique(pass_count_list)))+1))\n",
    "plt.yticks(np.arange(max(c.values())+1,step=2))\n",
    "plt.xlabel('Passes')\n",
    "plt.ylabel('# Possessions')\n",
    "plt.title('Passes per Possession')\n",
    "plt.legend()\n",
    "plt.savefig('figs/passes_per_possession.png', dpi=300)\n",
    "plt.show()"
   ]
  },
  {
   "cell_type": "code",
   "execution_count": null,
   "metadata": {},
   "outputs": [],
   "source": [
    "most_passes = full_poss_df['Passes'].max()\n",
    "full_poss_df[full_poss_df['Passes'] == most_passes]"
   ]
  },
  {
   "cell_type": "markdown",
   "metadata": {},
   "source": [
    "### chart all throws on the field"
   ]
  },
  {
   "cell_type": "code",
   "execution_count": null,
   "metadata": {},
   "outputs": [],
   "source": [
    "turnover_df = full_poss_df[full_poss_df['Thrower error?'] == 1]"
   ]
  },
  {
   "cell_type": "code",
   "execution_count": null,
   "metadata": {},
   "outputs": [],
   "source": [
    "assist_df = full_poss_df[full_poss_df['Assist?'] == 1]"
   ]
  },
  {
   "cell_type": "code",
   "execution_count": null,
   "metadata": {},
   "outputs": [],
   "source": [
    "just_throw_df = full_poss_df[(full_poss_df['Assist?'] == 0) & (full_poss_df['Thrower error?'] == 0)]"
   ]
  },
  {
   "cell_type": "code",
   "execution_count": null,
   "metadata": {},
   "outputs": [],
   "source": [
    "#scatter plot of all throwing positions\n",
    "fig = plt.figure(figsize=(4/1.2,11/1.2))\n",
    "\n",
    "#all normal throws\n",
    "plt.scatter(just_throw_df['Start X (0 -> 1 = left sideline -> right sideline)'],\n",
    "           1-just_throw_df['Start Y (0 -> 1 = back of opponent endzone -> back of own endzone)'],\n",
    "           alpha=.5)\n",
    "\n",
    "#assists\n",
    "plt.scatter(assist_df['Start X (0 -> 1 = left sideline -> right sideline)'],\n",
    "           1-assist_df['Start Y (0 -> 1 = back of opponent endzone -> back of own endzone)'],\n",
    "           alpha=1,\n",
    "            c='g',\n",
    "            label='Assist')\n",
    "\n",
    "#turnovers\n",
    "plt.scatter(turnover_df['Start X (0 -> 1 = left sideline -> right sideline)'],\n",
    "           1-turnover_df['Start Y (0 -> 1 = back of opponent endzone -> back of own endzone)'],\n",
    "           alpha=1,\n",
    "            marker='x',\n",
    "            c='r',\n",
    "            label='Turnover')\n",
    "\n",
    "#attacking endzone line\n",
    "x1 = [0,1]\n",
    "y1 = [.8181818,.8181818]\n",
    "plt.plot(x1,y1)\n",
    "\n",
    "#defending endzone line\n",
    "x2 = [0,1]\n",
    "y2 = [.1818181,.1818181]\n",
    "plt.plot(x2,y2)\n",
    "\n",
    "#backhand sideline\n",
    "x3 = [0,0]\n",
    "y3 = [0,1]\n",
    "plt.plot(x3,y3)\n",
    "\n",
    "#flick sideline\n",
    "x4 = [1,1]\n",
    "y4 = [0,1]\n",
    "plt.plot(x4,y4)\n",
    "\n",
    "#attacking backline\n",
    "x5 = [0,1]\n",
    "y5 = [1,1]\n",
    "plt.plot(x5,y5)\n",
    "\n",
    "#defending backline\n",
    "x6 = [0,1]\n",
    "y6 = [0,0]\n",
    "plt.plot(x6,y6)\n",
    "\n",
    "xtick = .25/2\n",
    "ytick = .181818/2\n",
    "\n",
    "plt.xticks(ticks=[xtick,xtick*2,xtick*3,xtick*4,xtick*5,xtick*6,xtick*7],\n",
    "          labels=[5,10,15,20,15,10,5])\n",
    "plt.yticks(ticks=[ytick*2,ytick*3,ytick*4,ytick*5,ytick*6,ytick*7,ytick*8,ytick*9],\n",
    "          labels=[0,10,20,30,40,50,60,'Goal'])\n",
    "#plt.xlabel()\n",
    "#plt.ylabel()\n",
    "plt.legend(loc='upper right')\n",
    "plt.title('All Throw Starting Positions')\n",
    "\n",
    "plt.show()\n",
    "fig.savefig('figs/throw_start_scatter.png',dpi=300,bbox_inches='tight')"
   ]
  },
  {
   "cell_type": "markdown",
   "metadata": {},
   "source": [
    "### Scoring percent by vertical position on field"
   ]
  },
  {
   "cell_type": "code",
   "execution_count": null,
   "metadata": {},
   "outputs": [],
   "source": [
    "#create chart that shows scoring probbality of scoring based on distance from the attacking endzone"
   ]
  },
  {
   "cell_type": "code",
   "execution_count": null,
   "metadata": {},
   "outputs": [],
   "source": [
    "#create bins every two yards\n",
    "bin_list = []\n",
    "yardage = 3\n",
    "for x in range(-3,109,yardage):\n",
    "    bin_list.append(x + yardage)\n",
    "    \n",
    "bins = np.array(bin_list)"
   ]
  },
  {
   "cell_type": "code",
   "execution_count": null,
   "metadata": {},
   "outputs": [],
   "source": [
    "#change bins to 0->1 range\n",
    "bins = [x/110 for x in bins]\n",
    "bins"
   ]
  },
  {
   "cell_type": "code",
   "execution_count": null,
   "metadata": {},
   "outputs": [],
   "source": [
    "full_poss_df['y_bucket'] = pd.cut(full_poss_df['Start Y (0 -> 1 = back of opponent endzone -> back of own endzone)'],\n",
    "                              bins)\n",
    "full_poss_df['y_bucket']"
   ]
  },
  {
   "cell_type": "code",
   "execution_count": null,
   "metadata": {},
   "outputs": [],
   "source": [
    "all_hist = np.histogram(1-full_poss_df['Start Y (0 -> 1 = back of opponent endzone -> back of own endzone)'],bins)\n",
    "len(all_hist[0])"
   ]
  },
  {
   "cell_type": "code",
   "execution_count": null,
   "metadata": {},
   "outputs": [],
   "source": [
    "scored_df = full_poss_df[full_poss_df['Scored?'] == 1]"
   ]
  },
  {
   "cell_type": "code",
   "execution_count": null,
   "metadata": {},
   "outputs": [],
   "source": [
    "scored_hist = np.histogram(1-scored_df['Start Y (0 -> 1 = back of opponent endzone -> back of own endzone)'],bins)\n",
    "len(scored_hist[0])"
   ]
  },
  {
   "cell_type": "code",
   "execution_count": null,
   "metadata": {},
   "outputs": [],
   "source": [
    "all_y = all_hist[0]\n",
    "scored_y = scored_hist[0]\n",
    "bins_data = bins[:-1]\n",
    "d = {'all_y':all_y, 'scored_y':scored_y, 'bins':bins_data}\n",
    "y_score_df = pd.DataFrame(data = d)"
   ]
  },
  {
   "cell_type": "code",
   "execution_count": null,
   "metadata": {},
   "outputs": [],
   "source": [
    "bins[:-1]"
   ]
  },
  {
   "cell_type": "code",
   "execution_count": null,
   "metadata": {},
   "outputs": [],
   "source": [
    "y_score_df['conversion_rate'] = y_score_df['scored_y'] / y_score_df['all_y']"
   ]
  },
  {
   "cell_type": "code",
   "execution_count": null,
   "metadata": {},
   "outputs": [],
   "source": [
    "y_score_df['yards'] = y_score_df.index * yardage\n",
    "y_score_df['yards']"
   ]
  },
  {
   "cell_type": "code",
   "execution_count": null,
   "metadata": {},
   "outputs": [],
   "source": [
    "y_score_df = y_score_df.dropna()\n",
    "y_score_df = y_score_df[y_score_df['all_y'] > 10]\n",
    "y_score_df"
   ]
  },
  {
   "cell_type": "code",
   "execution_count": null,
   "metadata": {},
   "outputs": [],
   "source": [
    "#by vertical position on the field\n",
    "#chance of scoring by field position\n",
    "fig = plt.figure(figsize=(9,4))\n",
    "\n",
    "x = y_score_df['yards']+(.5*yardage)#<-center the point in the middle of the bin\n",
    "y = y_score_df['conversion_rate']\n",
    "#s = y_score_df['all_y']\n",
    "#plt.scatter(x,y,s=s)\n",
    "\n",
    "z = np.polyfit(x, y, 3)\n",
    "p = np.poly1d(z)\n",
    "plt.plot(x,p(x),\"g\")\n",
    "\n",
    "xtick = 10\n",
    "ytick = .1\n",
    "\n",
    "plt.xticks(ticks=[xtick*9,xtick*8,xtick*7,xtick*6,xtick*5,xtick*4,xtick*3,xtick*2,xtick*1,xtick*0],\n",
    "          labels=[90,80,'Own\\nEndzone',60,50,40,30,20,10,'Scoring\\nEndzone'][::-1])\n",
    "plt.yticks(ticks=[ytick,ytick*2,ytick*3,ytick*4,ytick*5,ytick*6,ytick*7,ytick*8,ytick*9,ytick*10])\n",
    "plt.xlabel('Yards from scoring')\n",
    "plt.ylabel('Chance of scoring')\n",
    "#plt.legend(loc='upper right')\n",
    "plt.title('Chance of scoring by field position')\n",
    "\n",
    "plt.grid(which='major', axis='y' ,linestyle='-.', linewidth='.2', color='black')\n",
    "plt.show()\n",
    "fig.savefig('figs/chance_score_field_position.png',dpi=300, \n",
    "            bbox_inches= 'tight')"
   ]
  },
  {
   "cell_type": "markdown",
   "metadata": {},
   "source": [
    "### Scoring percent by horizontal position on field"
   ]
  },
  {
   "cell_type": "code",
   "execution_count": null,
   "metadata": {},
   "outputs": [],
   "source": [
    "#create chart that shows scoring probbality of scoring based on horizontal position on field"
   ]
  },
  {
   "cell_type": "code",
   "execution_count": null,
   "metadata": {},
   "outputs": [],
   "source": [
    "#create bins every two yards\n",
    "ho_bin_list = [0]\n",
    "ho_yardage = 2\n",
    "for x in range(0,40,ho_yardage):\n",
    "    ho_bin_list.append(x + ho_yardage)\n",
    "    \n",
    "ho_bins = np.array(ho_bin_list)"
   ]
  },
  {
   "cell_type": "code",
   "execution_count": null,
   "metadata": {},
   "outputs": [],
   "source": [
    "#change bins to 0->1 range\n",
    "ho_bins = [x/40 for x in ho_bins]\n",
    "ho_bins"
   ]
  },
  {
   "cell_type": "code",
   "execution_count": null,
   "metadata": {},
   "outputs": [],
   "source": [
    "full_poss_df['x_bucket'] = pd.cut(full_poss_df['Start X (0 -> 1 = left sideline -> right sideline)'],\n",
    "                              ho_bins)\n",
    "full_poss_df['x_bucket']"
   ]
  },
  {
   "cell_type": "code",
   "execution_count": null,
   "metadata": {},
   "outputs": [],
   "source": [
    "ho_all_hist = np.histogram(full_poss_df['Start X (0 -> 1 = left sideline -> right sideline)'],ho_bins)\n",
    "len(ho_all_hist[0])"
   ]
  },
  {
   "cell_type": "code",
   "execution_count": null,
   "metadata": {},
   "outputs": [],
   "source": [
    "scored_df"
   ]
  },
  {
   "cell_type": "code",
   "execution_count": null,
   "metadata": {},
   "outputs": [],
   "source": [
    "ho_scored_hist = np.histogram(scored_df['Start X (0 -> 1 = left sideline -> right sideline)'],ho_bins)\n",
    "len(ho_scored_hist[0])"
   ]
  },
  {
   "cell_type": "code",
   "execution_count": null,
   "metadata": {},
   "outputs": [],
   "source": [
    "all_x = ho_all_hist[0]\n",
    "scored_x = ho_scored_hist[0]\n",
    "ho_bins_data = ho_bins[:-1]\n",
    "ho_d = {'all_x':all_x, 'scored_x':scored_x, 'bins':ho_bins_data}\n",
    "x_score_df = pd.DataFrame(data = ho_d)"
   ]
  },
  {
   "cell_type": "code",
   "execution_count": null,
   "metadata": {},
   "outputs": [],
   "source": [
    "ho_bins[:-1]"
   ]
  },
  {
   "cell_type": "code",
   "execution_count": null,
   "metadata": {},
   "outputs": [],
   "source": [
    "x_score_df['conversion_rate'] = x_score_df['scored_x'] / x_score_df['all_x']"
   ]
  },
  {
   "cell_type": "code",
   "execution_count": null,
   "metadata": {},
   "outputs": [],
   "source": [
    "x_score_df['yards'] = x_score_df.index * ho_yardage\n",
    "x_score_df['yards']"
   ]
  },
  {
   "cell_type": "code",
   "execution_count": null,
   "metadata": {
    "scrolled": true
   },
   "outputs": [],
   "source": [
    "x_score_df = x_score_df.dropna()\n",
    "x_score_df = x_score_df[x_score_df['all_x'] > 10]\n",
    "x_score_df"
   ]
  },
  {
   "cell_type": "code",
   "execution_count": null,
   "metadata": {},
   "outputs": [],
   "source": [
    "#by horizontal position on the field\n",
    "#chance of scoring by field position\n",
    "fig = plt.figure(figsize=(4,4))\n",
    "\n",
    "x = x_score_df['yards']+(.5*ho_yardage)#<-center the point in the middle of the bin\n",
    "y = x_score_df['conversion_rate']\n",
    "s = x_score_df['all_x']\n",
    "plt.scatter(x,y,s)\n",
    "\n",
    "z = np.polyfit(x, y, 6)\n",
    "p = np.poly1d(z)\n",
    "plt.plot(x,p(x),\"g\")\n",
    "\n",
    "xtick = 5\n",
    "ytick = .1\n",
    "\n",
    "plt.xticks(ticks=[xtick*8,xtick*7,xtick*6,xtick*5,xtick*4,xtick*3,xtick*2,xtick*1,xtick*0],\n",
    "          labels=[0,5,10,15,20,15,10,5,0])\n",
    "plt.yticks(ticks=[ytick,ytick*2,ytick*3,ytick*4,ytick*5,ytick*6,ytick*7,ytick*8,ytick*9,ytick*10])\n",
    "plt.xlabel('Distance from sideline')\n",
    "plt.ylabel('Chance of scoring')\n",
    "#plt.legend(loc='upper right')\n",
    "plt.title('Chance of scoring by horizontal field position')\n",
    "\n",
    "plt.grid(which='major', axis='y' ,linestyle='-.', linewidth='.2', color='black')\n",
    "plt.show()\n",
    "fig.savefig('figs/chance_score_HORIZONTAL_field_position.png',dpi=300, \n",
    "            bbox_inches= 'tight')"
   ]
  },
  {
   "cell_type": "code",
   "execution_count": null,
   "metadata": {},
   "outputs": [],
   "source": []
  },
  {
   "cell_type": "code",
   "execution_count": null,
   "metadata": {},
   "outputs": [],
   "source": []
  },
  {
   "cell_type": "code",
   "execution_count": null,
   "metadata": {},
   "outputs": [],
   "source": []
  },
  {
   "cell_type": "code",
   "execution_count": null,
   "metadata": {},
   "outputs": [],
   "source": []
  },
  {
   "cell_type": "code",
   "execution_count": null,
   "metadata": {},
   "outputs": [],
   "source": []
  },
  {
   "cell_type": "code",
   "execution_count": null,
   "metadata": {},
   "outputs": [],
   "source": []
  },
  {
   "cell_type": "code",
   "execution_count": null,
   "metadata": {},
   "outputs": [],
   "source": []
  },
  {
   "cell_type": "code",
   "execution_count": null,
   "metadata": {},
   "outputs": [],
   "source": []
  },
  {
   "cell_type": "code",
   "execution_count": null,
   "metadata": {},
   "outputs": [],
   "source": []
  },
  {
   "cell_type": "code",
   "execution_count": null,
   "metadata": {},
   "outputs": [],
   "source": [
    "full_poss_df"
   ]
  },
  {
   "cell_type": "code",
   "execution_count": null,
   "metadata": {},
   "outputs": [],
   "source": [
    "full_poss_df[(full_poss_df['Thrower error?'] == 1) & (full_poss_df['Receiver error?'] == 1)]"
   ]
  },
  {
   "cell_type": "code",
   "execution_count": null,
   "metadata": {},
   "outputs": [],
   "source": [
    "full_poss_df['Turnover?'].sum()"
   ]
  },
  {
   "cell_type": "code",
   "execution_count": null,
   "metadata": {},
   "outputs": [],
   "source": [
    "full_poss_df['Thrower error?'].sum() + full_poss_df['Receiver error?'].sum()"
   ]
  },
  {
   "cell_type": "code",
   "execution_count": null,
   "metadata": {},
   "outputs": [],
   "source": []
  },
  {
   "cell_type": "code",
   "execution_count": null,
   "metadata": {},
   "outputs": [],
   "source": []
  },
  {
   "cell_type": "markdown",
   "metadata": {},
   "source": [
    "### everything below here is just leftover remnants of some other ideas"
   ]
  },
  {
   "cell_type": "markdown",
   "metadata": {},
   "source": [
    "### ADD ALL GAMES DF"
   ]
  },
  {
   "cell_type": "markdown",
   "metadata": {
    "collapsed": true
   },
   "source": [
    "games_file = 'Blueprint 2019 Games.csv'\n",
    "games_df = pd.read_csv(games_file)\n",
    "games_df"
   ]
  },
  {
   "cell_type": "markdown",
   "metadata": {
    "collapsed": true
   },
   "source": [
    "### DETERMINE D TO O RATIOS "
   ]
  },
  {
   "cell_type": "code",
   "execution_count": null,
   "metadata": {},
   "outputs": [],
   "source": [
    "#this was a brief attempt to figure out how to balance the stats of defensive players"
   ]
  },
  {
   "cell_type": "markdown",
   "metadata": {},
   "source": [
    "#determine the qualifier between o points and d points\n",
    "#how many more yards are gained on o points than d points\n",
    "#can use this as some sort of measuring stick to qualify players offensive performance\n",
    "\n",
    "#we can combine the passes and possessions dfs \n",
    "passes_df.columns.intersection(poss_df.columns)"
   ]
  },
  {
   "cell_type": "markdown",
   "metadata": {},
   "source": [
    "full_poss_df.columns"
   ]
  },
  {
   "cell_type": "markdown",
   "metadata": {},
   "source": [
    "#how many more yards are GAINED on o points than d points\n",
    "o_dist_gain = full_poss_df[['Forward distance (m)']].where(full_poss_df['Started point on offense?'] == 1).sum()[0]\n",
    "d_dist_gain = full_poss_df[['Forward distance (m)']].where(full_poss_df['Started point on offense?'] == 0).sum()[0]"
   ]
  },
  {
   "cell_type": "markdown",
   "metadata": {},
   "source": [
    "#how many more yards are TOTAL THROWN on o points than d points\n",
    "o_dist_total = full_poss_df[['Distance (m)']].where(full_poss_df['Started point on offense?'] == 1).sum()[0]\n",
    "d_dist_total = full_poss_df[['Distance (m)']].where(full_poss_df['Started point on offense?'] == 0).sum()[0]"
   ]
  },
  {
   "cell_type": "markdown",
   "metadata": {
    "collapsed": true
   },
   "source": [
    "mult_d_total = ((o_dist_total + d_dist_total) / 2) / d_dist_total\n",
    "mult_o_total = ((o_dist_total + d_dist_total) / 2) / o_dist_total"
   ]
  },
  {
   "cell_type": "markdown",
   "metadata": {
    "collapsed": true
   },
   "source": [
    "mult_d_gain = ((o_dist_gain / d_dist_gain) / 2) / d_dist_gain\n",
    "mult_o_gain = ((o_dist_gain / d_dist_gain) / 2) / o_dist_gain"
   ]
  },
  {
   "cell_type": "markdown",
   "metadata": {
    "collapsed": true
   },
   "source": [
    "#find o to d pp ratio\n",
    "player_stats_df['o_d_pp_ratio'] = player_stats_df['Offense points played'] / player_stats_df['Points played total']"
   ]
  },
  {
   "cell_type": "markdown",
   "metadata": {
    "collapsed": true
   },
   "source": [
    "o_pp_ratio = player_stats_df.loc[0,'o_d_pp_ratio']"
   ]
  },
  {
   "cell_type": "markdown",
   "metadata": {
    "collapsed": true
   },
   "source": [
    "player_stats_df.loc[0,'Total completed throw distance (m)']"
   ]
  },
  {
   "cell_type": "markdown",
   "metadata": {
    "collapsed": true
   },
   "source": [
    "o_pp_ratio * abs(1-mult_d_total)"
   ]
  },
  {
   "cell_type": "code",
   "execution_count": null,
   "metadata": {},
   "outputs": [],
   "source": []
  },
  {
   "cell_type": "code",
   "execution_count": null,
   "metadata": {},
   "outputs": [],
   "source": []
  },
  {
   "cell_type": "code",
   "execution_count": null,
   "metadata": {},
   "outputs": [],
   "source": []
  },
  {
   "cell_type": "code",
   "execution_count": null,
   "metadata": {},
   "outputs": [],
   "source": []
  },
  {
   "cell_type": "code",
   "execution_count": null,
   "metadata": {},
   "outputs": [],
   "source": []
  }
 ],
 "metadata": {
  "kernelspec": {
   "display_name": "Python 3",
   "language": "python",
   "name": "python3"
  },
  "language_info": {
   "codemirror_mode": {
    "name": "ipython",
    "version": 3
   },
   "file_extension": ".py",
   "mimetype": "text/x-python",
   "name": "python",
   "nbconvert_exporter": "python",
   "pygments_lexer": "ipython3",
   "version": "3.7.4"
  }
 },
 "nbformat": 4,
 "nbformat_minor": 2
}
